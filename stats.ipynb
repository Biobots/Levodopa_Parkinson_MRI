{
 "cells": [
  {
   "cell_type": "code",
   "execution_count": 2,
   "metadata": {},
   "outputs": [],
   "source": [
    "import nibabel as nib\n",
    "import numpy as np\n",
    "import json\n",
    "import os\n",
    "import os.path\n",
    "import matplotlib.pyplot as plt\n",
    "import pandas as pd\n",
    "from src.utils.data import getDataPandas"
   ]
  },
  {
   "cell_type": "code",
   "execution_count": 3,
   "metadata": {},
   "outputs": [],
   "source": [
    "data = getDataPandas()\n",
    "data = data.sample(frac=1, random_state=1).reset_index(drop=True)"
   ]
  },
  {
   "cell_type": "code",
   "execution_count": 4,
   "metadata": {},
   "outputs": [
    {
     "name": "stdout",
     "output_type": "stream",
     "text": [
      "患者出现不止一次: 202\n"
     ]
    }
   ],
   "source": [
    "dup = np.sum(data.duplicated(subset=['PATNO']))\n",
    "print('患者出现不止一次: {}'.format(dup))"
   ]
  },
  {
   "cell_type": "code",
   "execution_count": 5,
   "metadata": {},
   "outputs": [],
   "source": [
    "data_pvi = data\n",
    "data_pv = data.drop_duplicates(subset=['PATNO', 'EVENT_ID'], keep='first').reset_index(drop=True)\n",
    "data_p = data.drop_duplicates(subset=['PATNO'], keep='first').reset_index(drop=True)"
   ]
  },
  {
   "cell_type": "code",
   "execution_count": 5,
   "metadata": {},
   "outputs": [
    {
     "name": "stdout",
     "output_type": "stream",
     "text": [
      "233\n",
      "130\n",
      "190\n",
      "173\n"
     ]
    },
    {
     "data": {
      "text/html": [
       "<div>\n",
       "<style scoped>\n",
       "    .dataframe tbody tr th:only-of-type {\n",
       "        vertical-align: middle;\n",
       "    }\n",
       "\n",
       "    .dataframe tbody tr th {\n",
       "        vertical-align: top;\n",
       "    }\n",
       "\n",
       "    .dataframe thead th {\n",
       "        text-align: right;\n",
       "    }\n",
       "</style>\n",
       "<table border=\"1\" class=\"dataframe\">\n",
       "  <thead>\n",
       "    <tr style=\"text-align: right;\">\n",
       "      <th></th>\n",
       "      <th>PATNO</th>\n",
       "      <th>NUPDR3OF</th>\n",
       "      <th>NUPDR3ON</th>\n",
       "      <th>AGE_AT_VISIT</th>\n",
       "      <th>SEX</th>\n",
       "      <th>SCORE</th>\n",
       "      <th>DURATION</th>\n",
       "      <th>CAT</th>\n",
       "    </tr>\n",
       "  </thead>\n",
       "  <tbody>\n",
       "    <tr>\n",
       "      <th>count</th>\n",
       "      <td>363.000000</td>\n",
       "      <td>363.000000</td>\n",
       "      <td>363.00000</td>\n",
       "      <td>363.000000</td>\n",
       "      <td>363.000000</td>\n",
       "      <td>363.000000</td>\n",
       "      <td>363.000000</td>\n",
       "      <td>363.000000</td>\n",
       "    </tr>\n",
       "    <tr>\n",
       "      <th>mean</th>\n",
       "      <td>28557.184573</td>\n",
       "      <td>28.363636</td>\n",
       "      <td>19.07438</td>\n",
       "      <td>64.442424</td>\n",
       "      <td>0.641873</td>\n",
       "      <td>0.327477</td>\n",
       "      <td>46.732782</td>\n",
       "      <td>0.523416</td>\n",
       "    </tr>\n",
       "    <tr>\n",
       "      <th>std</th>\n",
       "      <td>28588.427233</td>\n",
       "      <td>12.299665</td>\n",
       "      <td>11.24501</td>\n",
       "      <td>9.103962</td>\n",
       "      <td>0.480111</td>\n",
       "      <td>0.244642</td>\n",
       "      <td>21.599511</td>\n",
       "      <td>0.500141</td>\n",
       "    </tr>\n",
       "    <tr>\n",
       "      <th>min</th>\n",
       "      <td>3107.000000</td>\n",
       "      <td>2.000000</td>\n",
       "      <td>1.00000</td>\n",
       "      <td>35.100000</td>\n",
       "      <td>0.000000</td>\n",
       "      <td>-0.272727</td>\n",
       "      <td>2.000000</td>\n",
       "      <td>0.000000</td>\n",
       "    </tr>\n",
       "    <tr>\n",
       "      <th>25%</th>\n",
       "      <td>3558.000000</td>\n",
       "      <td>19.000000</td>\n",
       "      <td>11.00000</td>\n",
       "      <td>58.400000</td>\n",
       "      <td>0.000000</td>\n",
       "      <td>0.156725</td>\n",
       "      <td>30.000000</td>\n",
       "      <td>0.000000</td>\n",
       "    </tr>\n",
       "    <tr>\n",
       "      <th>50%</th>\n",
       "      <td>4083.000000</td>\n",
       "      <td>27.000000</td>\n",
       "      <td>18.00000</td>\n",
       "      <td>65.500000</td>\n",
       "      <td>1.000000</td>\n",
       "      <td>0.312500</td>\n",
       "      <td>51.000000</td>\n",
       "      <td>1.000000</td>\n",
       "    </tr>\n",
       "    <tr>\n",
       "      <th>75%</th>\n",
       "      <td>50173.500000</td>\n",
       "      <td>36.000000</td>\n",
       "      <td>25.00000</td>\n",
       "      <td>71.300000</td>\n",
       "      <td>1.000000</td>\n",
       "      <td>0.492424</td>\n",
       "      <td>57.000000</td>\n",
       "      <td>1.000000</td>\n",
       "    </tr>\n",
       "    <tr>\n",
       "      <th>max</th>\n",
       "      <td>149511.000000</td>\n",
       "      <td>62.000000</td>\n",
       "      <td>64.00000</td>\n",
       "      <td>86.300000</td>\n",
       "      <td>1.000000</td>\n",
       "      <td>0.956522</td>\n",
       "      <td>112.000000</td>\n",
       "      <td>1.000000</td>\n",
       "    </tr>\n",
       "  </tbody>\n",
       "</table>\n",
       "</div>"
      ],
      "text/plain": [
       "               PATNO    NUPDR3OF   NUPDR3ON  AGE_AT_VISIT         SEX  \\\n",
       "count     363.000000  363.000000  363.00000    363.000000  363.000000   \n",
       "mean    28557.184573   28.363636   19.07438     64.442424    0.641873   \n",
       "std     28588.427233   12.299665   11.24501      9.103962    0.480111   \n",
       "min      3107.000000    2.000000    1.00000     35.100000    0.000000   \n",
       "25%      3558.000000   19.000000   11.00000     58.400000    0.000000   \n",
       "50%      4083.000000   27.000000   18.00000     65.500000    1.000000   \n",
       "75%     50173.500000   36.000000   25.00000     71.300000    1.000000   \n",
       "max    149511.000000   62.000000   64.00000     86.300000    1.000000   \n",
       "\n",
       "            SCORE    DURATION         CAT  \n",
       "count  363.000000  363.000000  363.000000  \n",
       "mean     0.327477   46.732782    0.523416  \n",
       "std      0.244642   21.599511    0.500141  \n",
       "min     -0.272727    2.000000    0.000000  \n",
       "25%      0.156725   30.000000    0.000000  \n",
       "50%      0.312500   51.000000    1.000000  \n",
       "75%      0.492424   57.000000    1.000000  \n",
       "max      0.956522  112.000000    1.000000  "
      ]
     },
     "execution_count": 5,
     "metadata": {},
     "output_type": "execute_result"
    }
   ],
   "source": [
    "print(len(data[data_pvi['SEX']==1]))\n",
    "print(len(data[data_pvi['SEX']==0]))\n",
    "print(len(data[data_pvi['CAT']==1]))\n",
    "print(len(data[data_pvi['CAT']==0]))\n",
    "data_pvi.describe()"
   ]
  },
  {
   "cell_type": "code",
   "execution_count": 6,
   "metadata": {},
   "outputs": [
    {
     "name": "stdout",
     "output_type": "stream",
     "text": [
      "157\n",
      "81\n",
      "118\n",
      "120\n"
     ]
    },
    {
     "data": {
      "text/html": [
       "<div>\n",
       "<style scoped>\n",
       "    .dataframe tbody tr th:only-of-type {\n",
       "        vertical-align: middle;\n",
       "    }\n",
       "\n",
       "    .dataframe tbody tr th {\n",
       "        vertical-align: top;\n",
       "    }\n",
       "\n",
       "    .dataframe thead th {\n",
       "        text-align: right;\n",
       "    }\n",
       "</style>\n",
       "<table border=\"1\" class=\"dataframe\">\n",
       "  <thead>\n",
       "    <tr style=\"text-align: right;\">\n",
       "      <th></th>\n",
       "      <th>PATNO</th>\n",
       "      <th>NUPDR3OF</th>\n",
       "      <th>NUPDR3ON</th>\n",
       "      <th>AGE_AT_VISIT</th>\n",
       "      <th>SEX</th>\n",
       "      <th>SCORE</th>\n",
       "      <th>DURATION</th>\n",
       "      <th>CAT</th>\n",
       "    </tr>\n",
       "  </thead>\n",
       "  <tbody>\n",
       "    <tr>\n",
       "      <th>count</th>\n",
       "      <td>238.000000</td>\n",
       "      <td>238.000000</td>\n",
       "      <td>238.000000</td>\n",
       "      <td>238.000000</td>\n",
       "      <td>238.000000</td>\n",
       "      <td>238.000000</td>\n",
       "      <td>238.000000</td>\n",
       "      <td>238.000000</td>\n",
       "    </tr>\n",
       "    <tr>\n",
       "      <th>mean</th>\n",
       "      <td>28304.176471</td>\n",
       "      <td>27.134454</td>\n",
       "      <td>18.592437</td>\n",
       "      <td>63.679832</td>\n",
       "      <td>0.659664</td>\n",
       "      <td>0.310289</td>\n",
       "      <td>42.159664</td>\n",
       "      <td>0.495798</td>\n",
       "    </tr>\n",
       "    <tr>\n",
       "      <th>std</th>\n",
       "      <td>30601.500171</td>\n",
       "      <td>12.409962</td>\n",
       "      <td>11.014656</td>\n",
       "      <td>9.211478</td>\n",
       "      <td>0.474821</td>\n",
       "      <td>0.247438</td>\n",
       "      <td>22.511125</td>\n",
       "      <td>0.501036</td>\n",
       "    </tr>\n",
       "    <tr>\n",
       "      <th>min</th>\n",
       "      <td>3107.000000</td>\n",
       "      <td>2.000000</td>\n",
       "      <td>1.000000</td>\n",
       "      <td>35.100000</td>\n",
       "      <td>0.000000</td>\n",
       "      <td>-0.272727</td>\n",
       "      <td>2.000000</td>\n",
       "      <td>0.000000</td>\n",
       "    </tr>\n",
       "    <tr>\n",
       "      <th>25%</th>\n",
       "      <td>3425.250000</td>\n",
       "      <td>17.250000</td>\n",
       "      <td>10.250000</td>\n",
       "      <td>56.900000</td>\n",
       "      <td>0.000000</td>\n",
       "      <td>0.114583</td>\n",
       "      <td>25.000000</td>\n",
       "      <td>0.000000</td>\n",
       "    </tr>\n",
       "    <tr>\n",
       "      <th>50%</th>\n",
       "      <td>4024.000000</td>\n",
       "      <td>26.000000</td>\n",
       "      <td>17.000000</td>\n",
       "      <td>64.850000</td>\n",
       "      <td>1.000000</td>\n",
       "      <td>0.294770</td>\n",
       "      <td>41.500000</td>\n",
       "      <td>0.000000</td>\n",
       "    </tr>\n",
       "    <tr>\n",
       "      <th>75%</th>\n",
       "      <td>50028.000000</td>\n",
       "      <td>35.000000</td>\n",
       "      <td>24.000000</td>\n",
       "      <td>70.600000</td>\n",
       "      <td>1.000000</td>\n",
       "      <td>0.469551</td>\n",
       "      <td>54.000000</td>\n",
       "      <td>1.000000</td>\n",
       "    </tr>\n",
       "    <tr>\n",
       "      <th>max</th>\n",
       "      <td>149511.000000</td>\n",
       "      <td>62.000000</td>\n",
       "      <td>64.000000</td>\n",
       "      <td>86.300000</td>\n",
       "      <td>1.000000</td>\n",
       "      <td>0.956522</td>\n",
       "      <td>112.000000</td>\n",
       "      <td>1.000000</td>\n",
       "    </tr>\n",
       "  </tbody>\n",
       "</table>\n",
       "</div>"
      ],
      "text/plain": [
       "               PATNO    NUPDR3OF    NUPDR3ON  AGE_AT_VISIT         SEX  \\\n",
       "count     238.000000  238.000000  238.000000    238.000000  238.000000   \n",
       "mean    28304.176471   27.134454   18.592437     63.679832    0.659664   \n",
       "std     30601.500171   12.409962   11.014656      9.211478    0.474821   \n",
       "min      3107.000000    2.000000    1.000000     35.100000    0.000000   \n",
       "25%      3425.250000   17.250000   10.250000     56.900000    0.000000   \n",
       "50%      4024.000000   26.000000   17.000000     64.850000    1.000000   \n",
       "75%     50028.000000   35.000000   24.000000     70.600000    1.000000   \n",
       "max    149511.000000   62.000000   64.000000     86.300000    1.000000   \n",
       "\n",
       "            SCORE    DURATION         CAT  \n",
       "count  238.000000  238.000000  238.000000  \n",
       "mean     0.310289   42.159664    0.495798  \n",
       "std      0.247438   22.511125    0.501036  \n",
       "min     -0.272727    2.000000    0.000000  \n",
       "25%      0.114583   25.000000    0.000000  \n",
       "50%      0.294770   41.500000    0.000000  \n",
       "75%      0.469551   54.000000    1.000000  \n",
       "max      0.956522  112.000000    1.000000  "
      ]
     },
     "execution_count": 6,
     "metadata": {},
     "output_type": "execute_result"
    }
   ],
   "source": [
    "print(len(data_pv[data_pv['SEX']==1]))\n",
    "print(len(data_pv[data_pv['SEX']==0]))\n",
    "print(len(data_pv[data_pv['CAT']==1]))\n",
    "print(len(data_pv[data_pv['CAT']==0]))\n",
    "data_pv.describe()"
   ]
  },
  {
   "cell_type": "code",
   "execution_count": 7,
   "metadata": {},
   "outputs": [
    {
     "name": "stdout",
     "output_type": "stream",
     "text": [
      "103\n",
      "58\n",
      "82\n",
      "79\n"
     ]
    },
    {
     "data": {
      "text/html": [
       "<div>\n",
       "<style scoped>\n",
       "    .dataframe tbody tr th:only-of-type {\n",
       "        vertical-align: middle;\n",
       "    }\n",
       "\n",
       "    .dataframe tbody tr th {\n",
       "        vertical-align: top;\n",
       "    }\n",
       "\n",
       "    .dataframe thead th {\n",
       "        text-align: right;\n",
       "    }\n",
       "</style>\n",
       "<table border=\"1\" class=\"dataframe\">\n",
       "  <thead>\n",
       "    <tr style=\"text-align: right;\">\n",
       "      <th></th>\n",
       "      <th>PATNO</th>\n",
       "      <th>NUPDR3OF</th>\n",
       "      <th>NUPDR3ON</th>\n",
       "      <th>AGE_AT_VISIT</th>\n",
       "      <th>SEX</th>\n",
       "      <th>SCORE</th>\n",
       "      <th>DURATION</th>\n",
       "      <th>CAT</th>\n",
       "    </tr>\n",
       "  </thead>\n",
       "  <tbody>\n",
       "    <tr>\n",
       "      <th>count</th>\n",
       "      <td>161.000000</td>\n",
       "      <td>161.000000</td>\n",
       "      <td>161.000000</td>\n",
       "      <td>161.000000</td>\n",
       "      <td>161.000000</td>\n",
       "      <td>161.000000</td>\n",
       "      <td>161.000000</td>\n",
       "      <td>161.000000</td>\n",
       "    </tr>\n",
       "    <tr>\n",
       "      <th>mean</th>\n",
       "      <td>33415.950311</td>\n",
       "      <td>27.167702</td>\n",
       "      <td>18.335404</td>\n",
       "      <td>63.625466</td>\n",
       "      <td>0.639752</td>\n",
       "      <td>0.314270</td>\n",
       "      <td>44.093168</td>\n",
       "      <td>0.509317</td>\n",
       "    </tr>\n",
       "    <tr>\n",
       "      <th>std</th>\n",
       "      <td>32615.365639</td>\n",
       "      <td>12.595751</td>\n",
       "      <td>11.211012</td>\n",
       "      <td>9.637507</td>\n",
       "      <td>0.481570</td>\n",
       "      <td>0.255062</td>\n",
       "      <td>23.615620</td>\n",
       "      <td>0.501473</td>\n",
       "    </tr>\n",
       "    <tr>\n",
       "      <th>min</th>\n",
       "      <td>3107.000000</td>\n",
       "      <td>2.000000</td>\n",
       "      <td>1.000000</td>\n",
       "      <td>35.100000</td>\n",
       "      <td>0.000000</td>\n",
       "      <td>-0.272727</td>\n",
       "      <td>2.000000</td>\n",
       "      <td>0.000000</td>\n",
       "    </tr>\n",
       "    <tr>\n",
       "      <th>25%</th>\n",
       "      <td>3567.000000</td>\n",
       "      <td>18.000000</td>\n",
       "      <td>10.000000</td>\n",
       "      <td>56.300000</td>\n",
       "      <td>0.000000</td>\n",
       "      <td>0.111111</td>\n",
       "      <td>25.000000</td>\n",
       "      <td>0.000000</td>\n",
       "    </tr>\n",
       "    <tr>\n",
       "      <th>50%</th>\n",
       "      <td>40586.000000</td>\n",
       "      <td>26.000000</td>\n",
       "      <td>17.000000</td>\n",
       "      <td>65.000000</td>\n",
       "      <td>1.000000</td>\n",
       "      <td>0.300000</td>\n",
       "      <td>50.000000</td>\n",
       "      <td>1.000000</td>\n",
       "    </tr>\n",
       "    <tr>\n",
       "      <th>75%</th>\n",
       "      <td>52128.000000</td>\n",
       "      <td>36.000000</td>\n",
       "      <td>23.000000</td>\n",
       "      <td>70.800000</td>\n",
       "      <td>1.000000</td>\n",
       "      <td>0.500000</td>\n",
       "      <td>56.000000</td>\n",
       "      <td>1.000000</td>\n",
       "    </tr>\n",
       "    <tr>\n",
       "      <th>max</th>\n",
       "      <td>149511.000000</td>\n",
       "      <td>62.000000</td>\n",
       "      <td>64.000000</td>\n",
       "      <td>86.300000</td>\n",
       "      <td>1.000000</td>\n",
       "      <td>0.956522</td>\n",
       "      <td>112.000000</td>\n",
       "      <td>1.000000</td>\n",
       "    </tr>\n",
       "  </tbody>\n",
       "</table>\n",
       "</div>"
      ],
      "text/plain": [
       "               PATNO    NUPDR3OF    NUPDR3ON  AGE_AT_VISIT         SEX  \\\n",
       "count     161.000000  161.000000  161.000000    161.000000  161.000000   \n",
       "mean    33415.950311   27.167702   18.335404     63.625466    0.639752   \n",
       "std     32615.365639   12.595751   11.211012      9.637507    0.481570   \n",
       "min      3107.000000    2.000000    1.000000     35.100000    0.000000   \n",
       "25%      3567.000000   18.000000   10.000000     56.300000    0.000000   \n",
       "50%     40586.000000   26.000000   17.000000     65.000000    1.000000   \n",
       "75%     52128.000000   36.000000   23.000000     70.800000    1.000000   \n",
       "max    149511.000000   62.000000   64.000000     86.300000    1.000000   \n",
       "\n",
       "            SCORE    DURATION         CAT  \n",
       "count  161.000000  161.000000  161.000000  \n",
       "mean     0.314270   44.093168    0.509317  \n",
       "std      0.255062   23.615620    0.501473  \n",
       "min     -0.272727    2.000000    0.000000  \n",
       "25%      0.111111   25.000000    0.000000  \n",
       "50%      0.300000   50.000000    1.000000  \n",
       "75%      0.500000   56.000000    1.000000  \n",
       "max      0.956522  112.000000    1.000000  "
      ]
     },
     "execution_count": 7,
     "metadata": {},
     "output_type": "execute_result"
    }
   ],
   "source": [
    "print(len(data_p[data_p['SEX']==1]))\n",
    "print(len(data_p[data_p['SEX']==0]))\n",
    "print(len(data_p[data_p['CAT']==1]))\n",
    "print(len(data_p[data_p['CAT']==0]))\n",
    "data_p.describe()"
   ]
  },
  {
   "cell_type": "code",
   "execution_count": 16,
   "metadata": {},
   "outputs": [
    {
     "data": {
      "text/plain": [
       "Text(0.5, 1.0, 'U3 ON')"
      ]
     },
     "execution_count": 16,
     "metadata": {},
     "output_type": "execute_result"
    },
    {
     "data": {
      "image/png": "[encoded data removed]",
      "text/plain": [
       "<Figure size 640x480 with 1 Axes>"
      ]
     },
     "metadata": {},
     "output_type": "display_data"
    }
   ],
   "source": [
    "plt.hist([data_p['NUPDR3ON']], 20, label=['P'], alpha=0.7)\n",
    "plt.legend()\n",
    "plt.title('U3 ON')"
   ]
  },
  {
   "cell_type": "code",
   "execution_count": 17,
   "metadata": {},
   "outputs": [
    {
     "data": {
      "text/plain": [
       "Text(0.5, 1.0, 'U3 OFF')"
      ]
     },
     "execution_count": 17,
     "metadata": {},
     "output_type": "execute_result"
    },
    {
     "data": {
      "image/png": "[encoded data removed]",
      "text/plain": [
       "<Figure size 640x480 with 1 Axes>"
      ]
     },
     "metadata": {},
     "output_type": "display_data"
    }
   ],
   "source": [
    "plt.hist([data_p['NUPDR3OF']], 20, label=['P'], alpha=0.7)\n",
    "plt.legend()\n",
    "plt.title('U3 OFF')"
   ]
  },
  {
   "cell_type": "code",
   "execution_count": 18,
   "metadata": {},
   "outputs": [
    {
     "data": {
      "text/plain": [
       "Text(0.5, 1.0, 'SCORE')"
      ]
     },
     "execution_count": 18,
     "metadata": {},
     "output_type": "execute_result"
    },
    {
     "data": {
      "image/png": "[encoded data removed]",
      "text/plain": [
       "<Figure size 640x480 with 1 Axes>"
      ]
     },
     "metadata": {},
     "output_type": "display_data"
    }
   ],
   "source": [
    "plt.hist([data_p['SCORE']], 20, label=['P'], alpha=0.7)\n",
    "plt.legend()\n",
    "plt.title('SCORE')"
   ]
  },
  {
   "cell_type": "code",
   "execution_count": 19,
   "metadata": {},
   "outputs": [
    {
     "data": {
      "text/plain": [
       "Text(0.5, 1.0, 'DURATION')"
      ]
     },
     "execution_count": 19,
     "metadata": {},
     "output_type": "execute_result"
    },
    {
     "data": {
      "image/png": "[encoded data removed]",
      "text/plain": [
       "<Figure size 640x480 with 1 Axes>"
      ]
     },
     "metadata": {},
     "output_type": "display_data"
    }
   ],
   "source": [
    "plt.hist([data_p['DURATION']], 20, label=['P'], alpha=0.7)\n",
    "plt.legend()\n",
    "plt.title('DURATION')"
   ]
  },
  {
   "cell_type": "code",
   "execution_count": 20,
   "metadata": {},
   "outputs": [
    {
     "data": {
      "text/plain": [
       "Text(0.5, 1.0, 'AGE_AT_VISIT')"
      ]
     },
     "execution_count": 20,
     "metadata": {},
     "output_type": "execute_result"
    },
    {
     "data": {
      "image/png": "[encoded data removed]",
      "text/plain": [
       "<Figure size 640x480 with 1 Axes>"
      ]
     },
     "metadata": {},
     "output_type": "display_data"
    }
   ],
   "source": [
    "plt.hist([data_p['AGE_AT_VISIT']], 20, label=['P'], alpha=0.7)\n",
    "plt.legend()\n",
    "plt.title('AGE_AT_VISIT')"
   ]
  }
 ],
 "metadata": {
  "kernelspec": {
   "display_name": "Python 3.8.10 64-bit ('3.8.10')",
   "language": "python",
   "name": "python3"
  },
  "language_info": {
   "codemirror_mode": {
    "name": "ipython",
    "version": 3
   },
   "file_extension": ".py",
   "mimetype": "text/x-python",
   "name": "python",
   "nbconvert_exporter": "python",
   "pygments_lexer": "ipython3",
   "version": "3.8.10"
  },
  "orig_nbformat": 4,
  "vscode": {
   "interpreter": {
    "hash": "420353a47962bc0cada1a6173771095a3d05bd8a3ecc61a5b633bf029926f1ac"
   }
  }
 },
 "nbformat": 4,
 "nbformat_minor": 2
}
