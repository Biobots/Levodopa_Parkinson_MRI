{
 "cells": [
  {
   "cell_type": "code",
   "execution_count": 1,
   "metadata": {},
   "outputs": [],
   "source": [
    "import nibabel as nib\n",
    "import numpy as np\n",
    "import json\n",
    "import os\n",
    "import os.path\n",
    "import matplotlib.pyplot as plt\n",
    "import pandas as pd\n",
    "from src.utils.data import getDataPandas"
   ]
  },
  {
   "cell_type": "code",
   "execution_count": 2,
   "metadata": {},
   "outputs": [],
   "source": [
    "data = getDataPandas()\n",
    "data = data.sample(frac=1, random_state=1).reset_index(drop=True)"
   ]
  },
  {
   "cell_type": "code",
   "execution_count": 3,
   "metadata": {},
   "outputs": [
    {
     "name": "stdout",
     "output_type": "stream",
     "text": [
      "患者出现不止一次: 176\n"
     ]
    }
   ],
   "source": [
    "dup = np.sum(data.duplicated(subset=['PATNO']))\n",
    "print('患者出现不止一次: {}'.format(dup))"
   ]
  },
  {
   "cell_type": "code",
   "execution_count": 4,
   "metadata": {},
   "outputs": [],
   "source": [
    "data_pvi = data\n",
    "data_pv = data.drop_duplicates(subset=['PATNO', 'EVENT_ID'], keep='first').reset_index(drop=True)\n",
    "data_p = data.drop_duplicates(subset=['PATNO'], keep='first').reset_index(drop=True)"
   ]
  },
  {
   "cell_type": "code",
   "execution_count": 5,
   "metadata": {},
   "outputs": [
    {
     "name": "stdout",
     "output_type": "stream",
     "text": [
      "325\n",
      "222\n",
      "149\n"
     ]
    }
   ],
   "source": [
    "print(len(data_pvi))\n",
    "print(len(data_pv))\n",
    "print(len(data_p))"
   ]
  },
  {
   "cell_type": "code",
   "execution_count": 6,
   "metadata": {},
   "outputs": [
    {
     "name": "stdout",
     "output_type": "stream",
     "text": [
      "206\n",
      "119\n",
      "173\n",
      "152\n"
     ]
    },
    {
     "data": {
      "text/html": [
       "<div>\n",
       "<style scoped>\n",
       "    .dataframe tbody tr th:only-of-type {\n",
       "        vertical-align: middle;\n",
       "    }\n",
       "\n",
       "    .dataframe tbody tr th {\n",
       "        vertical-align: top;\n",
       "    }\n",
       "\n",
       "    .dataframe thead th {\n",
       "        text-align: right;\n",
       "    }\n",
       "</style>\n",
       "<table border=\"1\" class=\"dataframe\">\n",
       "  <thead>\n",
       "    <tr style=\"text-align: right;\">\n",
       "      <th></th>\n",
       "      <th>PATNO</th>\n",
       "      <th>NUPDR3OF</th>\n",
       "      <th>NUPDR3ON</th>\n",
       "      <th>AGE_AT_VISIT</th>\n",
       "      <th>SEX</th>\n",
       "      <th>SCORE</th>\n",
       "      <th>DURATION</th>\n",
       "      <th>CAT</th>\n",
       "      <th>LEDD</th>\n",
       "      <th>IQR</th>\n",
       "    </tr>\n",
       "  </thead>\n",
       "  <tbody>\n",
       "    <tr>\n",
       "      <th>count</th>\n",
       "      <td>325.000000</td>\n",
       "      <td>325.000000</td>\n",
       "      <td>325.000000</td>\n",
       "      <td>325.000000</td>\n",
       "      <td>325.000000</td>\n",
       "      <td>325.000000</td>\n",
       "      <td>325.000000</td>\n",
       "      <td>325.000000</td>\n",
       "      <td>325.000000</td>\n",
       "      <td>325.000000</td>\n",
       "    </tr>\n",
       "    <tr>\n",
       "      <th>mean</th>\n",
       "      <td>25579.947692</td>\n",
       "      <td>28.163077</td>\n",
       "      <td>18.818462</td>\n",
       "      <td>64.132000</td>\n",
       "      <td>0.633846</td>\n",
       "      <td>0.330156</td>\n",
       "      <td>46.633846</td>\n",
       "      <td>0.532308</td>\n",
       "      <td>682.858825</td>\n",
       "      <td>78.480862</td>\n",
       "    </tr>\n",
       "    <tr>\n",
       "      <th>std</th>\n",
       "      <td>26602.149968</td>\n",
       "      <td>12.419911</td>\n",
       "      <td>11.289442</td>\n",
       "      <td>9.259064</td>\n",
       "      <td>0.482495</td>\n",
       "      <td>0.250865</td>\n",
       "      <td>21.190307</td>\n",
       "      <td>0.499725</td>\n",
       "      <td>493.060277</td>\n",
       "      <td>3.434491</td>\n",
       "    </tr>\n",
       "    <tr>\n",
       "      <th>min</th>\n",
       "      <td>3107.000000</td>\n",
       "      <td>2.000000</td>\n",
       "      <td>1.000000</td>\n",
       "      <td>35.100000</td>\n",
       "      <td>0.000000</td>\n",
       "      <td>-0.272727</td>\n",
       "      <td>2.000000</td>\n",
       "      <td>0.000000</td>\n",
       "      <td>30.000000</td>\n",
       "      <td>70.090000</td>\n",
       "    </tr>\n",
       "    <tr>\n",
       "      <th>25%</th>\n",
       "      <td>3552.000000</td>\n",
       "      <td>19.000000</td>\n",
       "      <td>10.000000</td>\n",
       "      <td>57.400000</td>\n",
       "      <td>0.000000</td>\n",
       "      <td>0.153846</td>\n",
       "      <td>30.000000</td>\n",
       "      <td>0.000000</td>\n",
       "      <td>350.000000</td>\n",
       "      <td>76.220000</td>\n",
       "    </tr>\n",
       "    <tr>\n",
       "      <th>50%</th>\n",
       "      <td>4019.000000</td>\n",
       "      <td>28.000000</td>\n",
       "      <td>17.000000</td>\n",
       "      <td>65.000000</td>\n",
       "      <td>1.000000</td>\n",
       "      <td>0.333333</td>\n",
       "      <td>51.000000</td>\n",
       "      <td>1.000000</td>\n",
       "      <td>600.000000</td>\n",
       "      <td>79.070000</td>\n",
       "    </tr>\n",
       "    <tr>\n",
       "      <th>75%</th>\n",
       "      <td>41749.000000</td>\n",
       "      <td>36.000000</td>\n",
       "      <td>25.000000</td>\n",
       "      <td>71.300000</td>\n",
       "      <td>1.000000</td>\n",
       "      <td>0.500000</td>\n",
       "      <td>56.000000</td>\n",
       "      <td>1.000000</td>\n",
       "      <td>891.100000</td>\n",
       "      <td>81.180000</td>\n",
       "    </tr>\n",
       "    <tr>\n",
       "      <th>max</th>\n",
       "      <td>149511.000000</td>\n",
       "      <td>62.000000</td>\n",
       "      <td>64.000000</td>\n",
       "      <td>86.300000</td>\n",
       "      <td>1.000000</td>\n",
       "      <td>0.956522</td>\n",
       "      <td>112.000000</td>\n",
       "      <td>1.000000</td>\n",
       "      <td>5140.450000</td>\n",
       "      <td>84.970000</td>\n",
       "    </tr>\n",
       "  </tbody>\n",
       "</table>\n",
       "</div>"
      ],
      "text/plain": [
       "               PATNO    NUPDR3OF    NUPDR3ON  AGE_AT_VISIT         SEX  \\\n",
       "count     325.000000  325.000000  325.000000    325.000000  325.000000   \n",
       "mean    25579.947692   28.163077   18.818462     64.132000    0.633846   \n",
       "std     26602.149968   12.419911   11.289442      9.259064    0.482495   \n",
       "min      3107.000000    2.000000    1.000000     35.100000    0.000000   \n",
       "25%      3552.000000   19.000000   10.000000     57.400000    0.000000   \n",
       "50%      4019.000000   28.000000   17.000000     65.000000    1.000000   \n",
       "75%     41749.000000   36.000000   25.000000     71.300000    1.000000   \n",
       "max    149511.000000   62.000000   64.000000     86.300000    1.000000   \n",
       "\n",
       "            SCORE    DURATION         CAT         LEDD         IQR  \n",
       "count  325.000000  325.000000  325.000000   325.000000  325.000000  \n",
       "mean     0.330156   46.633846    0.532308   682.858825   78.480862  \n",
       "std      0.250865   21.190307    0.499725   493.060277    3.434491  \n",
       "min     -0.272727    2.000000    0.000000    30.000000   70.090000  \n",
       "25%      0.153846   30.000000    0.000000   350.000000   76.220000  \n",
       "50%      0.333333   51.000000    1.000000   600.000000   79.070000  \n",
       "75%      0.500000   56.000000    1.000000   891.100000   81.180000  \n",
       "max      0.956522  112.000000    1.000000  5140.450000   84.970000  "
      ]
     },
     "execution_count": 6,
     "metadata": {},
     "output_type": "execute_result"
    }
   ],
   "source": [
    "print(len(data[data_pvi['SEX']==1]))\n",
    "print(len(data[data_pvi['SEX']==0]))\n",
    "print(len(data[data_pvi['CAT']==1]))\n",
    "print(len(data[data_pvi['CAT']==0]))\n",
    "data_pvi.describe()"
   ]
  },
  {
   "cell_type": "code",
   "execution_count": 7,
   "metadata": {},
   "outputs": [
    {
     "name": "stdout",
     "output_type": "stream",
     "text": [
      "146\n",
      "76\n",
      "109\n",
      "113\n"
     ]
    },
    {
     "data": {
      "text/html": [
       "<div>\n",
       "<style scoped>\n",
       "    .dataframe tbody tr th:only-of-type {\n",
       "        vertical-align: middle;\n",
       "    }\n",
       "\n",
       "    .dataframe tbody tr th {\n",
       "        vertical-align: top;\n",
       "    }\n",
       "\n",
       "    .dataframe thead th {\n",
       "        text-align: right;\n",
       "    }\n",
       "</style>\n",
       "<table border=\"1\" class=\"dataframe\">\n",
       "  <thead>\n",
       "    <tr style=\"text-align: right;\">\n",
       "      <th></th>\n",
       "      <th>PATNO</th>\n",
       "      <th>NUPDR3OF</th>\n",
       "      <th>NUPDR3ON</th>\n",
       "      <th>AGE_AT_VISIT</th>\n",
       "      <th>SEX</th>\n",
       "      <th>SCORE</th>\n",
       "      <th>DURATION</th>\n",
       "      <th>CAT</th>\n",
       "      <th>LEDD</th>\n",
       "      <th>IQR</th>\n",
       "    </tr>\n",
       "  </thead>\n",
       "  <tbody>\n",
       "    <tr>\n",
       "      <th>count</th>\n",
       "      <td>222.000000</td>\n",
       "      <td>222.000000</td>\n",
       "      <td>222.000000</td>\n",
       "      <td>222.000000</td>\n",
       "      <td>222.000000</td>\n",
       "      <td>222.000000</td>\n",
       "      <td>222.000000</td>\n",
       "      <td>222.000000</td>\n",
       "      <td>222.000000</td>\n",
       "      <td>222.000000</td>\n",
       "    </tr>\n",
       "    <tr>\n",
       "      <th>mean</th>\n",
       "      <td>25924.139640</td>\n",
       "      <td>27.054054</td>\n",
       "      <td>18.509009</td>\n",
       "      <td>63.646396</td>\n",
       "      <td>0.657658</td>\n",
       "      <td>0.307628</td>\n",
       "      <td>42.283784</td>\n",
       "      <td>0.490991</td>\n",
       "      <td>652.368171</td>\n",
       "      <td>78.553288</td>\n",
       "    </tr>\n",
       "    <tr>\n",
       "      <th>std</th>\n",
       "      <td>28260.115764</td>\n",
       "      <td>12.486980</td>\n",
       "      <td>10.788271</td>\n",
       "      <td>9.257760</td>\n",
       "      <td>0.475566</td>\n",
       "      <td>0.250106</td>\n",
       "      <td>22.065833</td>\n",
       "      <td>0.501049</td>\n",
       "      <td>506.070306</td>\n",
       "      <td>3.323731</td>\n",
       "    </tr>\n",
       "    <tr>\n",
       "      <th>min</th>\n",
       "      <td>3107.000000</td>\n",
       "      <td>2.000000</td>\n",
       "      <td>1.000000</td>\n",
       "      <td>35.100000</td>\n",
       "      <td>0.000000</td>\n",
       "      <td>-0.272727</td>\n",
       "      <td>2.000000</td>\n",
       "      <td>0.000000</td>\n",
       "      <td>30.000000</td>\n",
       "      <td>70.320000</td>\n",
       "    </tr>\n",
       "    <tr>\n",
       "      <th>25%</th>\n",
       "      <td>3375.750000</td>\n",
       "      <td>17.000000</td>\n",
       "      <td>10.250000</td>\n",
       "      <td>56.825000</td>\n",
       "      <td>0.000000</td>\n",
       "      <td>0.104182</td>\n",
       "      <td>25.250000</td>\n",
       "      <td>0.000000</td>\n",
       "      <td>300.000000</td>\n",
       "      <td>76.280000</td>\n",
       "    </tr>\n",
       "    <tr>\n",
       "      <th>50%</th>\n",
       "      <td>3834.000000</td>\n",
       "      <td>26.000000</td>\n",
       "      <td>17.000000</td>\n",
       "      <td>64.850000</td>\n",
       "      <td>1.000000</td>\n",
       "      <td>0.288690</td>\n",
       "      <td>43.000000</td>\n",
       "      <td>0.000000</td>\n",
       "      <td>555.000000</td>\n",
       "      <td>79.065000</td>\n",
       "    </tr>\n",
       "    <tr>\n",
       "      <th>75%</th>\n",
       "      <td>41749.000000</td>\n",
       "      <td>35.000000</td>\n",
       "      <td>25.000000</td>\n",
       "      <td>70.675000</td>\n",
       "      <td>1.000000</td>\n",
       "      <td>0.460737</td>\n",
       "      <td>54.000000</td>\n",
       "      <td>1.000000</td>\n",
       "      <td>831.100000</td>\n",
       "      <td>81.180000</td>\n",
       "    </tr>\n",
       "    <tr>\n",
       "      <th>max</th>\n",
       "      <td>149511.000000</td>\n",
       "      <td>62.000000</td>\n",
       "      <td>64.000000</td>\n",
       "      <td>86.300000</td>\n",
       "      <td>1.000000</td>\n",
       "      <td>0.956522</td>\n",
       "      <td>112.000000</td>\n",
       "      <td>1.000000</td>\n",
       "      <td>5140.450000</td>\n",
       "      <td>84.970000</td>\n",
       "    </tr>\n",
       "  </tbody>\n",
       "</table>\n",
       "</div>"
      ],
      "text/plain": [
       "               PATNO    NUPDR3OF    NUPDR3ON  AGE_AT_VISIT         SEX  \\\n",
       "count     222.000000  222.000000  222.000000    222.000000  222.000000   \n",
       "mean    25924.139640   27.054054   18.509009     63.646396    0.657658   \n",
       "std     28260.115764   12.486980   10.788271      9.257760    0.475566   \n",
       "min      3107.000000    2.000000    1.000000     35.100000    0.000000   \n",
       "25%      3375.750000   17.000000   10.250000     56.825000    0.000000   \n",
       "50%      3834.000000   26.000000   17.000000     64.850000    1.000000   \n",
       "75%     41749.000000   35.000000   25.000000     70.675000    1.000000   \n",
       "max    149511.000000   62.000000   64.000000     86.300000    1.000000   \n",
       "\n",
       "            SCORE    DURATION         CAT         LEDD         IQR  \n",
       "count  222.000000  222.000000  222.000000   222.000000  222.000000  \n",
       "mean     0.307628   42.283784    0.490991   652.368171   78.553288  \n",
       "std      0.250106   22.065833    0.501049   506.070306    3.323731  \n",
       "min     -0.272727    2.000000    0.000000    30.000000   70.320000  \n",
       "25%      0.104182   25.250000    0.000000   300.000000   76.280000  \n",
       "50%      0.288690   43.000000    0.000000   555.000000   79.065000  \n",
       "75%      0.460737   54.000000    1.000000   831.100000   81.180000  \n",
       "max      0.956522  112.000000    1.000000  5140.450000   84.970000  "
      ]
     },
     "execution_count": 7,
     "metadata": {},
     "output_type": "execute_result"
    }
   ],
   "source": [
    "print(len(data_pv[data_pv['SEX']==1]))\n",
    "print(len(data_pv[data_pv['SEX']==0]))\n",
    "print(len(data_pv[data_pv['CAT']==1]))\n",
    "print(len(data_pv[data_pv['CAT']==0]))\n",
    "data_pv.describe()"
   ]
  },
  {
   "cell_type": "code",
   "execution_count": 8,
   "metadata": {},
   "outputs": [
    {
     "name": "stdout",
     "output_type": "stream",
     "text": [
      "96\n",
      "53\n",
      "79\n",
      "70\n"
     ]
    },
    {
     "data": {
      "text/html": [
       "<div>\n",
       "<style scoped>\n",
       "    .dataframe tbody tr th:only-of-type {\n",
       "        vertical-align: middle;\n",
       "    }\n",
       "\n",
       "    .dataframe tbody tr th {\n",
       "        vertical-align: top;\n",
       "    }\n",
       "\n",
       "    .dataframe thead th {\n",
       "        text-align: right;\n",
       "    }\n",
       "</style>\n",
       "<table border=\"1\" class=\"dataframe\">\n",
       "  <thead>\n",
       "    <tr style=\"text-align: right;\">\n",
       "      <th></th>\n",
       "      <th>PATNO</th>\n",
       "      <th>NUPDR3OF</th>\n",
       "      <th>NUPDR3ON</th>\n",
       "      <th>AGE_AT_VISIT</th>\n",
       "      <th>SEX</th>\n",
       "      <th>SCORE</th>\n",
       "      <th>DURATION</th>\n",
       "      <th>CAT</th>\n",
       "      <th>LEDD</th>\n",
       "      <th>IQR</th>\n",
       "    </tr>\n",
       "  </thead>\n",
       "  <tbody>\n",
       "    <tr>\n",
       "      <th>count</th>\n",
       "      <td>149.000000</td>\n",
       "      <td>149.000000</td>\n",
       "      <td>149.000000</td>\n",
       "      <td>149.000000</td>\n",
       "      <td>149.000000</td>\n",
       "      <td>149.000000</td>\n",
       "      <td>149.000000</td>\n",
       "      <td>149.000000</td>\n",
       "      <td>149.000000</td>\n",
       "      <td>149.000000</td>\n",
       "    </tr>\n",
       "    <tr>\n",
       "      <th>mean</th>\n",
       "      <td>30355.302013</td>\n",
       "      <td>27.275168</td>\n",
       "      <td>18.295302</td>\n",
       "      <td>63.550336</td>\n",
       "      <td>0.644295</td>\n",
       "      <td>0.315971</td>\n",
       "      <td>44.765101</td>\n",
       "      <td>0.530201</td>\n",
       "      <td>667.869356</td>\n",
       "      <td>78.648054</td>\n",
       "    </tr>\n",
       "    <tr>\n",
       "      <th>std</th>\n",
       "      <td>29949.219670</td>\n",
       "      <td>12.362137</td>\n",
       "      <td>10.411469</td>\n",
       "      <td>9.818003</td>\n",
       "      <td>0.480341</td>\n",
       "      <td>0.248027</td>\n",
       "      <td>22.426574</td>\n",
       "      <td>0.500770</td>\n",
       "      <td>539.389592</td>\n",
       "      <td>3.356659</td>\n",
       "    </tr>\n",
       "    <tr>\n",
       "      <th>min</th>\n",
       "      <td>3107.000000</td>\n",
       "      <td>2.000000</td>\n",
       "      <td>1.000000</td>\n",
       "      <td>35.100000</td>\n",
       "      <td>0.000000</td>\n",
       "      <td>-0.272727</td>\n",
       "      <td>3.000000</td>\n",
       "      <td>0.000000</td>\n",
       "      <td>30.000000</td>\n",
       "      <td>70.320000</td>\n",
       "    </tr>\n",
       "    <tr>\n",
       "      <th>25%</th>\n",
       "      <td>3557.000000</td>\n",
       "      <td>18.000000</td>\n",
       "      <td>11.000000</td>\n",
       "      <td>56.300000</td>\n",
       "      <td>0.000000</td>\n",
       "      <td>0.125000</td>\n",
       "      <td>27.000000</td>\n",
       "      <td>0.000000</td>\n",
       "      <td>342.400000</td>\n",
       "      <td>77.050000</td>\n",
       "    </tr>\n",
       "    <tr>\n",
       "      <th>50%</th>\n",
       "      <td>40543.000000</td>\n",
       "      <td>26.000000</td>\n",
       "      <td>17.000000</td>\n",
       "      <td>64.500000</td>\n",
       "      <td>1.000000</td>\n",
       "      <td>0.320755</td>\n",
       "      <td>50.000000</td>\n",
       "      <td>1.000000</td>\n",
       "      <td>600.000000</td>\n",
       "      <td>79.220000</td>\n",
       "    </tr>\n",
       "    <tr>\n",
       "      <th>75%</th>\n",
       "      <td>50901.000000</td>\n",
       "      <td>35.000000</td>\n",
       "      <td>24.000000</td>\n",
       "      <td>71.300000</td>\n",
       "      <td>1.000000</td>\n",
       "      <td>0.472222</td>\n",
       "      <td>55.000000</td>\n",
       "      <td>1.000000</td>\n",
       "      <td>834.800000</td>\n",
       "      <td>81.200000</td>\n",
       "    </tr>\n",
       "    <tr>\n",
       "      <th>max</th>\n",
       "      <td>149511.000000</td>\n",
       "      <td>62.000000</td>\n",
       "      <td>64.000000</td>\n",
       "      <td>86.300000</td>\n",
       "      <td>1.000000</td>\n",
       "      <td>0.956522</td>\n",
       "      <td>112.000000</td>\n",
       "      <td>1.000000</td>\n",
       "      <td>5140.450000</td>\n",
       "      <td>84.970000</td>\n",
       "    </tr>\n",
       "  </tbody>\n",
       "</table>\n",
       "</div>"
      ],
      "text/plain": [
       "               PATNO    NUPDR3OF    NUPDR3ON  AGE_AT_VISIT         SEX  \\\n",
       "count     149.000000  149.000000  149.000000    149.000000  149.000000   \n",
       "mean    30355.302013   27.275168   18.295302     63.550336    0.644295   \n",
       "std     29949.219670   12.362137   10.411469      9.818003    0.480341   \n",
       "min      3107.000000    2.000000    1.000000     35.100000    0.000000   \n",
       "25%      3557.000000   18.000000   11.000000     56.300000    0.000000   \n",
       "50%     40543.000000   26.000000   17.000000     64.500000    1.000000   \n",
       "75%     50901.000000   35.000000   24.000000     71.300000    1.000000   \n",
       "max    149511.000000   62.000000   64.000000     86.300000    1.000000   \n",
       "\n",
       "            SCORE    DURATION         CAT         LEDD         IQR  \n",
       "count  149.000000  149.000000  149.000000   149.000000  149.000000  \n",
       "mean     0.315971   44.765101    0.530201   667.869356   78.648054  \n",
       "std      0.248027   22.426574    0.500770   539.389592    3.356659  \n",
       "min     -0.272727    3.000000    0.000000    30.000000   70.320000  \n",
       "25%      0.125000   27.000000    0.000000   342.400000   77.050000  \n",
       "50%      0.320755   50.000000    1.000000   600.000000   79.220000  \n",
       "75%      0.472222   55.000000    1.000000   834.800000   81.200000  \n",
       "max      0.956522  112.000000    1.000000  5140.450000   84.970000  "
      ]
     },
     "execution_count": 8,
     "metadata": {},
     "output_type": "execute_result"
    }
   ],
   "source": [
    "print(len(data_p[data_p['SEX']==1]))\n",
    "print(len(data_p[data_p['SEX']==0]))\n",
    "print(len(data_p[data_p['CAT']==1]))\n",
    "print(len(data_p[data_p['CAT']==0]))\n",
    "data_p.describe()"
   ]
  },
  {
   "cell_type": "code",
   "execution_count": 8,
   "metadata": {},
   "outputs": [
    {
     "data": {
      "text/plain": [
       "Text(0.5, 1.0, 'U3 ON')"
      ]
     },
     "execution_count": 8,
     "metadata": {},
     "output_type": "execute_result"
    },
    {
     "data": {
      "image/png": "[encoded data removed]",
      "text/plain": [
       "<Figure size 640x480 with 1 Axes>"
      ]
     },
     "metadata": {},
     "output_type": "display_data"
    }
   ],
   "source": [
    "plt.hist([data_p['NUPDR3ON']], 20, label=['P'], alpha=0.7)\n",
    "plt.legend()\n",
    "plt.title('U3 ON')"
   ]
  },
  {
   "cell_type": "code",
   "execution_count": 9,
   "metadata": {},
   "outputs": [
    {
     "data": {
      "text/plain": [
       "Text(0.5, 1.0, 'U3 OFF')"
      ]
     },
     "execution_count": 9,
     "metadata": {},
     "output_type": "execute_result"
    },
    {
     "data": {
      "image/png": "[encoded data removed]",
      "text/plain": [
       "<Figure size 640x480 with 1 Axes>"
      ]
     },
     "metadata": {},
     "output_type": "display_data"
    }
   ],
   "source": [
    "plt.hist([data_p['LEDD']], 20, label=['P'], alpha=0.7)\n",
    "plt.legend()\n",
    "plt.title('LEDD')"
   ]
  },
  {
   "cell_type": "code",
   "execution_count": 10,
   "metadata": {},
   "outputs": [
    {
     "data": {
      "text/plain": [
       "Text(0.5, 1.0, 'SCORE')"
      ]
     },
     "execution_count": 10,
     "metadata": {},
     "output_type": "execute_result"
    },
    {
     "data": {
      "image/png": "[encoded data removed]",
      "text/plain": [
       "<Figure size 640x480 with 1 Axes>"
      ]
     },
     "metadata": {},
     "output_type": "display_data"
    }
   ],
   "source": [
    "plt.hist([data_p['SCORE']], 20, label=['P'], alpha=0.7)\n",
    "plt.legend()\n",
    "plt.title('SCORE')"
   ]
  },
  {
   "cell_type": "code",
   "execution_count": 11,
   "metadata": {},
   "outputs": [
    {
     "data": {
      "text/plain": [
       "Text(0.5, 1.0, 'DURATION')"
      ]
     },
     "execution_count": 11,
     "metadata": {},
     "output_type": "execute_result"
    },
    {
     "data": {
      "image/png": "[encoded data removed]",
      "text/plain": [
       "<Figure size 640x480 with 1 Axes>"
      ]
     },
     "metadata": {},
     "output_type": "display_data"
    }
   ],
   "source": [
    "plt.hist([data_p['DURATION']], 20, label=['P'], alpha=0.7)\n",
    "plt.legend()\n",
    "plt.title('DURATION')"
   ]
  },
  {
   "cell_type": "code",
   "execution_count": 12,
   "metadata": {},
   "outputs": [
    {
     "data": {
      "text/plain": [
       "Text(0.5, 1.0, 'AGE_AT_VISIT')"
      ]
     },
     "execution_count": 12,
     "metadata": {},
     "output_type": "execute_result"
    },
    {
     "data": {
      "image/png": "[encoded data removed]",
      "text/plain": [
       "<Figure size 640x480 with 1 Axes>"
      ]
     },
     "metadata": {},
     "output_type": "display_data"
    }
   ],
   "source": [
    "plt.hist([data_p['AGE_AT_VISIT']], 20, label=['P'], alpha=0.7)\n",
    "plt.legend()\n",
    "plt.title('AGE_AT_VISIT')"
   ]
  },
  {
   "cell_type": "code",
   "execution_count": 13,
   "metadata": {},
   "outputs": [
    {
     "data": {
      "text/plain": [
       "Text(0.5, 1.0, 'LEDD')"
      ]
     },
     "execution_count": 13,
     "metadata": {},
     "output_type": "execute_result"
    },
    {
     "data": {
      "image/png": "[encoded data removed]",
      "text/plain": [
       "<Figure size 640x480 with 1 Axes>"
      ]
     },
     "metadata": {},
     "output_type": "display_data"
    }
   ],
   "source": [
    "plt.hist([data_p['LEDD']], 20, label=['P'], alpha=0.7)\n",
    "plt.legend()\n",
    "plt.title('LEDD')"
   ]
  }
 ],
 "metadata": {
  "kernelspec": {
   "display_name": "Python 3.8.10 64-bit ('3.8.10')",
   "language": "python",
   "name": "python3"
  },
  "language_info": {
   "codemirror_mode": {
    "name": "ipython",
    "version": 3
   },
   "file_extension": ".py",
   "mimetype": "text/x-python",
   "name": "python",
   "nbconvert_exporter": "python",
   "pygments_lexer": "ipython3",
   "version": "3.8.10"
  },
  "orig_nbformat": 4,
  "vscode": {
   "interpreter": {
    "hash": "420353a47962bc0cada1a6173771095a3d05bd8a3ecc61a5b633bf029926f1ac"
   }
  }
 },
 "nbformat": 4,
 "nbformat_minor": 2
}
