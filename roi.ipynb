{
 "cells": [
  {
   "cell_type": "code",
   "execution_count": 63,
   "metadata": {},
   "outputs": [],
   "source": [
    "import nibabel as nib\n",
    "import nilearn as nil\n",
    "import numpy as np\n",
    "import pandas as pd\n",
    "import os\n",
    "import os.path\n",
    "import logging\n",
    "from nilearn import plotting, image\n",
    "import radiomics\n",
    "from radiomics import featureextractor\n",
    "from src.utils.data import getDataPandas"
   ]
  },
  {
   "cell_type": "code",
   "execution_count": 38,
   "metadata": {},
   "outputs": [],
   "source": [
    "data = getDataPandas()\n",
    "mask_path = 'bin/raal3.nii'\n",
    "mask_template = nib.load(mask_path).get_fdata().astype(int)\n",
    "mask_tags = {\n",
    "    'lCAU': [75],\n",
    "    'rCAU': [76],\n",
    "    'lPUT': [77],\n",
    "    'rPUT': [78],\n",
    "    'rSN': [162, 164],\n",
    "    'lSN': [161, 163]\n",
    "    #'thalamus': [121, 122, 123, 124, 125, 126, 127, 128, 129, 130, 131, 132, 133, 134, 135, 136, 137, 138, 139, 140, 141, 142, 143, 144, 145, 146, 147, 148, 149, 150]\n",
    "}\n",
    "#mask[np.isin(mask_template, mask_tags['caudate nucleus'])] = 1\n",
    "#mask[np.isin(mask_template, mask_tags['putamen'])] = 2\n",
    "#mask[np.isin(mask_template, mask_tags['substantia nigra'])] = 3\n",
    "#mask[np.isin(mask_template, mask_tags['thalamus'])] = 4"
   ]
  },
  {
   "cell_type": "code",
   "execution_count": 42,
   "metadata": {},
   "outputs": [],
   "source": [
    "for tag, labels in mask_tags.items():\n",
    "    mask = np.full(mask_template.shape, 0)\n",
    "    for label in labels:\n",
    "        mask[mask_template == label] = 1\n",
    "    img = image.new_img_like(mask_path, mask)\n",
    "    img.to_filename(os.path.join('bin', 'roi', tag + '.nii'))"
   ]
  },
  {
   "cell_type": "code",
   "execution_count": 48,
   "metadata": {},
   "outputs": [],
   "source": [
    "radiomics.logger.setLevel(logging.ERROR)\n",
    "extract = featureextractor.RadiomicsFeatureExtractor()\n",
    "extract.loadParams(os.path.join('data', 'radiomic.yaml'))"
   ]
  },
  {
   "cell_type": "code",
   "execution_count": 160,
   "metadata": {},
   "outputs": [],
   "source": [
    "def cal_radiomics(path):\n",
    "    filtered_rst = {}\n",
    "    for key in mask_tags.keys():\n",
    "        rst = extract.execute(path, os.path.join('bin', 'roi', key + '.nii'))\n",
    "        for k, v in rst.items():\n",
    "            if ('firstorder' in k) or ('glcm' in k) or ('gldm' in k):\n",
    "            #if ('firstorder' in k):\n",
    "                filtered_rst[k.replace('original', key)] = v\n",
    "    return filtered_rst"
   ]
  },
  {
   "cell_type": "code",
   "execution_count": 161,
   "metadata": {},
   "outputs": [],
   "source": [
    "rsts = list(map(cal_radiomics, data['T1_GM_PATH']))"
   ]
  },
  {
   "cell_type": "code",
   "execution_count": 162,
   "metadata": {},
   "outputs": [],
   "source": [
    "data_radiomic = pd.DataFrame(rsts)\n",
    "data_radiomic = data_radiomic.astype(float)\n",
    "data_radiomic['KEY'] = data['KEY']"
   ]
  },
  {
   "cell_type": "code",
   "execution_count": 163,
   "metadata": {},
   "outputs": [],
   "source": [
    "import json\n",
    "with open(os.path.join('data', 'json', 'data_radiomic.json'), 'w+', encoding=\"utf-8\") as f:\n",
    "        json.dump(data_radiomic.to_dict(orient='records'), f, ensure_ascii=False, indent=4)"
   ]
  },
  {
   "cell_type": "code",
   "execution_count": 7,
   "metadata": {},
   "outputs": [],
   "source": [
    "from mrmr import mrmr_classif\n",
    "from src.utils.data import getDataPandas, getConfig\n",
    "from pipe.img_feature import load_radiomics"
   ]
  },
  {
   "cell_type": "code",
   "execution_count": 12,
   "metadata": {},
   "outputs": [],
   "source": [
    "data = getDataPandas()\n",
    "data_config = getConfig('data')\n",
    "train_inds = data_config['train_index']\n",
    "test_inds = data_config['test_index']\n",
    "y_train = data['CAT'].iloc[train_inds]\n",
    "x_train, x_test = load_radiomics(data, train_inds, test_inds, {})"
   ]
  },
  {
   "cell_type": "code",
   "execution_count": 15,
   "metadata": {},
   "outputs": [
    {
     "name": "stderr",
     "output_type": "stream",
     "text": [
      "100%|██████████| 50/50 [00:00<00:00, 57.80it/s]\n"
     ]
    },
    {
     "name": "stdout",
     "output_type": "stream",
     "text": [
      "['lSN_gldm_DependenceNonUniformity', 'lCAU_gldm_DependenceVariance', 'rPUT_gldm_DependenceEntropy', 'lCAU_gldm_DependenceNonUniformity', 'lPUT_firstorder_Skewness', 'lSN_gldm_SmallDependenceEmphasis', 'lCAU_firstorder_Minimum', 'lSN_gldm_SmallDependenceHighGrayLevelEmphasis', 'lSN_gldm_SmallDependenceLowGrayLevelEmphasis', 'lCAU_gldm_DependenceEntropy', 'rSN_firstorder_Minimum', 'rCAU_gldm_DependenceNonUniformityNormalized', 'lPUT_gldm_DependenceNonUniformity', 'lSN_firstorder_10Percentile', 'lCAU_firstorder_90Percentile', 'lPUT_firstorder_Kurtosis', 'lCAU_firstorder_Skewness', 'rPUT_firstorder_Minimum', 'rCAU_firstorder_10Percentile', 'lCAU_firstorder_Mean', 'rCAU_firstorder_Skewness', 'lSN_firstorder_Energy', 'rCAU_firstorder_Kurtosis', 'lCAU_firstorder_RootMeanSquared', 'rSN_firstorder_10Percentile', 'lCAU_firstorder_10Percentile', 'lCAU_firstorder_Median', 'lSN_firstorder_TotalEnergy', 'lPUT_firstorder_Median', 'lCAU_firstorder_Kurtosis', 'lCAU_firstorder_Energy', 'rCAU_firstorder_Median', 'lSN_firstorder_90Percentile', 'lCAU_firstorder_TotalEnergy', 'rCAU_firstorder_Mean', 'lSN_firstorder_Variance', 'rCAU_firstorder_RootMeanSquared', 'lPUT_firstorder_Mean', 'rCAU_firstorder_Energy', 'rCAU_firstorder_TotalEnergy', 'lSN_firstorder_Mean', 'rPUT_firstorder_RobustMeanAbsoluteDeviation', 'rCAU_firstorder_90Percentile', 'rPUT_firstorder_Skewness', 'lSN_firstorder_MeanAbsoluteDeviation', 'lPUT_firstorder_RootMeanSquared', 'rCAU_firstorder_Minimum', 'lSN_firstorder_Range', 'rPUT_firstorder_MeanAbsoluteDeviation', 'lSN_firstorder_RobustMeanAbsoluteDeviation']\n"
     ]
    },
    {
     "name": "stderr",
     "output_type": "stream",
     "text": [
      "100%|██████████| 50/50 [00:00<00:00, 59.03it/s]\n"
     ]
    },
    {
     "name": "stdout",
     "output_type": "stream",
     "text": [
      "['lSN_gldm_DependenceNonUniformity', 'lCAU_gldm_DependenceVariance', 'rPUT_gldm_DependenceEntropy', 'lCAU_gldm_DependenceNonUniformity', 'lPUT_firstorder_Skewness', 'lSN_gldm_SmallDependenceEmphasis', 'lCAU_firstorder_Minimum', 'lSN_gldm_SmallDependenceHighGrayLevelEmphasis', 'lSN_gldm_SmallDependenceLowGrayLevelEmphasis', 'lCAU_gldm_DependenceEntropy', 'rSN_firstorder_Minimum', 'rCAU_gldm_DependenceNonUniformityNormalized', 'lPUT_gldm_DependenceNonUniformity', 'lSN_firstorder_10Percentile', 'lCAU_firstorder_90Percentile', 'lPUT_firstorder_Kurtosis', 'lCAU_firstorder_Skewness', 'rPUT_firstorder_Minimum', 'rCAU_firstorder_10Percentile', 'lCAU_firstorder_Mean', 'rCAU_firstorder_Skewness', 'lSN_firstorder_Energy', 'rCAU_firstorder_Kurtosis', 'lCAU_firstorder_RootMeanSquared', 'rSN_firstorder_10Percentile', 'lCAU_firstorder_10Percentile', 'lCAU_firstorder_Median', 'lSN_firstorder_TotalEnergy', 'lPUT_firstorder_Median', 'lCAU_firstorder_Kurtosis', 'lCAU_firstorder_Energy', 'rCAU_firstorder_Median', 'lSN_firstorder_90Percentile', 'lCAU_firstorder_TotalEnergy', 'rCAU_firstorder_Mean', 'lSN_firstorder_Variance', 'rCAU_firstorder_RootMeanSquared', 'lPUT_firstorder_Mean', 'rCAU_firstorder_Energy', 'rCAU_firstorder_TotalEnergy', 'lSN_firstorder_Mean', 'rPUT_firstorder_RobustMeanAbsoluteDeviation', 'rCAU_firstorder_90Percentile', 'rPUT_firstorder_Skewness', 'lSN_firstorder_MeanAbsoluteDeviation', 'lPUT_firstorder_RootMeanSquared', 'rCAU_firstorder_Minimum', 'lSN_firstorder_Range', 'rPUT_firstorder_MeanAbsoluteDeviation', 'lSN_firstorder_RobustMeanAbsoluteDeviation']\n"
     ]
    },
    {
     "name": "stderr",
     "output_type": "stream",
     "text": [
      "100%|██████████| 50/50 [00:00<00:00, 59.45it/s]\n"
     ]
    },
    {
     "name": "stdout",
     "output_type": "stream",
     "text": [
      "['lSN_gldm_DependenceNonUniformity', 'lCAU_gldm_DependenceVariance', 'rPUT_gldm_DependenceEntropy', 'lCAU_gldm_DependenceNonUniformity', 'lPUT_firstorder_Skewness', 'lSN_gldm_SmallDependenceEmphasis', 'lCAU_firstorder_Minimum', 'lSN_gldm_SmallDependenceHighGrayLevelEmphasis', 'lSN_gldm_SmallDependenceLowGrayLevelEmphasis', 'lCAU_gldm_DependenceEntropy', 'rSN_firstorder_Minimum', 'rCAU_gldm_DependenceNonUniformityNormalized', 'lPUT_gldm_DependenceNonUniformity', 'lSN_firstorder_10Percentile', 'lCAU_firstorder_90Percentile', 'lPUT_firstorder_Kurtosis', 'lCAU_firstorder_Skewness', 'rPUT_firstorder_Minimum', 'rCAU_firstorder_10Percentile', 'lCAU_firstorder_Mean', 'rCAU_firstorder_Skewness', 'lSN_firstorder_Energy', 'rCAU_firstorder_Kurtosis', 'lCAU_firstorder_RootMeanSquared', 'rSN_firstorder_10Percentile', 'lCAU_firstorder_10Percentile', 'lCAU_firstorder_Median', 'lSN_firstorder_TotalEnergy', 'lPUT_firstorder_Median', 'lCAU_firstorder_Kurtosis', 'lCAU_firstorder_Energy', 'rCAU_firstorder_Median', 'lSN_firstorder_90Percentile', 'lCAU_firstorder_TotalEnergy', 'rCAU_firstorder_Mean', 'lSN_firstorder_Variance', 'rCAU_firstorder_RootMeanSquared', 'lPUT_firstorder_Mean', 'rCAU_firstorder_Energy', 'rCAU_firstorder_TotalEnergy', 'lSN_firstorder_Mean', 'rPUT_firstorder_RobustMeanAbsoluteDeviation', 'rCAU_firstorder_90Percentile', 'rPUT_firstorder_Skewness', 'lSN_firstorder_MeanAbsoluteDeviation', 'lPUT_firstorder_RootMeanSquared', 'rCAU_firstorder_Minimum', 'lSN_firstorder_Range', 'rPUT_firstorder_MeanAbsoluteDeviation', 'lSN_firstorder_RobustMeanAbsoluteDeviation']\n"
     ]
    },
    {
     "name": "stderr",
     "output_type": "stream",
     "text": [
      "100%|██████████| 50/50 [00:00<00:00, 57.17it/s]\n"
     ]
    },
    {
     "name": "stdout",
     "output_type": "stream",
     "text": [
      "['lSN_gldm_DependenceNonUniformity', 'lCAU_gldm_DependenceVariance', 'rPUT_gldm_DependenceEntropy', 'lCAU_gldm_DependenceNonUniformity', 'lPUT_firstorder_Skewness', 'lSN_gldm_SmallDependenceEmphasis', 'lCAU_firstorder_Minimum', 'lSN_gldm_SmallDependenceHighGrayLevelEmphasis', 'lSN_gldm_SmallDependenceLowGrayLevelEmphasis', 'lCAU_gldm_DependenceEntropy', 'rSN_firstorder_Minimum', 'rCAU_gldm_DependenceNonUniformityNormalized', 'lPUT_gldm_DependenceNonUniformity', 'lSN_firstorder_10Percentile', 'lCAU_firstorder_90Percentile', 'lPUT_firstorder_Kurtosis', 'lCAU_firstorder_Skewness', 'rPUT_firstorder_Minimum', 'rCAU_firstorder_10Percentile', 'lCAU_firstorder_Mean', 'rCAU_firstorder_Skewness', 'lSN_firstorder_Energy', 'rCAU_firstorder_Kurtosis', 'lCAU_firstorder_RootMeanSquared', 'rSN_firstorder_10Percentile', 'lCAU_firstorder_10Percentile', 'lCAU_firstorder_Median', 'lSN_firstorder_TotalEnergy', 'lPUT_firstorder_Median', 'lCAU_firstorder_Kurtosis', 'lCAU_firstorder_Energy', 'rCAU_firstorder_Median', 'lSN_firstorder_90Percentile', 'lCAU_firstorder_TotalEnergy', 'rCAU_firstorder_Mean', 'lSN_firstorder_Variance', 'rCAU_firstorder_RootMeanSquared', 'lPUT_firstorder_Mean', 'rCAU_firstorder_Energy', 'rCAU_firstorder_TotalEnergy', 'lSN_firstorder_Mean', 'rPUT_firstorder_RobustMeanAbsoluteDeviation', 'rCAU_firstorder_90Percentile', 'rPUT_firstorder_Skewness', 'lSN_firstorder_MeanAbsoluteDeviation', 'lPUT_firstorder_RootMeanSquared', 'rCAU_firstorder_Minimum', 'lSN_firstorder_Range', 'rPUT_firstorder_MeanAbsoluteDeviation', 'lSN_firstorder_RobustMeanAbsoluteDeviation']\n"
     ]
    },
    {
     "name": "stderr",
     "output_type": "stream",
     "text": [
      "100%|██████████| 50/50 [00:00<00:00, 59.45it/s]\n"
     ]
    },
    {
     "name": "stdout",
     "output_type": "stream",
     "text": [
      "['lSN_gldm_DependenceNonUniformity', 'lCAU_gldm_DependenceVariance', 'rPUT_gldm_DependenceEntropy', 'lCAU_gldm_DependenceNonUniformity', 'lPUT_firstorder_Skewness', 'lSN_gldm_SmallDependenceEmphasis', 'lCAU_firstorder_Minimum', 'lSN_gldm_SmallDependenceHighGrayLevelEmphasis', 'lSN_gldm_SmallDependenceLowGrayLevelEmphasis', 'lCAU_gldm_DependenceEntropy', 'rSN_firstorder_Minimum', 'rCAU_gldm_DependenceNonUniformityNormalized', 'lPUT_gldm_DependenceNonUniformity', 'lSN_firstorder_10Percentile', 'lCAU_firstorder_90Percentile', 'lPUT_firstorder_Kurtosis', 'lCAU_firstorder_Skewness', 'rPUT_firstorder_Minimum', 'rCAU_firstorder_10Percentile', 'lCAU_firstorder_Mean', 'rCAU_firstorder_Skewness', 'lSN_firstorder_Energy', 'rCAU_firstorder_Kurtosis', 'lCAU_firstorder_RootMeanSquared', 'rSN_firstorder_10Percentile', 'lCAU_firstorder_10Percentile', 'lCAU_firstorder_Median', 'lSN_firstorder_TotalEnergy', 'lPUT_firstorder_Median', 'lCAU_firstorder_Kurtosis', 'lCAU_firstorder_Energy', 'rCAU_firstorder_Median', 'lSN_firstorder_90Percentile', 'lCAU_firstorder_TotalEnergy', 'rCAU_firstorder_Mean', 'lSN_firstorder_Variance', 'rCAU_firstorder_RootMeanSquared', 'lPUT_firstorder_Mean', 'rCAU_firstorder_Energy', 'rCAU_firstorder_TotalEnergy', 'lSN_firstorder_Mean', 'rPUT_firstorder_RobustMeanAbsoluteDeviation', 'rCAU_firstorder_90Percentile', 'rPUT_firstorder_Skewness', 'lSN_firstorder_MeanAbsoluteDeviation', 'lPUT_firstorder_RootMeanSquared', 'rCAU_firstorder_Minimum', 'lSN_firstorder_Range', 'rPUT_firstorder_MeanAbsoluteDeviation', 'lSN_firstorder_RobustMeanAbsoluteDeviation']\n"
     ]
    },
    {
     "name": "stderr",
     "output_type": "stream",
     "text": [
      "100%|██████████| 50/50 [00:00<00:00, 59.88it/s]\n"
     ]
    },
    {
     "name": "stdout",
     "output_type": "stream",
     "text": [
      "['lSN_gldm_DependenceNonUniformity', 'lCAU_gldm_DependenceVariance', 'rPUT_gldm_DependenceEntropy', 'lCAU_gldm_DependenceNonUniformity', 'lPUT_firstorder_Skewness', 'lSN_gldm_SmallDependenceEmphasis', 'lCAU_firstorder_Minimum', 'lSN_gldm_SmallDependenceHighGrayLevelEmphasis', 'lSN_gldm_SmallDependenceLowGrayLevelEmphasis', 'lCAU_gldm_DependenceEntropy', 'rSN_firstorder_Minimum', 'rCAU_gldm_DependenceNonUniformityNormalized', 'lPUT_gldm_DependenceNonUniformity', 'lSN_firstorder_10Percentile', 'lCAU_firstorder_90Percentile', 'lPUT_firstorder_Kurtosis', 'lCAU_firstorder_Skewness', 'rPUT_firstorder_Minimum', 'rCAU_firstorder_10Percentile', 'lCAU_firstorder_Mean', 'rCAU_firstorder_Skewness', 'lSN_firstorder_Energy', 'rCAU_firstorder_Kurtosis', 'lCAU_firstorder_RootMeanSquared', 'rSN_firstorder_10Percentile', 'lCAU_firstorder_10Percentile', 'lCAU_firstorder_Median', 'lSN_firstorder_TotalEnergy', 'lPUT_firstorder_Median', 'lCAU_firstorder_Kurtosis', 'lCAU_firstorder_Energy', 'rCAU_firstorder_Median', 'lSN_firstorder_90Percentile', 'lCAU_firstorder_TotalEnergy', 'rCAU_firstorder_Mean', 'lSN_firstorder_Variance', 'rCAU_firstorder_RootMeanSquared', 'lPUT_firstorder_Mean', 'rCAU_firstorder_Energy', 'rCAU_firstorder_TotalEnergy', 'lSN_firstorder_Mean', 'rPUT_firstorder_RobustMeanAbsoluteDeviation', 'rCAU_firstorder_90Percentile', 'rPUT_firstorder_Skewness', 'lSN_firstorder_MeanAbsoluteDeviation', 'lPUT_firstorder_RootMeanSquared', 'rCAU_firstorder_Minimum', 'lSN_firstorder_Range', 'rPUT_firstorder_MeanAbsoluteDeviation', 'lSN_firstorder_RobustMeanAbsoluteDeviation']\n"
     ]
    },
    {
     "name": "stderr",
     "output_type": "stream",
     "text": [
      "100%|██████████| 50/50 [00:00<00:00, 59.17it/s]\n"
     ]
    },
    {
     "name": "stdout",
     "output_type": "stream",
     "text": [
      "['lSN_gldm_DependenceNonUniformity', 'lCAU_gldm_DependenceVariance', 'rPUT_gldm_DependenceEntropy', 'lCAU_gldm_DependenceNonUniformity', 'lPUT_firstorder_Skewness', 'lSN_gldm_SmallDependenceEmphasis', 'lCAU_firstorder_Minimum', 'lSN_gldm_SmallDependenceHighGrayLevelEmphasis', 'lSN_gldm_SmallDependenceLowGrayLevelEmphasis', 'lCAU_gldm_DependenceEntropy', 'rSN_firstorder_Minimum', 'rCAU_gldm_DependenceNonUniformityNormalized', 'lPUT_gldm_DependenceNonUniformity', 'lSN_firstorder_10Percentile', 'lCAU_firstorder_90Percentile', 'lPUT_firstorder_Kurtosis', 'lCAU_firstorder_Skewness', 'rPUT_firstorder_Minimum', 'rCAU_firstorder_10Percentile', 'lCAU_firstorder_Mean', 'rCAU_firstorder_Skewness', 'lSN_firstorder_Energy', 'rCAU_firstorder_Kurtosis', 'lCAU_firstorder_RootMeanSquared', 'rSN_firstorder_10Percentile', 'lCAU_firstorder_10Percentile', 'lCAU_firstorder_Median', 'lSN_firstorder_TotalEnergy', 'lPUT_firstorder_Median', 'lCAU_firstorder_Kurtosis', 'lCAU_firstorder_Energy', 'rCAU_firstorder_Median', 'lSN_firstorder_90Percentile', 'lCAU_firstorder_TotalEnergy', 'rCAU_firstorder_Mean', 'lSN_firstorder_Variance', 'rCAU_firstorder_RootMeanSquared', 'lPUT_firstorder_Mean', 'rCAU_firstorder_Energy', 'rCAU_firstorder_TotalEnergy', 'lSN_firstorder_Mean', 'rPUT_firstorder_RobustMeanAbsoluteDeviation', 'rCAU_firstorder_90Percentile', 'rPUT_firstorder_Skewness', 'lSN_firstorder_MeanAbsoluteDeviation', 'lPUT_firstorder_RootMeanSquared', 'rCAU_firstorder_Minimum', 'lSN_firstorder_Range', 'rPUT_firstorder_MeanAbsoluteDeviation', 'lSN_firstorder_RobustMeanAbsoluteDeviation']\n"
     ]
    },
    {
     "name": "stderr",
     "output_type": "stream",
     "text": [
      "100%|██████████| 50/50 [00:00<00:00, 59.38it/s]\n"
     ]
    },
    {
     "name": "stdout",
     "output_type": "stream",
     "text": [
      "['lSN_gldm_DependenceNonUniformity', 'lCAU_gldm_DependenceVariance', 'rPUT_gldm_DependenceEntropy', 'lCAU_gldm_DependenceNonUniformity', 'lPUT_firstorder_Skewness', 'lSN_gldm_SmallDependenceEmphasis', 'lCAU_firstorder_Minimum', 'lSN_gldm_SmallDependenceHighGrayLevelEmphasis', 'lSN_gldm_SmallDependenceLowGrayLevelEmphasis', 'lCAU_gldm_DependenceEntropy', 'rSN_firstorder_Minimum', 'rCAU_gldm_DependenceNonUniformityNormalized', 'lPUT_gldm_DependenceNonUniformity', 'lSN_firstorder_10Percentile', 'lCAU_firstorder_90Percentile', 'lPUT_firstorder_Kurtosis', 'lCAU_firstorder_Skewness', 'rPUT_firstorder_Minimum', 'rCAU_firstorder_10Percentile', 'lCAU_firstorder_Mean', 'rCAU_firstorder_Skewness', 'lSN_firstorder_Energy', 'rCAU_firstorder_Kurtosis', 'lCAU_firstorder_RootMeanSquared', 'rSN_firstorder_10Percentile', 'lCAU_firstorder_10Percentile', 'lCAU_firstorder_Median', 'lSN_firstorder_TotalEnergy', 'lPUT_firstorder_Median', 'lCAU_firstorder_Kurtosis', 'lCAU_firstorder_Energy', 'rCAU_firstorder_Median', 'lSN_firstorder_90Percentile', 'lCAU_firstorder_TotalEnergy', 'rCAU_firstorder_Mean', 'lSN_firstorder_Variance', 'rCAU_firstorder_RootMeanSquared', 'lPUT_firstorder_Mean', 'rCAU_firstorder_Energy', 'rCAU_firstorder_TotalEnergy', 'lSN_firstorder_Mean', 'rPUT_firstorder_RobustMeanAbsoluteDeviation', 'rCAU_firstorder_90Percentile', 'rPUT_firstorder_Skewness', 'lSN_firstorder_MeanAbsoluteDeviation', 'lPUT_firstorder_RootMeanSquared', 'rCAU_firstorder_Minimum', 'lSN_firstorder_Range', 'rPUT_firstorder_MeanAbsoluteDeviation', 'lSN_firstorder_RobustMeanAbsoluteDeviation']\n"
     ]
    },
    {
     "name": "stderr",
     "output_type": "stream",
     "text": [
      "100%|██████████| 50/50 [00:00<00:00, 59.52it/s]\n"
     ]
    },
    {
     "name": "stdout",
     "output_type": "stream",
     "text": [
      "['lSN_gldm_DependenceNonUniformity', 'lCAU_gldm_DependenceVariance', 'rPUT_gldm_DependenceEntropy', 'lCAU_gldm_DependenceNonUniformity', 'lPUT_firstorder_Skewness', 'lSN_gldm_SmallDependenceEmphasis', 'lCAU_firstorder_Minimum', 'lSN_gldm_SmallDependenceHighGrayLevelEmphasis', 'lSN_gldm_SmallDependenceLowGrayLevelEmphasis', 'lCAU_gldm_DependenceEntropy', 'rSN_firstorder_Minimum', 'rCAU_gldm_DependenceNonUniformityNormalized', 'lPUT_gldm_DependenceNonUniformity', 'lSN_firstorder_10Percentile', 'lCAU_firstorder_90Percentile', 'lPUT_firstorder_Kurtosis', 'lCAU_firstorder_Skewness', 'rPUT_firstorder_Minimum', 'rCAU_firstorder_10Percentile', 'lCAU_firstorder_Mean', 'rCAU_firstorder_Skewness', 'lSN_firstorder_Energy', 'rCAU_firstorder_Kurtosis', 'lCAU_firstorder_RootMeanSquared', 'rSN_firstorder_10Percentile', 'lCAU_firstorder_10Percentile', 'lCAU_firstorder_Median', 'lSN_firstorder_TotalEnergy', 'lPUT_firstorder_Median', 'lCAU_firstorder_Kurtosis', 'lCAU_firstorder_Energy', 'rCAU_firstorder_Median', 'lSN_firstorder_90Percentile', 'lCAU_firstorder_TotalEnergy', 'rCAU_firstorder_Mean', 'lSN_firstorder_Variance', 'rCAU_firstorder_RootMeanSquared', 'lPUT_firstorder_Mean', 'rCAU_firstorder_Energy', 'rCAU_firstorder_TotalEnergy', 'lSN_firstorder_Mean', 'rPUT_firstorder_RobustMeanAbsoluteDeviation', 'rCAU_firstorder_90Percentile', 'rPUT_firstorder_Skewness', 'lSN_firstorder_MeanAbsoluteDeviation', 'lPUT_firstorder_RootMeanSquared', 'rCAU_firstorder_Minimum', 'lSN_firstorder_Range', 'rPUT_firstorder_MeanAbsoluteDeviation', 'lSN_firstorder_RobustMeanAbsoluteDeviation']\n"
     ]
    },
    {
     "name": "stderr",
     "output_type": "stream",
     "text": [
      "100%|██████████| 50/50 [00:00<00:00, 59.81it/s]"
     ]
    },
    {
     "name": "stdout",
     "output_type": "stream",
     "text": [
      "['lSN_gldm_DependenceNonUniformity', 'lCAU_gldm_DependenceVariance', 'rPUT_gldm_DependenceEntropy', 'lCAU_gldm_DependenceNonUniformity', 'lPUT_firstorder_Skewness', 'lSN_gldm_SmallDependenceEmphasis', 'lCAU_firstorder_Minimum', 'lSN_gldm_SmallDependenceHighGrayLevelEmphasis', 'lSN_gldm_SmallDependenceLowGrayLevelEmphasis', 'lCAU_gldm_DependenceEntropy', 'rSN_firstorder_Minimum', 'rCAU_gldm_DependenceNonUniformityNormalized', 'lPUT_gldm_DependenceNonUniformity', 'lSN_firstorder_10Percentile', 'lCAU_firstorder_90Percentile', 'lPUT_firstorder_Kurtosis', 'lCAU_firstorder_Skewness', 'rPUT_firstorder_Minimum', 'rCAU_firstorder_10Percentile', 'lCAU_firstorder_Mean', 'rCAU_firstorder_Skewness', 'lSN_firstorder_Energy', 'rCAU_firstorder_Kurtosis', 'lCAU_firstorder_RootMeanSquared', 'rSN_firstorder_10Percentile', 'lCAU_firstorder_10Percentile', 'lCAU_firstorder_Median', 'lSN_firstorder_TotalEnergy', 'lPUT_firstorder_Median', 'lCAU_firstorder_Kurtosis', 'lCAU_firstorder_Energy', 'rCAU_firstorder_Median', 'lSN_firstorder_90Percentile', 'lCAU_firstorder_TotalEnergy', 'rCAU_firstorder_Mean', 'lSN_firstorder_Variance', 'rCAU_firstorder_RootMeanSquared', 'lPUT_firstorder_Mean', 'rCAU_firstorder_Energy', 'rCAU_firstorder_TotalEnergy', 'lSN_firstorder_Mean', 'rPUT_firstorder_RobustMeanAbsoluteDeviation', 'rCAU_firstorder_90Percentile', 'rPUT_firstorder_Skewness', 'lSN_firstorder_MeanAbsoluteDeviation', 'lPUT_firstorder_RootMeanSquared', 'rCAU_firstorder_Minimum', 'lSN_firstorder_Range', 'rPUT_firstorder_MeanAbsoluteDeviation', 'lSN_firstorder_RobustMeanAbsoluteDeviation']\n"
     ]
    },
    {
     "name": "stderr",
     "output_type": "stream",
     "text": [
      "\n"
     ]
    }
   ],
   "source": [
    "# bootstrap\n",
    "n_bootstrap = 10\n",
    "for i in range(n_bootstrap):\n",
    "    selected = mrmr_classif(x_train, y_train, 50)\n",
    "    print(selected)"
   ]
  }
 ],
 "metadata": {
  "kernelspec": {
   "display_name": "Python 3.8.10 64-bit ('3.8.10')",
   "language": "python",
   "name": "python3"
  },
  "language_info": {
   "codemirror_mode": {
    "name": "ipython",
    "version": 3
   },
   "file_extension": ".py",
   "mimetype": "text/x-python",
   "name": "python",
   "nbconvert_exporter": "python",
   "pygments_lexer": "ipython3",
   "version": "3.8.10"
  },
  "orig_nbformat": 4,
  "vscode": {
   "interpreter": {
    "hash": "420353a47962bc0cada1a6173771095a3d05bd8a3ecc61a5b633bf029926f1ac"
   }
  }
 },
 "nbformat": 4,
 "nbformat_minor": 2
}
