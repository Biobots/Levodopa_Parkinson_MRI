{
 "cells": [
  {
   "cell_type": "code",
   "execution_count": 63,
   "metadata": {},
   "outputs": [],
   "source": [
    "import nibabel as nib\n",
    "import nilearn as nil\n",
    "import numpy as np\n",
    "import pandas as pd\n",
    "import os\n",
    "import os.path\n",
    "import logging\n",
    "from nilearn import plotting, image\n",
    "import radiomics\n",
    "from radiomics import featureextractor\n",
    "from src.utils.data import getDataPandas"
   ]
  },
  {
   "cell_type": "code",
   "execution_count": 38,
   "metadata": {},
   "outputs": [],
   "source": [
    "data = getDataPandas()\n",
    "mask_path = 'bin/raal3.nii'\n",
    "mask_template = nib.load(mask_path).get_fdata().astype(int)\n",
    "mask_tags = {\n",
    "    'lCAU': [75],\n",
    "    'rCAU': [76],\n",
    "    'lPUT': [77],\n",
    "    'rPUT': [78],\n",
    "    'rSN': [162, 164],\n",
    "    'lSN': [161, 163]\n",
    "    #'thalamus': [121, 122, 123, 124, 125, 126, 127, 128, 129, 130, 131, 132, 133, 134, 135, 136, 137, 138, 139, 140, 141, 142, 143, 144, 145, 146, 147, 148, 149, 150]\n",
    "}\n",
    "#mask[np.isin(mask_template, mask_tags['caudate nucleus'])] = 1\n",
    "#mask[np.isin(mask_template, mask_tags['putamen'])] = 2\n",
    "#mask[np.isin(mask_template, mask_tags['substantia nigra'])] = 3\n",
    "#mask[np.isin(mask_template, mask_tags['thalamus'])] = 4"
   ]
  },
  {
   "cell_type": "code",
   "execution_count": 42,
   "metadata": {},
   "outputs": [],
   "source": [
    "for tag, labels in mask_tags.items():\n",
    "    mask = np.full(mask_template.shape, 0)\n",
    "    for label in labels:\n",
    "        mask[mask_template == label] = 1\n",
    "    img = image.new_img_like(mask_path, mask)\n",
    "    img.to_filename(os.path.join('bin', 'roi', tag + '.nii'))"
   ]
  },
  {
   "cell_type": "code",
   "execution_count": 48,
   "metadata": {},
   "outputs": [],
   "source": [
    "radiomics.logger.setLevel(logging.ERROR)\n",
    "extract = featureextractor.RadiomicsFeatureExtractor()\n",
    "extract.loadParams(os.path.join('data', 'radiomic.yaml'))"
   ]
  },
  {
   "cell_type": "code",
   "execution_count": 160,
   "metadata": {},
   "outputs": [],
   "source": [
    "def cal_radiomics(path):\n",
    "    filtered_rst = {}\n",
    "    for key in mask_tags.keys():\n",
    "        rst = extract.execute(path, os.path.join('bin', 'roi', key + '.nii'))\n",
    "        for k, v in rst.items():\n",
    "            if ('firstorder' in k) or ('glcm' in k) or ('gldm' in k):\n",
    "            #if ('firstorder' in k):\n",
    "                filtered_rst[k.replace('original', key)] = v\n",
    "    return filtered_rst"
   ]
  },
  {
   "cell_type": "code",
   "execution_count": 161,
   "metadata": {},
   "outputs": [],
   "source": [
    "rsts = list(map(cal_radiomics, data['T1_GM_PATH']))"
   ]
  },
  {
   "cell_type": "code",
   "execution_count": 162,
   "metadata": {},
   "outputs": [],
   "source": [
    "data_radiomic = pd.DataFrame(rsts)\n",
    "data_radiomic = data_radiomic.astype(float)\n",
    "data_radiomic['KEY'] = data['KEY']"
   ]
  },
  {
   "cell_type": "code",
   "execution_count": 163,
   "metadata": {},
   "outputs": [],
   "source": [
    "import json\n",
    "with open(os.path.join('data', 'json', 'data_radiomic.json'), 'w+', encoding=\"utf-8\") as f:\n",
    "        json.dump(data_radiomic.to_dict(orient='records'), f, ensure_ascii=False, indent=4)"
   ]
  }
 ],
 "metadata": {
  "kernelspec": {
   "display_name": "Python 3.8.10 64-bit ('3.8.10')",
   "language": "python",
   "name": "python3"
  },
  "language_info": {
   "codemirror_mode": {
    "name": "ipython",
    "version": 3
   },
   "file_extension": ".py",
   "mimetype": "text/x-python",
   "name": "python",
   "nbconvert_exporter": "python",
   "pygments_lexer": "ipython3",
   "version": "3.8.10"
  },
  "orig_nbformat": 4,
  "vscode": {
   "interpreter": {
    "hash": "420353a47962bc0cada1a6173771095a3d05bd8a3ecc61a5b633bf029926f1ac"
   }
  }
 },
 "nbformat": 4,
 "nbformat_minor": 2
}
