{
 "cells": [
  {
   "cell_type": "code",
   "execution_count": 75,
   "metadata": {},
   "outputs": [],
   "source": [
    "import nibabel as nib\n",
    "import numpy as np\n",
    "import pandas as pd\n",
    "import matplotlib.pyplot as plt\n",
    "from xgboost.sklearn import XGBClassifier\n",
    "from sklearn.model_selection import GridSearchCV, RandomizedSearchCV\n",
    "from sklearn.model_selection import train_test_split\n",
    "from sklearn import metrics\n",
    "from scipy.stats import zscore\n",
    "from src.utils.data import getDataPandas"
   ]
  },
  {
   "cell_type": "code",
   "execution_count": 7,
   "metadata": {},
   "outputs": [],
   "source": [
    "data = getDataPandas()\n",
    "data = data.drop_duplicates(subset=['PATNO', 'EVENT_ID'], keep='first').reset_index(drop=True)"
   ]
  },
  {
   "cell_type": "code",
   "execution_count": 8,
   "metadata": {},
   "outputs": [],
   "source": [
    "data = data.drop(data[data['NUPDR3OF'] < 5].index).reset_index(drop=True)"
   ]
  },
  {
   "cell_type": "code",
   "execution_count": 9,
   "metadata": {},
   "outputs": [],
   "source": [
    "def load_img(rec):\n",
    "    img_data = np.array(nib.load(rec.T1_GM_PATH).get_fdata())\n",
    "    return img_data"
   ]
  },
  {
   "cell_type": "code",
   "execution_count": 10,
   "metadata": {},
   "outputs": [],
   "source": [
    "data['T1'] = data.apply(load_img, axis=1)"
   ]
  },
  {
   "cell_type": "code",
   "execution_count": 11,
   "metadata": {},
   "outputs": [],
   "source": [
    "vox = np.array([np.array(l) for l in data['T1']])\n",
    "vox = np.reshape(vox, (data.shape[0], -1))"
   ]
  },
  {
   "cell_type": "code",
   "execution_count": 12,
   "metadata": {},
   "outputs": [],
   "source": [
    "from sklearn.decomposition import PCA\n",
    "pca = PCA(n_components=0.9)\n",
    "features = pca.fit_transform(vox)\n",
    "fe = pd.DataFrame(features)"
   ]
  },
  {
   "cell_type": "code",
   "execution_count": 13,
   "metadata": {},
   "outputs": [
    {
     "data": {
      "text/plain": [
       "(236, 135)"
      ]
     },
     "execution_count": 13,
     "metadata": {},
     "output_type": "execute_result"
    }
   ],
   "source": [
    "fe.shape"
   ]
  },
  {
   "cell_type": "code",
   "execution_count": 109,
   "metadata": {},
   "outputs": [],
   "source": [
    "x = data[['NUPDR3OF', 'NUPDR3ON', 'SCORE', 'AGE_AT_VISIT', 'SEX', 'DURATION']]\n",
    "x = x.join(fe.apply(zscore))\n",
    "#x[['NUPDR3OF', 'AGE_AT_VISIT', 'DURATION']] = x[['NUPDR3OF', 'AGE_AT_VISIT', 'DURATION']].apply(zscore)\n",
    "y = data[['CAT']]\n",
    "x_train, x_test, y_train, y_test = train_test_split(x, y, test_size=0.2, random_state=12)"
   ]
  },
  {
   "cell_type": "code",
   "execution_count": 110,
   "metadata": {},
   "outputs": [
    {
     "name": "stdout",
     "output_type": "stream",
     "text": [
      "NormaltestResult(statistic=7.665538969853419, pvalue=0.021649574356674188)\n",
      "NormaltestResult(statistic=19.63985660250209, pvalue=5.4357481419856984e-05)\n",
      "NormaltestResult(statistic=4.57309756441518, pvalue=0.10161655825076794)\n",
      "NormaltestResult(statistic=12.774408014190307, pvalue=0.0016829551598869497)\n",
      "NormaltestResult(statistic=4.9940877685637854, pvalue=0.08232801038703247)\n",
      "\n",
      "NormaltestResult(statistic=4.69628848103336, pvalue=0.09554630876260099)\n",
      "NormaltestResult(statistic=19.030603023005114, pvalue=7.371520199116631e-05)\n",
      "NormaltestResult(statistic=4.953061641536057, pvalue=0.08403425036791416)\n",
      "NormaltestResult(statistic=5.3725560313142475, pvalue=0.06813406193217383)\n",
      "NormaltestResult(statistic=0.6712030263173397, pvalue=0.7149079304659041)\n",
      "\n",
      "RanksumsResult(statistic=-0.5234909527662854, pvalue=0.6006326453262173)\n",
      "RanksumsResult(statistic=-0.35175749541082985, pvalue=0.7250201375324923)\n",
      "Ttest_indResult(statistic=0.34693694405823267, pvalue=0.7289504945388563)\n",
      "RanksumsResult(statistic=-0.02605611077117258, pvalue=0.9792125836963168)\n",
      "Ttest_indResult(statistic=-0.2996546844850952, pvalue=0.7647065672348718)\n",
      "0.17580374680190106\n",
      "0.41875305793882744\n"
     ]
    }
   ],
   "source": [
    "from scipy.stats import ttest_ind, chi2_contingency, normaltest, ranksums\n",
    "print(normaltest(x_train['NUPDR3OF']))\n",
    "print(normaltest(x_train['NUPDR3ON']))\n",
    "print(normaltest(x_train['AGE_AT_VISIT']))\n",
    "print(normaltest(x_train['DURATION']))\n",
    "print(normaltest(x_train['SCORE']))\n",
    "print()\n",
    "print(normaltest(x_test['NUPDR3OF']))\n",
    "print(normaltest(x_test['NUPDR3ON']))\n",
    "print(normaltest(x_test['AGE_AT_VISIT']))\n",
    "print(normaltest(x_test['DURATION']))\n",
    "print(normaltest(x_test['SCORE']))\n",
    "print()\n",
    "print(ranksums(x_train['NUPDR3OF'], x_test['NUPDR3OF']))\n",
    "print(ranksums(x_train['NUPDR3ON'], x_test['NUPDR3ON']))\n",
    "print(ttest_ind(x_train['AGE_AT_VISIT'], x_test['AGE_AT_VISIT']))\n",
    "print(ranksums(x_train['DURATION'], x_test['DURATION']))\n",
    "print(ttest_ind(x_train['SCORE'], x_test['SCORE']))\n",
    "_, p, _, _ = chi2_contingency([[len(x_test[x_test['SEX']==0]), len(x_train[x_train['SEX']==0])], [len(x_test[x_test['SEX']==1]), len(x_train[x_train['SEX']==1])]])\n",
    "print(p)\n",
    "_, p, _, _ = chi2_contingency([[len(y_test[y_test['CAT']==0]), len(y_train[y_train['CAT']==0])], [len(y_test[y_test['CAT']==1]), len(y_train[y_train['CAT']==1])]])\n",
    "print(p)"
   ]
  },
  {
   "cell_type": "code",
   "execution_count": 111,
   "metadata": {},
   "outputs": [
    {
     "name": "stdout",
     "output_type": "stream",
     "text": [
      "NormaltestResult(statistic=4.349438844218418, pvalue=0.11364003407915704)\n",
      "NormaltestResult(statistic=6.651504515461585, pvalue=0.03594546832382435)\n",
      "NormaltestResult(statistic=2.1933814126138955, pvalue=0.333974476594561)\n",
      "NormaltestResult(statistic=4.07495714050031, pvalue=0.13035698282177208)\n",
      "\n",
      "NormaltestResult(statistic=6.50169085089067, pvalue=0.03874144098271398)\n",
      "NormaltestResult(statistic=15.138369784001751, pvalue=0.000516112965012224)\n",
      "NormaltestResult(statistic=6.188144537159751, pvalue=0.04531703500166281)\n",
      "NormaltestResult(statistic=5.933532013824612, pvalue=0.0514694934556066)\n",
      "\n",
      "RanksumsResult(statistic=-0.20308790076037553, pvalue=0.8390663284689516)\n",
      "RanksumsResult(statistic=7.249189246390306, pvalue=4.192737282670555e-13)\n",
      "RanksumsResult(statistic=2.2015491213882963, pvalue=0.02769717324567565)\n",
      "Ttest_indResult(statistic=-4.246434784214753, pvalue=3.134735560315373e-05)\n",
      "1.0\n"
     ]
    }
   ],
   "source": [
    "x1 = x[y['CAT']==1]\n",
    "x0 = x[y['CAT']==0]\n",
    "print(normaltest(x1['NUPDR3OF']))\n",
    "print(normaltest(x1['NUPDR3ON']))\n",
    "print(normaltest(x1['AGE_AT_VISIT']))\n",
    "print(normaltest(x1['DURATION']))\n",
    "print()\n",
    "print(normaltest(x0['NUPDR3OF']))\n",
    "print(normaltest(x0['NUPDR3ON']))\n",
    "print(normaltest(x0['AGE_AT_VISIT']))\n",
    "print(normaltest(x0['DURATION']))\n",
    "print()\n",
    "print(ranksums(x0['NUPDR3OF'], x1['NUPDR3OF']))\n",
    "print(ranksums(x0['NUPDR3ON'], x1['NUPDR3ON']))\n",
    "print(ranksums(x0['AGE_AT_VISIT'], x1['AGE_AT_VISIT']))\n",
    "print(ttest_ind(x0['DURATION'], x1['DURATION']))\n",
    "_, p, _, _ = chi2_contingency([[len(x1[x1['SEX']==0]), len(x0[x0['SEX']==0])], [len(x1[x1['SEX']==1]), len(x0[x0['SEX']==1])]])\n",
    "print(p)"
   ]
  },
  {
   "cell_type": "code",
   "execution_count": 57,
   "metadata": {},
   "outputs": [],
   "source": [
    "model = XGBClassifier()\n",
    "parameters = {'nthread': [4],\n",
    "              'objective': ['binary:logistic'],\n",
    "              'learning_rate': [0.1, 0.15, 0.2],\n",
    "              'max_depth': [5, 10, 15],\n",
    "              'min_child_weight': [5, 10, 15],\n",
    "              'subsample': [0.8, 0.85, 0.9],\n",
    "              'colsample_bytree': [0.75, 0.8, 0.85],\n",
    "              'n_estimators': [50, 100, 200],\n",
    "              'missing': [-999],\n",
    "              'seed': [1]}\n",
    "clf = GridSearchCV(model, parameters,\n",
    "                        n_jobs=5,\n",
    "                        cv=5,\n",
    "                        verbose=3,\n",
    "                        #n_iter=200,\n",
    "                        scoring='roc_auc')"
   ]
  },
  {
   "cell_type": "code",
   "execution_count": 68,
   "metadata": {},
   "outputs": [
    {
     "name": "stdout",
     "output_type": "stream",
     "text": [
      "Fitting 5 folds for each of 729 candidates, totalling 3645 fits\n"
     ]
    },
    {
     "data": {
      "text/html": [
       "<style>#sk-container-id-4 {color: black;background-color: white;}#sk-container-id-4 pre{padding: 0;}#sk-container-id-4 div.sk-toggleable {background-color: white;}#sk-container-id-4 label.sk-toggleable__label {cursor: pointer;display: block;width: 100%;margin-bottom: 0;padding: 0.3em;box-sizing: border-box;text-align: center;}#sk-container-id-4 label.sk-toggleable__label-arrow:before {content: \"▸\";float: left;margin-right: 0.25em;color: #696969;}#sk-container-id-4 label.sk-toggleable__label-arrow:hover:before {color: black;}#sk-container-id-4 div.sk-estimator:hover label.sk-toggleable__label-arrow:before {color: black;}#sk-container-id-4 div.sk-toggleable__content {max-height: 0;max-width: 0;overflow: hidden;text-align: left;background-color: #f0f8ff;}#sk-container-id-4 div.sk-toggleable__content pre {margin: 0.2em;color: black;border-radius: 0.25em;background-color: #f0f8ff;}#sk-container-id-4 input.sk-toggleable__control:checked~div.sk-toggleable__content {max-height: 200px;max-width: 100%;overflow: auto;}#sk-container-id-4 input.sk-toggleable__control:checked~label.sk-toggleable__label-arrow:before {content: \"▾\";}#sk-container-id-4 div.sk-estimator input.sk-toggleable__control:checked~label.sk-toggleable__label {background-color: #d4ebff;}#sk-container-id-4 div.sk-label input.sk-toggleable__control:checked~label.sk-toggleable__label {background-color: #d4ebff;}#sk-container-id-4 input.sk-hidden--visually {border: 0;clip: rect(1px 1px 1px 1px);clip: rect(1px, 1px, 1px, 1px);height: 1px;margin: -1px;overflow: hidden;padding: 0;position: absolute;width: 1px;}#sk-container-id-4 div.sk-estimator {font-family: monospace;background-color: #f0f8ff;border: 1px dotted black;border-radius: 0.25em;box-sizing: border-box;margin-bottom: 0.5em;}#sk-container-id-4 div.sk-estimator:hover {background-color: #d4ebff;}#sk-container-id-4 div.sk-parallel-item::after {content: \"\";width: 100%;border-bottom: 1px solid gray;flex-grow: 1;}#sk-container-id-4 div.sk-label:hover label.sk-toggleable__label {background-color: #d4ebff;}#sk-container-id-4 div.sk-serial::before {content: \"\";position: absolute;border-left: 1px solid gray;box-sizing: border-box;top: 0;bottom: 0;left: 50%;z-index: 0;}#sk-container-id-4 div.sk-serial {display: flex;flex-direction: column;align-items: center;background-color: white;padding-right: 0.2em;padding-left: 0.2em;position: relative;}#sk-container-id-4 div.sk-item {position: relative;z-index: 1;}#sk-container-id-4 div.sk-parallel {display: flex;align-items: stretch;justify-content: center;background-color: white;position: relative;}#sk-container-id-4 div.sk-item::before, #sk-container-id-4 div.sk-parallel-item::before {content: \"\";position: absolute;border-left: 1px solid gray;box-sizing: border-box;top: 0;bottom: 0;left: 50%;z-index: -1;}#sk-container-id-4 div.sk-parallel-item {display: flex;flex-direction: column;z-index: 1;position: relative;background-color: white;}#sk-container-id-4 div.sk-parallel-item:first-child::after {align-self: flex-end;width: 50%;}#sk-container-id-4 div.sk-parallel-item:last-child::after {align-self: flex-start;width: 50%;}#sk-container-id-4 div.sk-parallel-item:only-child::after {width: 0;}#sk-container-id-4 div.sk-dashed-wrapped {border: 1px dashed gray;margin: 0 0.4em 0.5em 0.4em;box-sizing: border-box;padding-bottom: 0.4em;background-color: white;}#sk-container-id-4 div.sk-label label {font-family: monospace;font-weight: bold;display: inline-block;line-height: 1.2em;}#sk-container-id-4 div.sk-label-container {text-align: center;}#sk-container-id-4 div.sk-container {/* jupyter's `normalize.less` sets `[hidden] { display: none; }` but bootstrap.min.css set `[hidden] { display: none !important; }` so we also need the `!important` here to be able to override the default hidden behavior on the sphinx rendered scikit-learn.org. See: https://github.com/scikit-learn/scikit-learn/issues/21755 */display: inline-block !important;position: relative;}#sk-container-id-4 div.sk-text-repr-fallback {display: none;}</style><div id=\"sk-container-id-4\" class=\"sk-top-container\"><div class=\"sk-text-repr-fallback\"><pre>GridSearchCV(cv=5,\n",
       "             estimator=XGBClassifier(base_score=None, booster=None,\n",
       "                                     callbacks=None, colsample_bylevel=None,\n",
       "                                     colsample_bynode=None,\n",
       "                                     colsample_bytree=None,\n",
       "                                     early_stopping_rounds=None,\n",
       "                                     enable_categorical=False, eval_metric=None,\n",
       "                                     feature_types=None, gamma=None,\n",
       "                                     gpu_id=None, grow_policy=None,\n",
       "                                     importance_type=None,\n",
       "                                     interaction_constraints=None,\n",
       "                                     learning_rate=None,...\n",
       "                                     num_parallel_tree=None, predictor=None,\n",
       "                                     random_state=None, ...),\n",
       "             n_jobs=5,\n",
       "             param_grid={&#x27;colsample_bytree&#x27;: [0.75, 0.8, 0.85],\n",
       "                         &#x27;learning_rate&#x27;: [0.1, 0.15, 0.2],\n",
       "                         &#x27;max_depth&#x27;: [5, 10, 15],\n",
       "                         &#x27;min_child_weight&#x27;: [5, 10, 15], &#x27;missing&#x27;: [-999],\n",
       "                         &#x27;n_estimators&#x27;: [50, 100, 200], &#x27;nthread&#x27;: [4],\n",
       "                         &#x27;objective&#x27;: [&#x27;binary:logistic&#x27;], &#x27;seed&#x27;: [1],\n",
       "                         &#x27;subsample&#x27;: [0.8, 0.85, 0.9]},\n",
       "             scoring=&#x27;roc_auc&#x27;, verbose=3)</pre><b>In a Jupyter environment, please rerun this cell to show the HTML representation or trust the notebook. <br />On GitHub, the HTML representation is unable to render, please try loading this page with nbviewer.org.</b></div><div class=\"sk-container\" hidden><div class=\"sk-item sk-dashed-wrapped\"><div class=\"sk-label-container\"><div class=\"sk-label sk-toggleable\"><input class=\"sk-toggleable__control sk-hidden--visually\" id=\"sk-estimator-id-10\" type=\"checkbox\" ><label for=\"sk-estimator-id-10\" class=\"sk-toggleable__label sk-toggleable__label-arrow\">GridSearchCV</label><div class=\"sk-toggleable__content\"><pre>GridSearchCV(cv=5,\n",
       "             estimator=XGBClassifier(base_score=None, booster=None,\n",
       "                                     callbacks=None, colsample_bylevel=None,\n",
       "                                     colsample_bynode=None,\n",
       "                                     colsample_bytree=None,\n",
       "                                     early_stopping_rounds=None,\n",
       "                                     enable_categorical=False, eval_metric=None,\n",
       "                                     feature_types=None, gamma=None,\n",
       "                                     gpu_id=None, grow_policy=None,\n",
       "                                     importance_type=None,\n",
       "                                     interaction_constraints=None,\n",
       "                                     learning_rate=None,...\n",
       "                                     num_parallel_tree=None, predictor=None,\n",
       "                                     random_state=None, ...),\n",
       "             n_jobs=5,\n",
       "             param_grid={&#x27;colsample_bytree&#x27;: [0.75, 0.8, 0.85],\n",
       "                         &#x27;learning_rate&#x27;: [0.1, 0.15, 0.2],\n",
       "                         &#x27;max_depth&#x27;: [5, 10, 15],\n",
       "                         &#x27;min_child_weight&#x27;: [5, 10, 15], &#x27;missing&#x27;: [-999],\n",
       "                         &#x27;n_estimators&#x27;: [50, 100, 200], &#x27;nthread&#x27;: [4],\n",
       "                         &#x27;objective&#x27;: [&#x27;binary:logistic&#x27;], &#x27;seed&#x27;: [1],\n",
       "                         &#x27;subsample&#x27;: [0.8, 0.85, 0.9]},\n",
       "             scoring=&#x27;roc_auc&#x27;, verbose=3)</pre></div></div></div><div class=\"sk-parallel\"><div class=\"sk-parallel-item\"><div class=\"sk-item\"><div class=\"sk-label-container\"><div class=\"sk-label sk-toggleable\"><input class=\"sk-toggleable__control sk-hidden--visually\" id=\"sk-estimator-id-11\" type=\"checkbox\" ><label for=\"sk-estimator-id-11\" class=\"sk-toggleable__label sk-toggleable__label-arrow\">estimator: XGBClassifier</label><div class=\"sk-toggleable__content\"><pre>XGBClassifier(base_score=None, booster=None, callbacks=None,\n",
       "              colsample_bylevel=None, colsample_bynode=None,\n",
       "              colsample_bytree=None, early_stopping_rounds=None,\n",
       "              enable_categorical=False, eval_metric=None, feature_types=None,\n",
       "              gamma=None, gpu_id=None, grow_policy=None, importance_type=None,\n",
       "              interaction_constraints=None, learning_rate=None, max_bin=None,\n",
       "              max_cat_threshold=None, max_cat_to_onehot=None,\n",
       "              max_delta_step=None, max_depth=None, max_leaves=None,\n",
       "              min_child_weight=None, missing=nan, monotone_constraints=None,\n",
       "              n_estimators=100, n_jobs=None, num_parallel_tree=None,\n",
       "              predictor=None, random_state=None, ...)</pre></div></div></div><div class=\"sk-serial\"><div class=\"sk-item\"><div class=\"sk-estimator sk-toggleable\"><input class=\"sk-toggleable__control sk-hidden--visually\" id=\"sk-estimator-id-12\" type=\"checkbox\" ><label for=\"sk-estimator-id-12\" class=\"sk-toggleable__label sk-toggleable__label-arrow\">XGBClassifier</label><div class=\"sk-toggleable__content\"><pre>XGBClassifier(base_score=None, booster=None, callbacks=None,\n",
       "              colsample_bylevel=None, colsample_bynode=None,\n",
       "              colsample_bytree=None, early_stopping_rounds=None,\n",
       "              enable_categorical=False, eval_metric=None, feature_types=None,\n",
       "              gamma=None, gpu_id=None, grow_policy=None, importance_type=None,\n",
       "              interaction_constraints=None, learning_rate=None, max_bin=None,\n",
       "              max_cat_threshold=None, max_cat_to_onehot=None,\n",
       "              max_delta_step=None, max_depth=None, max_leaves=None,\n",
       "              min_child_weight=None, missing=nan, monotone_constraints=None,\n",
       "              n_estimators=100, n_jobs=None, num_parallel_tree=None,\n",
       "              predictor=None, random_state=None, ...)</pre></div></div></div></div></div></div></div></div></div></div>"
      ],
      "text/plain": [
       "GridSearchCV(cv=5,\n",
       "             estimator=XGBClassifier(base_score=None, booster=None,\n",
       "                                     callbacks=None, colsample_bylevel=None,\n",
       "                                     colsample_bynode=None,\n",
       "                                     colsample_bytree=None,\n",
       "                                     early_stopping_rounds=None,\n",
       "                                     enable_categorical=False, eval_metric=None,\n",
       "                                     feature_types=None, gamma=None,\n",
       "                                     gpu_id=None, grow_policy=None,\n",
       "                                     importance_type=None,\n",
       "                                     interaction_constraints=None,\n",
       "                                     learning_rate=None,...\n",
       "                                     num_parallel_tree=None, predictor=None,\n",
       "                                     random_state=None, ...),\n",
       "             n_jobs=5,\n",
       "             param_grid={'colsample_bytree': [0.75, 0.8, 0.85],\n",
       "                         'learning_rate': [0.1, 0.15, 0.2],\n",
       "                         'max_depth': [5, 10, 15],\n",
       "                         'min_child_weight': [5, 10, 15], 'missing': [-999],\n",
       "                         'n_estimators': [50, 100, 200], 'nthread': [4],\n",
       "                         'objective': ['binary:logistic'], 'seed': [1],\n",
       "                         'subsample': [0.8, 0.85, 0.9]},\n",
       "             scoring='roc_auc', verbose=3)"
      ]
     },
     "execution_count": 68,
     "metadata": {},
     "output_type": "execute_result"
    }
   ],
   "source": [
    "clf.fit(x_train, y_train)"
   ]
  },
  {
   "cell_type": "code",
   "execution_count": 69,
   "metadata": {},
   "outputs": [
    {
     "data": {
      "text/plain": [
       "{'colsample_bytree': 0.75,\n",
       " 'learning_rate': 0.1,\n",
       " 'max_depth': 5,\n",
       " 'min_child_weight': 10,\n",
       " 'missing': -999,\n",
       " 'n_estimators': 50,\n",
       " 'nthread': 4,\n",
       " 'objective': 'binary:logistic',\n",
       " 'seed': 1,\n",
       " 'subsample': 0.85}"
      ]
     },
     "execution_count": 69,
     "metadata": {},
     "output_type": "execute_result"
    }
   ],
   "source": [
    "clf.best_params_"
   ]
  },
  {
   "cell_type": "code",
   "execution_count": 70,
   "metadata": {},
   "outputs": [
    {
     "name": "stdout",
     "output_type": "stream",
     "text": [
      "AUC train 0.6875723299476763, test 0.5731922398589064\n"
     ]
    }
   ],
   "source": [
    "y_prob = clf.best_estimator_.predict_proba(x_test)\n",
    "print('AUC train {}, test {}'.format(clf.best_score_, metrics.roc_auc_score(list(y_test['CAT']), y_prob[:, 1])))"
   ]
  },
  {
   "cell_type": "code",
   "execution_count": 71,
   "metadata": {},
   "outputs": [
    {
     "name": "stdout",
     "output_type": "stream",
     "text": [
      "              precision    recall  f1-score   support\n",
      "\n",
      "           0       0.71      0.72      0.71        97\n",
      "           1       0.70      0.68      0.69        91\n",
      "\n",
      "    accuracy                           0.70       188\n",
      "   macro avg       0.70      0.70      0.70       188\n",
      "weighted avg       0.70      0.70      0.70       188\n",
      "\n",
      "              precision    recall  f1-score   support\n",
      "\n",
      "           0       0.55      0.57      0.56        21\n",
      "           1       0.65      0.63      0.64        27\n",
      "\n",
      "    accuracy                           0.60        48\n",
      "   macro avg       0.60      0.60      0.60        48\n",
      "weighted avg       0.61      0.60      0.61        48\n",
      "\n"
     ]
    }
   ],
   "source": [
    "y_pred = clf.best_estimator_.predict(x_train)\n",
    "print(metrics.classification_report(list(y_train['CAT']), y_pred))\n",
    "y_pred = clf.best_estimator_.predict(x_test)\n",
    "print(metrics.classification_report(list(y_test['CAT']), y_pred))"
   ]
  }
 ],
 "metadata": {
  "kernelspec": {
   "display_name": "Python 3.8.10 64-bit ('3.8.10')",
   "language": "python",
   "name": "python3"
  },
  "language_info": {
   "codemirror_mode": {
    "name": "ipython",
    "version": 3
   },
   "file_extension": ".py",
   "mimetype": "text/x-python",
   "name": "python",
   "nbconvert_exporter": "python",
   "pygments_lexer": "ipython3",
   "version": "3.8.10"
  },
  "orig_nbformat": 4,
  "vscode": {
   "interpreter": {
    "hash": "420353a47962bc0cada1a6173771095a3d05bd8a3ecc61a5b633bf029926f1ac"
   }
  }
 },
 "nbformat": 4,
 "nbformat_minor": 2
}
