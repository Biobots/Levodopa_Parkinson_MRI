{
 "cells": [
  {
   "cell_type": "code",
   "execution_count": 18,
   "metadata": {},
   "outputs": [],
   "source": [
    "import nibabel as nib\n",
    "import numpy as np\n",
    "import pandas as pd\n",
    "import matplotlib.pyplot as plt\n",
    "from xgboost.sklearn import XGBClassifier\n",
    "from sklearn.model_selection import GridSearchCV, RandomizedSearchCV\n",
    "from sklearn.model_selection import train_test_split\n",
    "from sklearn.model_selection import StratifiedKFold\n",
    "from sklearn import metrics\n",
    "from scipy.stats import zscore\n",
    "from src.utils.data import getDataPandas"
   ]
  },
  {
   "cell_type": "code",
   "execution_count": 19,
   "metadata": {},
   "outputs": [],
   "source": [
    "data = getDataPandas()\n",
    "data = data.sample(frac=1, random_state=1)\n",
    "data = data.drop_duplicates(subset=['PATNO', 'EVENT_ID'], keep='first').reset_index(drop=True)"
   ]
  },
  {
   "cell_type": "code",
   "execution_count": 20,
   "metadata": {},
   "outputs": [],
   "source": [
    "data = data.drop(data[data['NUPDR3OF'] < 5].index).reset_index(drop=True)"
   ]
  },
  {
   "cell_type": "code",
   "execution_count": 21,
   "metadata": {},
   "outputs": [],
   "source": [
    "def load_img(rec):\n",
    "    img_data = np.array(nib.load(rec.T1_MNI_PATH).get_fdata())\n",
    "    return img_data"
   ]
  },
  {
   "cell_type": "code",
   "execution_count": 22,
   "metadata": {},
   "outputs": [],
   "source": [
    "data['T1'] = data.apply(load_img, axis=1)"
   ]
  },
  {
   "cell_type": "code",
   "execution_count": 23,
   "metadata": {},
   "outputs": [],
   "source": [
    "vox = np.array([np.array(l) for l in data['T1']])\n",
    "vox = np.reshape(vox, (data.shape[0], -1))\n",
    "vox = zscore(vox, axis=1)"
   ]
  },
  {
   "cell_type": "code",
   "execution_count": 24,
   "metadata": {},
   "outputs": [],
   "source": [
    "x = data[['NUPDR3ON', 'AGE_AT_VISIT', 'SEX', 'DURATION']]\n",
    "y = data[['CAT']]\n",
    "x_train, x_test, y_train, y_test = train_test_split(x, y, test_size=0.2, random_state=12, stratify=y)"
   ]
  },
  {
   "cell_type": "code",
   "execution_count": 25,
   "metadata": {},
   "outputs": [
    {
     "name": "stdout",
     "output_type": "stream",
     "text": [
      "94\n",
      "94\n",
      "24\n",
      "24\n"
     ]
    }
   ],
   "source": [
    "print(len(y_train[y_train['CAT']==1]))\n",
    "print(len(y_train[y_train['CAT']==0]))\n",
    "print(len(y_test[y_test['CAT']==1]))\n",
    "print(len(y_test[y_test['CAT']==0]))"
   ]
  },
  {
   "cell_type": "code",
   "execution_count": 26,
   "metadata": {},
   "outputs": [],
   "source": [
    "from sklearn.decomposition import PCA\n",
    "pca = PCA(n_components=0.9)\n",
    "train_features = pca.fit_transform(vox[x_train.index])\n",
    "train_fe = pd.DataFrame(train_features)\n",
    "test_features = pca.transform(vox[x_test.index])\n",
    "test_fe = pd.DataFrame(test_features)\n",
    "x_train = x_train.reset_index(drop=True)\n",
    "x_train = x_train.join(train_fe)\n",
    "#x_train[['NUPDR3ON', 'AGE_AT_VISIT', 'DURATION']] = x_train[['NUPDR3ON', 'AGE_AT_VISIT', 'DURATION']].apply(zscore)\n",
    "x_test = x_test.reset_index(drop=True)\n",
    "x_test = x_test.join(test_fe)\n",
    "#x_test[['NUPDR3ON', 'AGE_AT_VISIT', 'DURATION']] = x_test[['NUPDR3ON', 'AGE_AT_VISIT', 'DURATION']].apply(zscore)"
   ]
  },
  {
   "cell_type": "code",
   "execution_count": 27,
   "metadata": {},
   "outputs": [
    {
     "name": "stdout",
     "output_type": "stream",
     "text": [
      "NormaltestResult(statistic=22.655799171622807, pvalue=1.2032495788117283e-05)\n",
      "NormaltestResult(statistic=4.852198204589301, pvalue=0.08838092596077546)\n",
      "NormaltestResult(statistic=7.240945037015648, pvalue=0.026770024171769644)\n",
      "\n",
      "NormaltestResult(statistic=11.733850675659243, pvalue=0.0028315660726364014)\n",
      "NormaltestResult(statistic=1.5265434127925936, pvalue=0.46613886000729177)\n",
      "NormaltestResult(statistic=16.560930298787518, pvalue=0.00025341929478374267)\n",
      "\n",
      "RanksumsResult(statistic=-0.27951100645439675, pvalue=0.7798526925597085)\n",
      "Ttest_indResult(statistic=-1.0419742684085629, pvalue=0.29849893355701596)\n",
      "RanksumsResult(statistic=0.6667995620077346, pvalue=0.5049001725519073)\n",
      "0.4902672148591981\n",
      "1.0\n"
     ]
    }
   ],
   "source": [
    "from scipy.stats import ttest_ind, chi2_contingency, normaltest, ranksums\n",
    "print(normaltest(x_train['NUPDR3ON']))\n",
    "print(normaltest(x_train['AGE_AT_VISIT']))\n",
    "print(normaltest(x_train['DURATION']))\n",
    "print()\n",
    "print(normaltest(x_test['NUPDR3ON']))\n",
    "print(normaltest(x_test['AGE_AT_VISIT']))\n",
    "print(normaltest(x_test['DURATION']))\n",
    "print()\n",
    "print(ranksums(x_train['NUPDR3ON'], x_test['NUPDR3ON']))\n",
    "print(ttest_ind(x_train['AGE_AT_VISIT'], x_test['AGE_AT_VISIT']))\n",
    "print(ranksums(x_train['DURATION'], x_test['DURATION']))\n",
    "_, p, _, _ = chi2_contingency([[len(x_test[x_test['SEX']==0]), len(x_train[x_train['SEX']==0])], [len(x_test[x_test['SEX']==1]), len(x_train[x_train['SEX']==1])]])\n",
    "print(p)\n",
    "_, p, _, _ = chi2_contingency([[len(y_test[y_test['CAT']==0]), len(y_train[y_train['CAT']==0])], [len(y_test[y_test['CAT']==1]), len(y_train[y_train['CAT']==1])]])\n",
    "print(p)"
   ]
  },
  {
   "cell_type": "code",
   "execution_count": 28,
   "metadata": {},
   "outputs": [
    {
     "name": "stdout",
     "output_type": "stream",
     "text": [
      "NormaltestResult(statistic=6.651504515461584, pvalue=0.03594546832382435)\n",
      "NormaltestResult(statistic=2.193381412613865, pvalue=0.3339744765945661)\n",
      "NormaltestResult(statistic=4.07495714050031, pvalue=0.13035698282177208)\n",
      "\n",
      "NormaltestResult(statistic=15.13836978400176, pvalue=0.0005161129650122217)\n",
      "NormaltestResult(statistic=6.188144537159755, pvalue=0.045317035001662696)\n",
      "NormaltestResult(statistic=5.933532013824612, pvalue=0.0514694934556066)\n",
      "\n",
      "RanksumsResult(statistic=7.249189246390306, pvalue=4.192737282670555e-13)\n",
      "RanksumsResult(statistic=2.2015491213882963, pvalue=0.02769717324567565)\n",
      "RanksumsResult(statistic=-3.914924509493436, pvalue=9.043249780012692e-05)\n",
      "1.0\n"
     ]
    }
   ],
   "source": [
    "x1 = x[y['CAT']==1]\n",
    "x0 = x[y['CAT']==0]\n",
    "print(normaltest(x1['NUPDR3ON']))\n",
    "print(normaltest(x1['AGE_AT_VISIT']))\n",
    "print(normaltest(x1['DURATION']))\n",
    "print()\n",
    "print(normaltest(x0['NUPDR3ON']))\n",
    "print(normaltest(x0['AGE_AT_VISIT']))\n",
    "print(normaltest(x0['DURATION']))\n",
    "print()\n",
    "print(ranksums(x0['NUPDR3ON'], x1['NUPDR3ON']))\n",
    "print(ranksums(x0['AGE_AT_VISIT'], x1['AGE_AT_VISIT']))\n",
    "print(ranksums(x0['DURATION'], x1['DURATION']))\n",
    "_, p, _, _ = chi2_contingency([[len(x1[x1['SEX']==0]), len(x0[x0['SEX']==0])], [len(x1[x1['SEX']==1]), len(x0[x0['SEX']==1])]])\n",
    "print(p)"
   ]
  },
  {
   "cell_type": "code",
   "execution_count": 29,
   "metadata": {},
   "outputs": [],
   "source": [
    "model = XGBClassifier()\n",
    "parameters = {'nthread': [4],\n",
    "              'objective': ['binary:logistic'],\n",
    "              'learning_rate': [0.2, 0.3],\n",
    "              'max_depth': [1, 3, 5],\n",
    "              'min_child_weight': [1, 3, 5],\n",
    "              'subsample': [0.8, 0.85, 0.9],\n",
    "              'colsample_bytree': [0.75, 0.8, 0.85],\n",
    "              'n_estimators': [50, 100, 200],\n",
    "              'missing': [-999],\n",
    "              'random_state': [1]}\n",
    "clf = GridSearchCV(model, parameters,\n",
    "                        n_jobs=5,\n",
    "                        cv=StratifiedKFold(n_splits=5, shuffle=True, random_state=1),\n",
    "                        verbose=3,\n",
    "                        #n_iter=200,\n",
    "                        scoring='roc_auc')"
   ]
  },
  {
   "cell_type": "code",
   "execution_count": 30,
   "metadata": {},
   "outputs": [
    {
     "name": "stdout",
     "output_type": "stream",
     "text": [
      "Fitting 5 folds for each of 486 candidates, totalling 2430 fits\n"
     ]
    },
    {
     "data": {
      "text/html": [
       "<style>#sk-container-id-2 {color: black;background-color: white;}#sk-container-id-2 pre{padding: 0;}#sk-container-id-2 div.sk-toggleable {background-color: white;}#sk-container-id-2 label.sk-toggleable__label {cursor: pointer;display: block;width: 100%;margin-bottom: 0;padding: 0.3em;box-sizing: border-box;text-align: center;}#sk-container-id-2 label.sk-toggleable__label-arrow:before {content: \"▸\";float: left;margin-right: 0.25em;color: #696969;}#sk-container-id-2 label.sk-toggleable__label-arrow:hover:before {color: black;}#sk-container-id-2 div.sk-estimator:hover label.sk-toggleable__label-arrow:before {color: black;}#sk-container-id-2 div.sk-toggleable__content {max-height: 0;max-width: 0;overflow: hidden;text-align: left;background-color: #f0f8ff;}#sk-container-id-2 div.sk-toggleable__content pre {margin: 0.2em;color: black;border-radius: 0.25em;background-color: #f0f8ff;}#sk-container-id-2 input.sk-toggleable__control:checked~div.sk-toggleable__content {max-height: 200px;max-width: 100%;overflow: auto;}#sk-container-id-2 input.sk-toggleable__control:checked~label.sk-toggleable__label-arrow:before {content: \"▾\";}#sk-container-id-2 div.sk-estimator input.sk-toggleable__control:checked~label.sk-toggleable__label {background-color: #d4ebff;}#sk-container-id-2 div.sk-label input.sk-toggleable__control:checked~label.sk-toggleable__label {background-color: #d4ebff;}#sk-container-id-2 input.sk-hidden--visually {border: 0;clip: rect(1px 1px 1px 1px);clip: rect(1px, 1px, 1px, 1px);height: 1px;margin: -1px;overflow: hidden;padding: 0;position: absolute;width: 1px;}#sk-container-id-2 div.sk-estimator {font-family: monospace;background-color: #f0f8ff;border: 1px dotted black;border-radius: 0.25em;box-sizing: border-box;margin-bottom: 0.5em;}#sk-container-id-2 div.sk-estimator:hover {background-color: #d4ebff;}#sk-container-id-2 div.sk-parallel-item::after {content: \"\";width: 100%;border-bottom: 1px solid gray;flex-grow: 1;}#sk-container-id-2 div.sk-label:hover label.sk-toggleable__label {background-color: #d4ebff;}#sk-container-id-2 div.sk-serial::before {content: \"\";position: absolute;border-left: 1px solid gray;box-sizing: border-box;top: 0;bottom: 0;left: 50%;z-index: 0;}#sk-container-id-2 div.sk-serial {display: flex;flex-direction: column;align-items: center;background-color: white;padding-right: 0.2em;padding-left: 0.2em;position: relative;}#sk-container-id-2 div.sk-item {position: relative;z-index: 1;}#sk-container-id-2 div.sk-parallel {display: flex;align-items: stretch;justify-content: center;background-color: white;position: relative;}#sk-container-id-2 div.sk-item::before, #sk-container-id-2 div.sk-parallel-item::before {content: \"\";position: absolute;border-left: 1px solid gray;box-sizing: border-box;top: 0;bottom: 0;left: 50%;z-index: -1;}#sk-container-id-2 div.sk-parallel-item {display: flex;flex-direction: column;z-index: 1;position: relative;background-color: white;}#sk-container-id-2 div.sk-parallel-item:first-child::after {align-self: flex-end;width: 50%;}#sk-container-id-2 div.sk-parallel-item:last-child::after {align-self: flex-start;width: 50%;}#sk-container-id-2 div.sk-parallel-item:only-child::after {width: 0;}#sk-container-id-2 div.sk-dashed-wrapped {border: 1px dashed gray;margin: 0 0.4em 0.5em 0.4em;box-sizing: border-box;padding-bottom: 0.4em;background-color: white;}#sk-container-id-2 div.sk-label label {font-family: monospace;font-weight: bold;display: inline-block;line-height: 1.2em;}#sk-container-id-2 div.sk-label-container {text-align: center;}#sk-container-id-2 div.sk-container {/* jupyter's `normalize.less` sets `[hidden] { display: none; }` but bootstrap.min.css set `[hidden] { display: none !important; }` so we also need the `!important` here to be able to override the default hidden behavior on the sphinx rendered scikit-learn.org. See: https://github.com/scikit-learn/scikit-learn/issues/21755 */display: inline-block !important;position: relative;}#sk-container-id-2 div.sk-text-repr-fallback {display: none;}</style><div id=\"sk-container-id-2\" class=\"sk-top-container\"><div class=\"sk-text-repr-fallback\"><pre>GridSearchCV(cv=StratifiedKFold(n_splits=5, random_state=1, shuffle=True),\n",
       "             estimator=XGBClassifier(base_score=None, booster=None,\n",
       "                                     callbacks=None, colsample_bylevel=None,\n",
       "                                     colsample_bynode=None,\n",
       "                                     colsample_bytree=None,\n",
       "                                     early_stopping_rounds=None,\n",
       "                                     enable_categorical=False, eval_metric=None,\n",
       "                                     feature_types=None, gamma=None,\n",
       "                                     gpu_id=None, grow_policy=None,\n",
       "                                     importance_type...\n",
       "                                     num_parallel_tree=None, predictor=None,\n",
       "                                     random_state=None, ...),\n",
       "             n_jobs=5,\n",
       "             param_grid={&#x27;colsample_bytree&#x27;: [0.75, 0.8, 0.85],\n",
       "                         &#x27;learning_rate&#x27;: [0.2, 0.3], &#x27;max_depth&#x27;: [1, 3, 5],\n",
       "                         &#x27;min_child_weight&#x27;: [1, 3, 5], &#x27;missing&#x27;: [-999],\n",
       "                         &#x27;n_estimators&#x27;: [50, 100, 200], &#x27;nthread&#x27;: [4],\n",
       "                         &#x27;objective&#x27;: [&#x27;binary:logistic&#x27;], &#x27;random_state&#x27;: [1],\n",
       "                         &#x27;subsample&#x27;: [0.8, 0.85, 0.9]},\n",
       "             scoring=&#x27;roc_auc&#x27;, verbose=3)</pre><b>In a Jupyter environment, please rerun this cell to show the HTML representation or trust the notebook. <br />On GitHub, the HTML representation is unable to render, please try loading this page with nbviewer.org.</b></div><div class=\"sk-container\" hidden><div class=\"sk-item sk-dashed-wrapped\"><div class=\"sk-label-container\"><div class=\"sk-label sk-toggleable\"><input class=\"sk-toggleable__control sk-hidden--visually\" id=\"sk-estimator-id-4\" type=\"checkbox\" ><label for=\"sk-estimator-id-4\" class=\"sk-toggleable__label sk-toggleable__label-arrow\">GridSearchCV</label><div class=\"sk-toggleable__content\"><pre>GridSearchCV(cv=StratifiedKFold(n_splits=5, random_state=1, shuffle=True),\n",
       "             estimator=XGBClassifier(base_score=None, booster=None,\n",
       "                                     callbacks=None, colsample_bylevel=None,\n",
       "                                     colsample_bynode=None,\n",
       "                                     colsample_bytree=None,\n",
       "                                     early_stopping_rounds=None,\n",
       "                                     enable_categorical=False, eval_metric=None,\n",
       "                                     feature_types=None, gamma=None,\n",
       "                                     gpu_id=None, grow_policy=None,\n",
       "                                     importance_type...\n",
       "                                     num_parallel_tree=None, predictor=None,\n",
       "                                     random_state=None, ...),\n",
       "             n_jobs=5,\n",
       "             param_grid={&#x27;colsample_bytree&#x27;: [0.75, 0.8, 0.85],\n",
       "                         &#x27;learning_rate&#x27;: [0.2, 0.3], &#x27;max_depth&#x27;: [1, 3, 5],\n",
       "                         &#x27;min_child_weight&#x27;: [1, 3, 5], &#x27;missing&#x27;: [-999],\n",
       "                         &#x27;n_estimators&#x27;: [50, 100, 200], &#x27;nthread&#x27;: [4],\n",
       "                         &#x27;objective&#x27;: [&#x27;binary:logistic&#x27;], &#x27;random_state&#x27;: [1],\n",
       "                         &#x27;subsample&#x27;: [0.8, 0.85, 0.9]},\n",
       "             scoring=&#x27;roc_auc&#x27;, verbose=3)</pre></div></div></div><div class=\"sk-parallel\"><div class=\"sk-parallel-item\"><div class=\"sk-item\"><div class=\"sk-label-container\"><div class=\"sk-label sk-toggleable\"><input class=\"sk-toggleable__control sk-hidden--visually\" id=\"sk-estimator-id-5\" type=\"checkbox\" ><label for=\"sk-estimator-id-5\" class=\"sk-toggleable__label sk-toggleable__label-arrow\">estimator: XGBClassifier</label><div class=\"sk-toggleable__content\"><pre>XGBClassifier(base_score=None, booster=None, callbacks=None,\n",
       "              colsample_bylevel=None, colsample_bynode=None,\n",
       "              colsample_bytree=None, early_stopping_rounds=None,\n",
       "              enable_categorical=False, eval_metric=None, feature_types=None,\n",
       "              gamma=None, gpu_id=None, grow_policy=None, importance_type=None,\n",
       "              interaction_constraints=None, learning_rate=None, max_bin=None,\n",
       "              max_cat_threshold=None, max_cat_to_onehot=None,\n",
       "              max_delta_step=None, max_depth=None, max_leaves=None,\n",
       "              min_child_weight=None, missing=nan, monotone_constraints=None,\n",
       "              n_estimators=100, n_jobs=None, num_parallel_tree=None,\n",
       "              predictor=None, random_state=None, ...)</pre></div></div></div><div class=\"sk-serial\"><div class=\"sk-item\"><div class=\"sk-estimator sk-toggleable\"><input class=\"sk-toggleable__control sk-hidden--visually\" id=\"sk-estimator-id-6\" type=\"checkbox\" ><label for=\"sk-estimator-id-6\" class=\"sk-toggleable__label sk-toggleable__label-arrow\">XGBClassifier</label><div class=\"sk-toggleable__content\"><pre>XGBClassifier(base_score=None, booster=None, callbacks=None,\n",
       "              colsample_bylevel=None, colsample_bynode=None,\n",
       "              colsample_bytree=None, early_stopping_rounds=None,\n",
       "              enable_categorical=False, eval_metric=None, feature_types=None,\n",
       "              gamma=None, gpu_id=None, grow_policy=None, importance_type=None,\n",
       "              interaction_constraints=None, learning_rate=None, max_bin=None,\n",
       "              max_cat_threshold=None, max_cat_to_onehot=None,\n",
       "              max_delta_step=None, max_depth=None, max_leaves=None,\n",
       "              min_child_weight=None, missing=nan, monotone_constraints=None,\n",
       "              n_estimators=100, n_jobs=None, num_parallel_tree=None,\n",
       "              predictor=None, random_state=None, ...)</pre></div></div></div></div></div></div></div></div></div></div>"
      ],
      "text/plain": [
       "GridSearchCV(cv=StratifiedKFold(n_splits=5, random_state=1, shuffle=True),\n",
       "             estimator=XGBClassifier(base_score=None, booster=None,\n",
       "                                     callbacks=None, colsample_bylevel=None,\n",
       "                                     colsample_bynode=None,\n",
       "                                     colsample_bytree=None,\n",
       "                                     early_stopping_rounds=None,\n",
       "                                     enable_categorical=False, eval_metric=None,\n",
       "                                     feature_types=None, gamma=None,\n",
       "                                     gpu_id=None, grow_policy=None,\n",
       "                                     importance_type...\n",
       "                                     num_parallel_tree=None, predictor=None,\n",
       "                                     random_state=None, ...),\n",
       "             n_jobs=5,\n",
       "             param_grid={'colsample_bytree': [0.75, 0.8, 0.85],\n",
       "                         'learning_rate': [0.2, 0.3], 'max_depth': [1, 3, 5],\n",
       "                         'min_child_weight': [1, 3, 5], 'missing': [-999],\n",
       "                         'n_estimators': [50, 100, 200], 'nthread': [4],\n",
       "                         'objective': ['binary:logistic'], 'random_state': [1],\n",
       "                         'subsample': [0.8, 0.85, 0.9]},\n",
       "             scoring='roc_auc', verbose=3)"
      ]
     },
     "execution_count": 30,
     "metadata": {},
     "output_type": "execute_result"
    }
   ],
   "source": [
    "clf.fit(x_train, y_train)"
   ]
  },
  {
   "cell_type": "code",
   "execution_count": 31,
   "metadata": {},
   "outputs": [
    {
     "data": {
      "text/plain": [
       "{'colsample_bytree': 0.75,\n",
       " 'learning_rate': 0.3,\n",
       " 'max_depth': 3,\n",
       " 'min_child_weight': 3,\n",
       " 'missing': -999,\n",
       " 'n_estimators': 100,\n",
       " 'nthread': 4,\n",
       " 'objective': 'binary:logistic',\n",
       " 'random_state': 1,\n",
       " 'subsample': 0.9}"
      ]
     },
     "execution_count": 31,
     "metadata": {},
     "output_type": "execute_result"
    }
   ],
   "source": [
    "clf.best_params_"
   ]
  },
  {
   "cell_type": "code",
   "execution_count": 32,
   "metadata": {},
   "outputs": [
    {
     "name": "stdout",
     "output_type": "stream",
     "text": [
      "AUC train 0.7285626346568176, test 0.7170138888888888\n"
     ]
    }
   ],
   "source": [
    "y_prob = clf.best_estimator_.predict_proba(x_test)\n",
    "print('AUC train {}, test {}'.format(clf.best_score_, metrics.roc_auc_score(list(y_test['CAT']), y_prob[:, 1])))"
   ]
  },
  {
   "cell_type": "code",
   "execution_count": 33,
   "metadata": {},
   "outputs": [
    {
     "name": "stdout",
     "output_type": "stream",
     "text": [
      "              precision    recall  f1-score   support\n",
      "\n",
      "           0       1.00      1.00      1.00        94\n",
      "           1       1.00      1.00      1.00        94\n",
      "\n",
      "    accuracy                           1.00       188\n",
      "   macro avg       1.00      1.00      1.00       188\n",
      "weighted avg       1.00      1.00      1.00       188\n",
      "\n",
      "[[94  0]\n",
      " [ 0 94]]\n"
     ]
    }
   ],
   "source": [
    "y_pred = clf.best_estimator_.predict(x_train)\n",
    "print(metrics.classification_report(list(y_train['CAT']), y_pred))\n",
    "print(metrics.confusion_matrix(list(y_train['CAT']), y_pred))"
   ]
  },
  {
   "cell_type": "code",
   "execution_count": 34,
   "metadata": {},
   "outputs": [
    {
     "name": "stdout",
     "output_type": "stream",
     "text": [
      "              precision    recall  f1-score   support\n",
      "\n",
      "           0       0.59      0.67      0.63        24\n",
      "           1       0.62      0.54      0.58        24\n",
      "\n",
      "    accuracy                           0.60        48\n",
      "   macro avg       0.61      0.60      0.60        48\n",
      "weighted avg       0.61      0.60      0.60        48\n",
      "\n",
      "[[16  8]\n",
      " [11 13]]\n"
     ]
    }
   ],
   "source": [
    "y_pred = clf.best_estimator_.predict(x_test)\n",
    "print(metrics.classification_report(list(y_test['CAT']), y_pred))\n",
    "print(metrics.confusion_matrix(list(y_test['CAT']), y_pred))"
   ]
  }
 ],
 "metadata": {
  "kernelspec": {
   "display_name": "Python 3",
   "language": "python",
   "name": "python3"
  },
  "language_info": {
   "codemirror_mode": {
    "name": "ipython",
    "version": 3
   },
   "file_extension": ".py",
   "mimetype": "text/x-python",
   "name": "python",
   "nbconvert_exporter": "python",
   "pygments_lexer": "ipython3",
   "version": "3.10.9 (main, Jan 29 2023, 21:28:03) [GCC 11.3.0]"
  },
  "orig_nbformat": 4,
  "vscode": {
   "interpreter": {
    "hash": "59f93d4989ed3fa67bb121b8aa9e9a1594d6acd17d782b10707f82fdae21f86d"
   }
  }
 },
 "nbformat": 4,
 "nbformat_minor": 2
}
