{
 "cells": [
  {
   "cell_type": "code",
   "execution_count": 38,
   "metadata": {},
   "outputs": [],
   "source": [
    "from nipype.interfaces import cat12\n",
    "from nipype.interfaces import spm\n",
    "import nipype.interfaces.io as nio\n",
    "import nipype.pipeline.engine as pe\n",
    "import os\n",
    "import os.path"
   ]
  },
  {
   "cell_type": "code",
   "execution_count": 34,
   "metadata": {},
   "outputs": [],
   "source": [
    "def construct_pipe(nii):\n",
    "    seg = pe.Node(interface=cat12.CAT12Segment(), name = 'seg')\n",
    "    seg.inputs.in_files = nii\n",
    "    smooth = pe.Node(interface=spm.Smooth(), name = \"smooth\")\n",
    "    smooth.inputs.fwhm = 4\n",
    "    preprocessing = pe.Workflow(name=\"pre\"+nii[-5:-4], base_dir=os.getcwd()+'/test/')\n",
    "    preprocessing.connect([(seg, smooth, [(\"gm_modulated_image\", \"in_files\")])])\n",
    "    return preprocessing"
   ]
  },
  {
   "cell_type": "code",
   "execution_count": 35,
   "metadata": {},
   "outputs": [],
   "source": [
    "abspath = os.path.realpath('../test')\n",
    "mr_list = [os.path.join(abspath, 'test1.nii'), os.path.join(abspath, 'test2.nii')]\n",
    "pipes = list(map(construct_pipe, mr_list))"
   ]
  },
  {
   "cell_type": "code",
   "execution_count": 51,
   "metadata": {},
   "outputs": [],
   "source": [
    "datasrc = pe.Node(nio.DataGrabber(infields=['subject_id'], outfields=['struct']), name='grab')\n",
    "datasrc.inputs.base_directory = abspath\n",
    "datasrc.inputs.sort_filelist = False\n",
    "datasrc.inputs.subject_id = [1, 2]\n",
    "datasrc.inputs.template = 'test%d.nii'\n",
    "ds = pe.Node(nio.DataSink(), name='sink')\n",
    "ds.inputs.base_directory = abspath\n",
    "seg = pe.Node(interface=cat12.CAT12Segment(), name = 'seg')\n",
    "smooth = pe.Node(interface=spm.Smooth(), name = \"smooth\")\n",
    "smooth.inputs.fwhm = 4\n",
    "preprocessing = pe.Workflow(name=\"preprocessing\", base_dir=os.getcwd()+'/test/')\n",
    "preprocessing.connect([\n",
    "    (seg, smooth, [(\"gm_modulated_image\", \"in_files\")]),\n",
    "    (datasrc, seg, [(\"struct\", \"in_files\")]),\n",
    "    #(datasrc, ds, [(\"subject_id\", \"container\")]),\n",
    "    (seg, ds, [(\"gm_modulated_image\", \"gm\")]),\n",
    "    (smooth, ds, [(\"smoothed_files\", \"sgm\")])\n",
    "    ])"
   ]
  },
  {
   "cell_type": "code",
   "execution_count": 52,
   "metadata": {},
   "outputs": [
    {
     "name": "stdout",
     "output_type": "stream",
     "text": [
      "230130-16:20:43,148 nipype.workflow INFO:\n",
      "\t Workflow preprocessing settings: ['check', 'execution', 'logging', 'monitoring']\n",
      "230130-16:20:43,153 nipype.workflow INFO:\n",
      "\t Running serially.\n",
      "230130-16:20:43,154 nipype.workflow INFO:\n",
      "\t [Node] Setting-up \"preprocessing.grab\" in \"/home/biobot/levodopa/workspace/test/preprocessing/grab\".\n",
      "230130-16:20:43,156 nipype.workflow INFO:\n",
      "\t [Node] Executing \"grab\" <nipype.interfaces.io.DataGrabber>\n",
      "230130-16:20:43,157 nipype.workflow INFO:\n",
      "\t [Node] Finished \"grab\", elapsed time 0.000198s.\n",
      "230130-16:20:43,159 nipype.workflow INFO:\n",
      "\t [Node] Setting-up \"preprocessing.seg\" in \"/home/biobot/levodopa/workspace/test/preprocessing/seg\".\n",
      "230130-16:20:43,163 nipype.workflow INFO:\n",
      "\t [Node] Executing \"seg\" <nipype.interfaces.cat12.preprocess.CAT12Segment>\n",
      "230130-17:02:08,582 nipype.workflow INFO:\n",
      "\t [Node] Finished \"seg\", elapsed time 2485.418241s.\n",
      "230130-17:02:08,600 nipype.workflow INFO:\n",
      "\t [Node] Setting-up \"preprocessing.smooth\" in \"/home/biobot/levodopa/workspace/test/preprocessing/smooth\".\n",
      "230130-17:02:08,602 nipype.workflow INFO:\n",
      "\t [Node] Executing \"smooth\" <nipype.interfaces.spm.preprocess.Smooth>\n"
     ]
    },
    {
     "name": "stderr",
     "output_type": "stream",
     "text": [
      "stty: 标准输入: 对设备不适当的 ioctl 操作\n"
     ]
    },
    {
     "name": "stdout",
     "output_type": "stream",
     "text": [
      "230130-17:02:20,404 nipype.workflow INFO:\n",
      "\t [Node] Finished \"smooth\", elapsed time 11.801266s.\n",
      "230130-17:02:20,407 nipype.workflow INFO:\n",
      "\t [Node] Setting-up \"preprocessing.sink\" in \"/home/biobot/levodopa/workspace/test/preprocessing/sink\".\n",
      "230130-17:02:20,410 nipype.workflow INFO:\n",
      "\t [Node] Executing \"sink\" <nipype.interfaces.io.DataSink>\n",
      "230130-17:02:20,412 nipype.workflow INFO:\n",
      "\t [Node] Finished \"sink\", elapsed time 0.00068s.\n"
     ]
    },
    {
     "name": "stderr",
     "output_type": "stream",
     "text": [
      "stty: 标准输入: 对设备不适当的 ioctl 操作\n"
     ]
    },
    {
     "data": {
      "text/plain": [
       "<networkx.classes.digraph.DiGraph at 0x7f52c31a4070>"
      ]
     },
     "execution_count": 52,
     "metadata": {},
     "output_type": "execute_result"
    }
   ],
   "source": [
    "preprocessing.run()"
   ]
  }
 ],
 "metadata": {
  "kernelspec": {
   "display_name": "Python 3",
   "language": "python",
   "name": "python3"
  },
  "language_info": {
   "codemirror_mode": {
    "name": "ipython",
    "version": 3
   },
   "file_extension": ".py",
   "mimetype": "text/x-python",
   "name": "python",
   "nbconvert_exporter": "python",
   "pygments_lexer": "ipython3",
   "version": "3.10.9"
  },
  "orig_nbformat": 4,
  "vscode": {
   "interpreter": {
    "hash": "59f93d4989ed3fa67bb121b8aa9e9a1594d6acd17d782b10707f82fdae21f86d"
   }
  }
 },
 "nbformat": 4,
 "nbformat_minor": 2
}
