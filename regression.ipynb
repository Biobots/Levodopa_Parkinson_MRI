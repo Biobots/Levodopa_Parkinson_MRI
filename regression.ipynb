{
 "cells": [
  {
   "cell_type": "code",
   "execution_count": 1,
   "metadata": {},
   "outputs": [],
   "source": [
    "from src.dl.loader import BlockRegressDataset\n",
    "import numpy as np\n",
    "from torch import nn\n",
    "from torch.utils.data import DataLoader, sampler\n",
    "from torch.utils.tensorboard import SummaryWriter\n",
    "import torch\n",
    "from sklearn.model_selection import KFold\n",
    "log = False"
   ]
  },
  {
   "cell_type": "code",
   "execution_count": 7,
   "metadata": {},
   "outputs": [],
   "source": [
    "log = True\n",
    "writer = SummaryWriter('./log')"
   ]
  },
  {
   "cell_type": "code",
   "execution_count": 2,
   "metadata": {},
   "outputs": [],
   "source": [
    "from src.utils.data import getPandas, writePandas\n",
    "data = getPandas('data')\n",
    "test = data.sample(frac=0.2, random_state=10)\n",
    "data = data.drop(test.index)\n",
    "validate = data.sample(frac=0.1, random_state=10)\n",
    "train = data.drop(validate.index)\n",
    "test = test.reset_index(drop=True)\n",
    "train = train.reset_index(drop=True)\n",
    "validate = validate.reset_index(drop=True)\n",
    "writePandas('data_test', test)\n",
    "writePandas('data_train', train)\n",
    "writePandas('data_validate', validate)"
   ]
  },
  {
   "cell_type": "code",
   "execution_count": 3,
   "metadata": {},
   "outputs": [],
   "source": [
    "from src.dl.loader import BlockRegressDataset\n",
    "from src.dl.resnet import RegressResNet3d\n",
    "from sklearn.model_selection import KFold\n",
    "import collections\n",
    "bounds = [0.3]\n",
    "train_set = BlockRegressDataset('train')\n",
    "val_set = BlockRegressDataset('validate')\n",
    "test_set = BlockRegressDataset('test')\n",
    "fold_num = 5\n",
    "kf = KFold(n_splits=fold_num, shuffle=True, random_state=10)\n",
    "best_models = np.empty(dtype=collections.OrderedDict, shape=fold_num)"
   ]
  },
  {
   "cell_type": "code",
   "execution_count": 4,
   "metadata": {},
   "outputs": [
    {
     "name": "stdout",
     "output_type": "stream",
     "text": [
      "epoch 0, loss 0.8890895610878442, nmse 0.4053392229372104, rmse 0.2059038293337789, mae 0.16096915202992548, rsquared -0.10505371485602777\n",
      "epoch 1, loss 0.9243714587538152, nmse 0.42143348351351156, rmse 0.20995181203332292, mae 0.16251112843978868, rsquared -0.14893059977436063\n",
      "epoch 2, loss 0.9562745760402215, nmse 0.43598496659768965, rmse 0.21354571704674985, mae 0.16472418246484674, rsquared -0.18860149646753976\n"
     ]
    },
    {
     "ename": "KeyboardInterrupt",
     "evalue": "",
     "output_type": "error",
     "traceback": [
      "\u001b[1;31m---------------------------------------------------------------------------\u001b[0m",
      "\u001b[1;31mKeyboardInterrupt\u001b[0m                         Traceback (most recent call last)",
      "Cell \u001b[1;32mIn [4], line 16\u001b[0m\n\u001b[0;32m     14\u001b[0m net\u001b[39m.\u001b[39mtrain()\n\u001b[0;32m     15\u001b[0m \u001b[39mfor\u001b[39;00m step, [img, labels, score] \u001b[39min\u001b[39;00m \u001b[39menumerate\u001b[39m(train_loader):\n\u001b[1;32m---> 16\u001b[0m     img \u001b[39m=\u001b[39m img\u001b[39m.\u001b[39;49mcuda()\n\u001b[0;32m     17\u001b[0m     labels \u001b[39m=\u001b[39m labels\u001b[39m.\u001b[39mcuda()\n\u001b[0;32m     18\u001b[0m     score \u001b[39m=\u001b[39m score\u001b[39m.\u001b[39mcuda()\n",
      "\u001b[1;31mKeyboardInterrupt\u001b[0m: "
     ]
    }
   ],
   "source": [
    "net = RegressResNet3d().cuda()\n",
    "loss_fn = nn.SmoothL1Loss().cuda()\n",
    "#lr = 1e-2\n",
    "#optim = torch.optim.Adam(net.parameters(), lr=lr)\n",
    "lr = 1e-2\n",
    "optim = torch.optim.SGD([{'params': net.fc.weight, 'lr': 1e-2}], lr=lr)\n",
    "epoch = 100\n",
    "train_loader = DataLoader(train_set, batch_size=64)\n",
    "val_loader = DataLoader(val_set, batch_size=64)\n",
    "for i in range(epoch):\n",
    "    total_loss = 0\n",
    "    predy = np.array([])\n",
    "    y = np.array([])\n",
    "    net.train()\n",
    "    for step, [img, labels, score] in enumerate(train_loader):\n",
    "        img = img.cuda()\n",
    "        labels = labels.cuda()\n",
    "        score = score.cuda()\n",
    "        output = net(img, labels).squeeze(-1)\n",
    "        loss = loss_fn(output, score)\n",
    "\n",
    "        optim.zero_grad()\n",
    "        loss.backward()\n",
    "        optim.step()\n",
    "        #scheduler.step()\n",
    "        \n",
    "    net.eval()\n",
    "    with torch.no_grad():\n",
    "        total = 0\n",
    "        correct = 0\n",
    "        for step, [img, labels, score] in enumerate(val_loader):\n",
    "            img = img.cuda()\n",
    "            labels = labels.cuda()\n",
    "            score = score.cuda()\n",
    "            output = net(img, labels).squeeze(-1)\n",
    "            loss = loss_fn(output, score)\n",
    "\n",
    "            predy = np.concatenate((predy, output.cpu().detach().numpy()), axis=0)\n",
    "            y = np.concatenate((y, score.cpu().detach().numpy()), axis=0)\n",
    "            total_loss += loss.item()\n",
    "\n",
    "    nmse = np.sum((y - predy) ** 2) / np.sum(y ** 2)\n",
    "    mse = np.sum((y - predy) ** 2) / len(val_set)\n",
    "    rmse = np.sqrt(mse)\n",
    "    mae = np.sum(np.abs(y - predy)) / len(val_set)\n",
    "    meany = np.mean(y)\n",
    "    rsquared = 1 - np.sum((predy - y) ** 2) / np.sum((y - meany) ** 2)\n",
    "    print('epoch {}, loss {}, nmse {}, rmse {}, mae {}, rsquared {}'.format(i, total_loss, nmse, rmse, mae, rsquared))\n",
    "    if log:\n",
    "        writer.add_scalar('Loss', total_loss, i)\n",
    "        writer.add_scalar('NMSE', nmse, i)\n",
    "        writer.add_scalar('RMSE', rmse, i)\n",
    "        writer.add_scalar('MAE', mae, i)\n",
    "        writer.add_scalar('rsquared', rsquared, i)"
   ]
  },
  {
   "cell_type": "code",
   "execution_count": 5,
   "metadata": {},
   "outputs": [
    {
     "name": "stdout",
     "output_type": "stream",
     "text": [
      "epoch 5, loss 1.5681449702312622, nmse 0.188543016723713, rmse 0.17454700834776615, mae 0.14652274216612954, rsquared 0.1267262404420854\n"
     ]
    }
   ],
   "source": [
    "test_loader = DataLoader(test_set, batch_size=64)\n",
    "net.eval()\n",
    "with torch.no_grad():\n",
    "    total = 0\n",
    "    correct = 0\n",
    "    for step, [img, labels, score] in enumerate(test_loader):\n",
    "        img = img.cuda()\n",
    "        labels = labels.cuda()\n",
    "        score = score.cuda()\n",
    "        #score = torch.Tensor(np.random.randint(0, 3, score.size())).type(torch.LongTensor).cuda()\n",
    "        output = net(img, labels).squeeze(-1)\n",
    "        loss = loss_fn(output, score)\n",
    "        \n",
    "        predy = np.concatenate((predy, output.cpu().detach().numpy()), axis=0)\n",
    "        y = np.concatenate((y, score.cpu().detach().numpy()), axis=0)\n",
    "        total_loss += loss.item()\n",
    "nmse = np.sum((y - predy) ** 2) / np.sum(y ** 2)\n",
    "mse = np.sum((y - predy) ** 2) / len(test_set)\n",
    "rmse = np.sqrt(mse)\n",
    "mae = np.sum(np.abs(y - predy)) / len(test_set)\n",
    "meany = np.mean(y)\n",
    "rsquared = 1 - np.sum((predy - y) ** 2) / np.sum((y - meany) ** 2)\n",
    "print('epoch {}, loss {}, nmse {}, rmse {}, mae {}, rsquared {}'.format(i, total_loss, nmse, rmse, mae, rsquared))"
   ]
  },
  {
   "cell_type": "code",
   "execution_count": null,
   "metadata": {},
   "outputs": [],
   "source": [
    "loss_fn = nn.SmoothL1Loss().cuda()\n",
    "lr = 1e-3\n",
    "optim = torch.optim.SGD([\n",
    "    {'params': net.fc.weight, 'lr': 1e-2}\n",
    "    ], lr=lr, momentum=0.3)\n",
    "#optim = torch.optim.SGD(net.parameters(), lr=1e-1, momentum=0.3)\n",
    "#scheduler = torch.optim.lr_scheduler.ExponentialLR(optim, gamma=0.99)\n",
    "#optim = torch.optim.Adam(net.parameters(), lr=lr, betas=[0.3, 0.1])\n",
    "epoch = 100\n",
    "dataset = BlockRegressDataset('train')\n",
    "kf = KFold(n_splits=5, shuffle=True, random_state=10)\n",
    "for fold, (train_idx, val_idx) in enumerate(kf.split(np.arange(len(dataset)))):\n",
    "    train_sampler = sampler.SubsetRandomSampler(train_idx)\n",
    "    val_sampler = sampler.SubsetRandomSampler(val_idx)\n",
    "    train_loader = DataLoader(dataset, batch_size=64, sampler=train_sampler)\n",
    "    val_loader = DataLoader(dataset, batch_size=64, sampler=val_sampler)\n",
    "    for i in range(epoch):\n",
    "        total_loss = 0\n",
    "        predy = np.array([])\n",
    "        y = np.array([])\n",
    "        net.train()\n",
    "        for step, [img, labels, score] in enumerate(train_loader):\n",
    "            img = img.cuda()\n",
    "            labels = labels.cuda()\n",
    "            score = score.cuda()\n",
    "            output = net(img, labels).squeeze(-1)\n",
    "            loss = loss_fn(output.float(), score.float())\n",
    "\n",
    "            optim.zero_grad()\n",
    "            loss.backward()\n",
    "            optim.step()\n",
    "            #scheduler.step()\n",
    "        \n",
    "        net.eval()\n",
    "        with torch.no_grad():\n",
    "            for step, [img, labels, score] in enumerate(val_loader):\n",
    "                img = img.cuda()\n",
    "                labels = labels.cuda()\n",
    "                score = score.cuda()\n",
    "                output = net(img, labels).squeeze(-1)\n",
    "                loss = loss_fn(output.float(), score.float())\n",
    "        \n",
    "                predy = np.concatenate((predy, output.cpu().detach().numpy()), axis=0)\n",
    "                y = np.concatenate((y, score.cpu().detach().numpy()), axis=0)\n",
    "\n",
    "                total_loss += loss.item()\n",
    "\n",
    "        nmse = np.sum((y - predy) ** 2) / np.sum(y ** 2)\n",
    "        mse = np.sum((y - predy) ** 2) / len(train_idx)\n",
    "        mae = np.sum(np.abs(y - predy)) / len(train_idx)\n",
    "        meany = np.mean(y)\n",
    "        rsquared = np.sum((predy - meany) ** 2) / np.sum((y - meany) ** 2)\n",
    "        print('epoch {}, loss {}, nmse {}, mae {}, rsquared {}'.format(i, total_loss, nmse, mae, rsquared))\n",
    "        writer.add_scalar('Loss', total_loss, i)\n",
    "        writer.add_scalar('NMSE', nmse, i)\n",
    "        writer.add_scalar('MAE', mae, i)\n",
    "        writer.add_scalar('rsquared', rsquared, i)\n",
    "\n",
    "writer.close()"
   ]
  },
  {
   "cell_type": "code",
   "execution_count": null,
   "metadata": {},
   "outputs": [],
   "source": [
    "predy = []\n",
    "y = []\n",
    "for fold, (train_idx, val_idx) in enumerate(kf.split(np.arange(len(dataset)))):\n",
    "    train_sampler = sampler.SubsetRandomSampler(train_idx)\n",
    "    val_sampler = sampler.SubsetRandomSampler(val_idx)\n",
    "    train_loader = DataLoader(dataset, batch_size=64, sampler=train_sampler)\n",
    "    val_loader = DataLoader(dataset, batch_size=64, sampler=val_sampler)\n",
    "    net.eval()\n",
    "    with torch.no_grad():\n",
    "        for step, [img, labels, score] in enumerate(train_loader):\n",
    "            img = img.cuda()\n",
    "            labels = labels.cuda()\n",
    "            score = score.cuda()\n",
    "            output = net(img, labels).squeeze(-1)\n",
    "            loss = loss_fn(output.float(), score.float())\n",
    "    \n",
    "            predy = np.concatenate((predy, output.cpu().detach().numpy()), axis=0)\n",
    "            y = np.concatenate((y, score.cpu().detach().numpy()), axis=0)\n",
    "\n",
    "            total_loss += loss.item()\n",
    "\n",
    "    nmse = np.sum((y - predy) ** 2) / np.sum(y ** 2)\n",
    "    mse = np.sum((y - predy) ** 2) / len(train_idx)\n",
    "    mae = np.sum(np.abs(y - predy)) / len(train_idx)\n",
    "    meany = np.mean(y)\n",
    "    rsquared = np.sum((predy - meany) ** 2) / np.sum((y - meany) ** 2)\n",
    "    print(rsquared)\n",
    "    print(mse)\n",
    "    print(mae)\n",
    "    break"
   ]
  }
 ],
 "metadata": {
  "kernelspec": {
   "display_name": "Python 3.8.10 64-bit ('3.8.10')",
   "language": "python",
   "name": "python3"
  },
  "language_info": {
   "codemirror_mode": {
    "name": "ipython",
    "version": 3
   },
   "file_extension": ".py",
   "mimetype": "text/x-python",
   "name": "python",
   "nbconvert_exporter": "python",
   "pygments_lexer": "ipython3",
   "version": "3.8.10"
  },
  "orig_nbformat": 4,
  "vscode": {
   "interpreter": {
    "hash": "420353a47962bc0cada1a6173771095a3d05bd8a3ecc61a5b633bf029926f1ac"
   }
  }
 },
 "nbformat": 4,
 "nbformat_minor": 2
}
