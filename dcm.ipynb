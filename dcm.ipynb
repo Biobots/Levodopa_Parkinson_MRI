{
 "cells": [
  {
   "cell_type": "code",
   "execution_count": 4,
   "metadata": {},
   "outputs": [],
   "source": [
    "import dicom2nifti\n",
    "import os\n",
    "import os.path\n",
    "import shutil"
   ]
  },
  {
   "cell_type": "code",
   "execution_count": 11,
   "metadata": {},
   "outputs": [],
   "source": [
    "root = 'I:\\\\dcmsupp'\n",
    "dirs = os.listdir(root)\n",
    "absdirs = list(map(lambda d: os.path.join(root, d), dirs))"
   ]
  },
  {
   "cell_type": "code",
   "execution_count": 10,
   "metadata": {},
   "outputs": [
    {
     "name": "stderr",
     "output_type": "stream",
     "text": [
      "Slice increment not consistent through all slices\n",
      "---------------------------------------------------------\n",
      "[-118.138    24.5096  135.268 ] [-0.099 -0.995 -0.001]\n",
      "[-117.939    26.4997  135.27  ] [-0.199  -1.9901 -0.002 ]\n",
      "Instance Number: 132\n",
      "---------------------------------------------------------\n",
      "Traceback (most recent call last):\n",
      "  File \"d:\\scoop\\apps\\pyenv\\current\\pyenv-win\\versions\\3.8.10\\lib\\site-packages\\dicom2nifti\\convert_dir.py\", line 85, in convert_directory\n",
      "    convert_dicom.dicom_array_to_nifti(dicom_input, nifti_file, reorient)\n",
      "  File \"d:\\scoop\\apps\\pyenv\\current\\pyenv-win\\versions\\3.8.10\\lib\\site-packages\\dicom2nifti\\convert_dicom.py\", line 121, in dicom_array_to_nifti\n",
      "    results = convert_ge.dicom_to_nifti(dicom_list, output_file)\n",
      "  File \"d:\\scoop\\apps\\pyenv\\current\\pyenv-win\\versions\\3.8.10\\lib\\site-packages\\dicom2nifti\\convert_ge.py\", line 54, in dicom_to_nifti\n",
      "    return convert_generic.dicom_to_nifti(dicom_input, output_file)\n",
      "  File \"d:\\scoop\\apps\\pyenv\\current\\pyenv-win\\versions\\3.8.10\\lib\\site-packages\\dicom2nifti\\convert_generic.py\", line 132, in dicom_to_nifti\n",
      "    common.validate_slice_increment(dicom_input)\n",
      "  File \"d:\\scoop\\apps\\pyenv\\current\\pyenv-win\\versions\\3.8.10\\lib\\site-packages\\dicom2nifti\\common.py\", line 888, in validate_slice_increment\n",
      "    raise ConversionValidationError('SLICE_INCREMENT_INCONSISTENT')\n",
      "dicom2nifti.exceptions.ConversionValidationError: SLICE_INCREMENT_INCONSISTENT\n",
      "Slice increment not consistent through all slices\n",
      "---------------------------------------------------------\n",
      "[-119.061  -143.76    -47.1576] [ 0.068   0.16   -1.9925]\n",
      "[-119.196  -144.079   -43.1727] [ 0.135   0.319  -3.9849]\n",
      "Instance Number: 6\n",
      "---------------------------------------------------------\n",
      "Traceback (most recent call last):\n",
      "  File \"d:\\scoop\\apps\\pyenv\\current\\pyenv-win\\versions\\3.8.10\\lib\\site-packages\\dicom2nifti\\convert_dir.py\", line 85, in convert_directory\n",
      "    convert_dicom.dicom_array_to_nifti(dicom_input, nifti_file, reorient)\n",
      "  File \"d:\\scoop\\apps\\pyenv\\current\\pyenv-win\\versions\\3.8.10\\lib\\site-packages\\dicom2nifti\\convert_dicom.py\", line 121, in dicom_array_to_nifti\n",
      "    results = convert_ge.dicom_to_nifti(dicom_list, output_file)\n",
      "  File \"d:\\scoop\\apps\\pyenv\\current\\pyenv-win\\versions\\3.8.10\\lib\\site-packages\\dicom2nifti\\convert_ge.py\", line 54, in dicom_to_nifti\n",
      "    return convert_generic.dicom_to_nifti(dicom_input, output_file)\n",
      "  File \"d:\\scoop\\apps\\pyenv\\current\\pyenv-win\\versions\\3.8.10\\lib\\site-packages\\dicom2nifti\\convert_generic.py\", line 132, in dicom_to_nifti\n",
      "    common.validate_slice_increment(dicom_input)\n",
      "  File \"d:\\scoop\\apps\\pyenv\\current\\pyenv-win\\versions\\3.8.10\\lib\\site-packages\\dicom2nifti\\common.py\", line 888, in validate_slice_increment\n",
      "    raise ConversionValidationError('SLICE_INCREMENT_INCONSISTENT')\n",
      "dicom2nifti.exceptions.ConversionValidationError: SLICE_INCREMENT_INCONSISTENT\n",
      "Slice increment not consistent through all slices\n",
      "---------------------------------------------------------\n",
      "[-120.323   -79.1891  118.101 ] [-0.05   -1.9562  0.413 ]\n",
      "[-120.224   -75.2768  117.274 ] [-0.099  -3.9123  0.827 ]\n",
      "Instance Number: 6\n",
      "---------------------------------------------------------\n",
      "Traceback (most recent call last):\n",
      "  File \"d:\\scoop\\apps\\pyenv\\current\\pyenv-win\\versions\\3.8.10\\lib\\site-packages\\dicom2nifti\\convert_dir.py\", line 85, in convert_directory\n",
      "    convert_dicom.dicom_array_to_nifti(dicom_input, nifti_file, reorient)\n",
      "  File \"d:\\scoop\\apps\\pyenv\\current\\pyenv-win\\versions\\3.8.10\\lib\\site-packages\\dicom2nifti\\convert_dicom.py\", line 121, in dicom_array_to_nifti\n",
      "    results = convert_ge.dicom_to_nifti(dicom_list, output_file)\n",
      "  File \"d:\\scoop\\apps\\pyenv\\current\\pyenv-win\\versions\\3.8.10\\lib\\site-packages\\dicom2nifti\\convert_ge.py\", line 54, in dicom_to_nifti\n",
      "    return convert_generic.dicom_to_nifti(dicom_input, output_file)\n",
      "  File \"d:\\scoop\\apps\\pyenv\\current\\pyenv-win\\versions\\3.8.10\\lib\\site-packages\\dicom2nifti\\convert_generic.py\", line 132, in dicom_to_nifti\n",
      "    common.validate_slice_increment(dicom_input)\n",
      "  File \"d:\\scoop\\apps\\pyenv\\current\\pyenv-win\\versions\\3.8.10\\lib\\site-packages\\dicom2nifti\\common.py\", line 888, in validate_slice_increment\n",
      "    raise ConversionValidationError('SLICE_INCREMENT_INCONSISTENT')\n",
      "dicom2nifti.exceptions.ConversionValidationError: SLICE_INCREMENT_INCONSISTENT\n"
     ]
    }
   ],
   "source": [
    "for dir in absdirs:\n",
    "    out = os.path.join(dir, 'out')\n",
    "    os.mkdir(out)\n",
    "    dicom2nifti.convert_directory(dir, out, compression=False, reorient=True)"
   ]
  },
  {
   "cell_type": "code",
   "execution_count": null,
   "metadata": {},
   "outputs": [],
   "source": [
    "root = 'I:\\\\dcmsupp'\n",
    "dirs = os.listdir(root)\n",
    "absdirs = list(map(lambda d: os.path.join(root, d), dirs))"
   ]
  },
  {
   "cell_type": "code",
   "execution_count": 19,
   "metadata": {},
   "outputs": [],
   "source": [
    "root = 'I:\\\\supp'\n",
    "for i in range(len(dirs)):\n",
    "    dir = dirs[i]\n",
    "    absdir = os.path.join(absdirs[i], 'out')\n",
    "    nii = os.listdir(absdir)[0]\n",
    "    id = dir.split('_')[3]\n",
    "    #print(os.path.join(root, str(id)+'.nii'))\n",
    "    shutil.move(os.path.join(absdir, nii), os.path.join(root, str(id)+'.nii'))"
   ]
  }
 ],
 "metadata": {
  "kernelspec": {
   "display_name": "Python 3.8.10 64-bit ('3.8.10')",
   "language": "python",
   "name": "python3"
  },
  "language_info": {
   "codemirror_mode": {
    "name": "ipython",
    "version": 3
   },
   "file_extension": ".py",
   "mimetype": "text/x-python",
   "name": "python",
   "nbconvert_exporter": "python",
   "pygments_lexer": "ipython3",
   "version": "3.8.10"
  },
  "orig_nbformat": 4,
  "vscode": {
   "interpreter": {
    "hash": "420353a47962bc0cada1a6173771095a3d05bd8a3ecc61a5b633bf029926f1ac"
   }
  }
 },
 "nbformat": 4,
 "nbformat_minor": 2
}
