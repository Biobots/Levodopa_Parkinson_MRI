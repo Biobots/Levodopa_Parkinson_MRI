{
 "cells": [
  {
   "cell_type": "code",
   "execution_count": 13,
   "metadata": {},
   "outputs": [],
   "source": [
    "import pandas as pd\n",
    "import os\n",
    "import os.path\n",
    "from sklearn.model_selection import GroupShuffleSplit\n",
    "from src.utils.data import getDataPandas, getConfig\n",
    "from pipe.stats import stats_analyze"
   ]
  },
  {
   "cell_type": "code",
   "execution_count": 20,
   "metadata": {},
   "outputs": [],
   "source": [
    "data_config = getConfig('data')\n",
    "group = data_config['data_group']"
   ]
  },
  {
   "cell_type": "code",
   "execution_count": 3,
   "metadata": {},
   "outputs": [],
   "source": [
    "data = getDataPandas()\n",
    "data = data.sample(frac=1, random_state=1)\n",
    "data = data.drop_duplicates(subset=['PATNO', 'EVENT_ID'], keep='first').reset_index(drop=True)\n",
    "data = data.drop(data[data['NUPDR3OF'] < 5].index).reset_index(drop=True)\n",
    "data = data.drop(data[data['LEDD'] > 5000].index).reset_index(drop=True)"
   ]
  },
  {
   "cell_type": "code",
   "execution_count": 6,
   "metadata": {},
   "outputs": [],
   "source": [
    "data['KEY'] = data['PATNO'].astype(str) + data['EVENT_ID']"
   ]
  },
  {
   "cell_type": "code",
   "execution_count": 14,
   "metadata": {},
   "outputs": [],
   "source": [
    "splitter = GroupShuffleSplit(test_size=0.2, n_splits=1, random_state=0)\n",
    "split = splitter.split(data, groups=data['PATNO'])\n",
    "train_inds, test_inds = next(split)"
   ]
  },
  {
   "cell_type": "code",
   "execution_count": 25,
   "metadata": {},
   "outputs": [],
   "source": [
    "x = data[group['demo'] + group['clinic'] + ['PATNO']]\n",
    "y = data[['CAT']]"
   ]
  },
  {
   "cell_type": "code",
   "execution_count": 26,
   "metadata": {},
   "outputs": [],
   "source": [
    "x_clinic_train = x.iloc[train_inds].reset_index(drop=True)\n",
    "x_clinic_test = x.iloc[test_inds].reset_index(drop=True)\n",
    "y_train = y.iloc[train_inds].reset_index(drop=True)\n",
    "y_test = y.iloc[test_inds].reset_index(drop=True)"
   ]
  },
  {
   "cell_type": "code",
   "execution_count": 27,
   "metadata": {},
   "outputs": [
    {
     "name": "stdout",
     "output_type": "stream",
     "text": [
      "SEX chi2 p: 0.5414803876006902\n",
      "CAT chi2 p: 0.9510706628888684\n",
      "AGE_AT_VISIT Normaltest p_train: [0.07505303], p_test: [0.48389882]\n",
      "AGE_AT_VISIT t-test p: Ttest_indResult(statistic=array([1.54953415]), pvalue=array([0.12271054]))\n",
      "NUPDR3OF Normaltest p_train: [0.01407325], p_test: [0.53859285]\n",
      "NUPDR3OF ranksums p: RanksumsResult(statistic=array([0.53408144]), pvalue=array([0.59328519]))\n",
      "LEDD Normaltest p_train: [2.38365408e-12], p_test: [0.16081336]\n",
      "LEDD ranksums p: RanksumsResult(statistic=array([0.1754091]), pvalue=array([0.86075819]))\n",
      "DURATION Normaltest p_train: [0.00553476], p_test: [0.13860719]\n",
      "DURATION ranksums p: RanksumsResult(statistic=array([-0.45554005]), pvalue=array([0.64872076]))\n",
      "\n"
     ]
    }
   ],
   "source": [
    "stats_analyze(x_clinic_train, x_clinic_test, y_train, y_test, data_config)"
   ]
  },
  {
   "cell_type": "code",
   "execution_count": 29,
   "metadata": {},
   "outputs": [
    {
     "data": {
      "text/html": [
       "<div>\n",
       "<style scoped>\n",
       "    .dataframe tbody tr th:only-of-type {\n",
       "        vertical-align: middle;\n",
       "    }\n",
       "\n",
       "    .dataframe tbody tr th {\n",
       "        vertical-align: top;\n",
       "    }\n",
       "\n",
       "    .dataframe thead th {\n",
       "        text-align: right;\n",
       "    }\n",
       "</style>\n",
       "<table border=\"1\" class=\"dataframe\">\n",
       "  <thead>\n",
       "    <tr style=\"text-align: right;\">\n",
       "      <th></th>\n",
       "      <th>AGE_AT_VISIT</th>\n",
       "      <th>SEX</th>\n",
       "      <th>NUPDR3OF</th>\n",
       "      <th>LEDD</th>\n",
       "      <th>DURATION</th>\n",
       "      <th>PATNO</th>\n",
       "    </tr>\n",
       "  </thead>\n",
       "  <tbody>\n",
       "    <tr>\n",
       "      <th>count</th>\n",
       "      <td>173.000000</td>\n",
       "      <td>173.000000</td>\n",
       "      <td>173.000000</td>\n",
       "      <td>173.000000</td>\n",
       "      <td>173.000000</td>\n",
       "      <td>173.000000</td>\n",
       "    </tr>\n",
       "    <tr>\n",
       "      <th>mean</th>\n",
       "      <td>64.116763</td>\n",
       "      <td>0.670520</td>\n",
       "      <td>27.514451</td>\n",
       "      <td>604.188925</td>\n",
       "      <td>41.884393</td>\n",
       "      <td>26864.751445</td>\n",
       "    </tr>\n",
       "    <tr>\n",
       "      <th>std</th>\n",
       "      <td>9.248878</td>\n",
       "      <td>0.471389</td>\n",
       "      <td>12.413237</td>\n",
       "      <td>417.367176</td>\n",
       "      <td>21.673541</td>\n",
       "      <td>28148.970004</td>\n",
       "    </tr>\n",
       "    <tr>\n",
       "      <th>min</th>\n",
       "      <td>35.100000</td>\n",
       "      <td>0.000000</td>\n",
       "      <td>7.000000</td>\n",
       "      <td>40.000000</td>\n",
       "      <td>2.000000</td>\n",
       "      <td>3107.000000</td>\n",
       "    </tr>\n",
       "    <tr>\n",
       "      <th>25%</th>\n",
       "      <td>57.300000</td>\n",
       "      <td>0.000000</td>\n",
       "      <td>18.000000</td>\n",
       "      <td>300.000000</td>\n",
       "      <td>26.000000</td>\n",
       "      <td>3558.000000</td>\n",
       "    </tr>\n",
       "    <tr>\n",
       "      <th>50%</th>\n",
       "      <td>65.000000</td>\n",
       "      <td>1.000000</td>\n",
       "      <td>26.000000</td>\n",
       "      <td>504.000000</td>\n",
       "      <td>44.000000</td>\n",
       "      <td>4019.000000</td>\n",
       "    </tr>\n",
       "    <tr>\n",
       "      <th>75%</th>\n",
       "      <td>71.300000</td>\n",
       "      <td>1.000000</td>\n",
       "      <td>35.000000</td>\n",
       "      <td>765.000000</td>\n",
       "      <td>54.000000</td>\n",
       "      <td>50027.000000</td>\n",
       "    </tr>\n",
       "    <tr>\n",
       "      <th>max</th>\n",
       "      <td>86.300000</td>\n",
       "      <td>1.000000</td>\n",
       "      <td>62.000000</td>\n",
       "      <td>2379.500000</td>\n",
       "      <td>112.000000</td>\n",
       "      <td>149511.000000</td>\n",
       "    </tr>\n",
       "  </tbody>\n",
       "</table>\n",
       "</div>"
      ],
      "text/plain": [
       "       AGE_AT_VISIT         SEX    NUPDR3OF         LEDD    DURATION  \\\n",
       "count    173.000000  173.000000  173.000000   173.000000  173.000000   \n",
       "mean      64.116763    0.670520   27.514451   604.188925   41.884393   \n",
       "std        9.248878    0.471389   12.413237   417.367176   21.673541   \n",
       "min       35.100000    0.000000    7.000000    40.000000    2.000000   \n",
       "25%       57.300000    0.000000   18.000000   300.000000   26.000000   \n",
       "50%       65.000000    1.000000   26.000000   504.000000   44.000000   \n",
       "75%       71.300000    1.000000   35.000000   765.000000   54.000000   \n",
       "max       86.300000    1.000000   62.000000  2379.500000  112.000000   \n",
       "\n",
       "               PATNO  \n",
       "count     173.000000  \n",
       "mean    26864.751445  \n",
       "std     28148.970004  \n",
       "min      3107.000000  \n",
       "25%      3558.000000  \n",
       "50%      4019.000000  \n",
       "75%     50027.000000  \n",
       "max    149511.000000  "
      ]
     },
     "execution_count": 29,
     "metadata": {},
     "output_type": "execute_result"
    }
   ],
   "source": [
    "x_clinic_train.describe()"
   ]
  },
  {
   "cell_type": "code",
   "execution_count": 30,
   "metadata": {},
   "outputs": [
    {
     "data": {
      "text/html": [
       "<div>\n",
       "<style scoped>\n",
       "    .dataframe tbody tr th:only-of-type {\n",
       "        vertical-align: middle;\n",
       "    }\n",
       "\n",
       "    .dataframe tbody tr th {\n",
       "        vertical-align: top;\n",
       "    }\n",
       "\n",
       "    .dataframe thead th {\n",
       "        text-align: right;\n",
       "    }\n",
       "</style>\n",
       "<table border=\"1\" class=\"dataframe\">\n",
       "  <thead>\n",
       "    <tr style=\"text-align: right;\">\n",
       "      <th></th>\n",
       "      <th>AGE_AT_VISIT</th>\n",
       "      <th>SEX</th>\n",
       "      <th>NUPDR3OF</th>\n",
       "      <th>LEDD</th>\n",
       "      <th>DURATION</th>\n",
       "      <th>PATNO</th>\n",
       "    </tr>\n",
       "  </thead>\n",
       "  <tbody>\n",
       "    <tr>\n",
       "      <th>count</th>\n",
       "      <td>46.000000</td>\n",
       "      <td>46.000000</td>\n",
       "      <td>46.000000</td>\n",
       "      <td>46.000000</td>\n",
       "      <td>46.000000</td>\n",
       "      <td>46.000000</td>\n",
       "    </tr>\n",
       "    <tr>\n",
       "      <th>mean</th>\n",
       "      <td>61.736957</td>\n",
       "      <td>0.608696</td>\n",
       "      <td>25.913043</td>\n",
       "      <td>560.032609</td>\n",
       "      <td>44.152174</td>\n",
       "      <td>21970.239130</td>\n",
       "    </tr>\n",
       "    <tr>\n",
       "      <th>std</th>\n",
       "      <td>9.293112</td>\n",
       "      <td>0.493435</td>\n",
       "      <td>11.796094</td>\n",
       "      <td>319.334055</td>\n",
       "      <td>23.766426</td>\n",
       "      <td>29019.844196</td>\n",
       "    </tr>\n",
       "    <tr>\n",
       "      <th>min</th>\n",
       "      <td>38.700000</td>\n",
       "      <td>0.000000</td>\n",
       "      <td>5.000000</td>\n",
       "      <td>30.000000</td>\n",
       "      <td>4.000000</td>\n",
       "      <td>3124.000000</td>\n",
       "    </tr>\n",
       "    <tr>\n",
       "      <th>25%</th>\n",
       "      <td>55.625000</td>\n",
       "      <td>0.000000</td>\n",
       "      <td>16.250000</td>\n",
       "      <td>300.000000</td>\n",
       "      <td>25.250000</td>\n",
       "      <td>3309.000000</td>\n",
       "    </tr>\n",
       "    <tr>\n",
       "      <th>50%</th>\n",
       "      <td>62.200000</td>\n",
       "      <td>1.000000</td>\n",
       "      <td>26.500000</td>\n",
       "      <td>489.400000</td>\n",
       "      <td>43.000000</td>\n",
       "      <td>3700.000000</td>\n",
       "    </tr>\n",
       "    <tr>\n",
       "      <th>75%</th>\n",
       "      <td>68.425000</td>\n",
       "      <td>1.000000</td>\n",
       "      <td>34.250000</td>\n",
       "      <td>717.500000</td>\n",
       "      <td>55.750000</td>\n",
       "      <td>40744.000000</td>\n",
       "    </tr>\n",
       "    <tr>\n",
       "      <th>max</th>\n",
       "      <td>77.100000</td>\n",
       "      <td>1.000000</td>\n",
       "      <td>53.000000</td>\n",
       "      <td>1396.500000</td>\n",
       "      <td>107.000000</td>\n",
       "      <td>101295.000000</td>\n",
       "    </tr>\n",
       "  </tbody>\n",
       "</table>\n",
       "</div>"
      ],
      "text/plain": [
       "       AGE_AT_VISIT        SEX   NUPDR3OF         LEDD    DURATION  \\\n",
       "count     46.000000  46.000000  46.000000    46.000000   46.000000   \n",
       "mean      61.736957   0.608696  25.913043   560.032609   44.152174   \n",
       "std        9.293112   0.493435  11.796094   319.334055   23.766426   \n",
       "min       38.700000   0.000000   5.000000    30.000000    4.000000   \n",
       "25%       55.625000   0.000000  16.250000   300.000000   25.250000   \n",
       "50%       62.200000   1.000000  26.500000   489.400000   43.000000   \n",
       "75%       68.425000   1.000000  34.250000   717.500000   55.750000   \n",
       "max       77.100000   1.000000  53.000000  1396.500000  107.000000   \n",
       "\n",
       "               PATNO  \n",
       "count      46.000000  \n",
       "mean    21970.239130  \n",
       "std     29019.844196  \n",
       "min      3124.000000  \n",
       "25%      3309.000000  \n",
       "50%      3700.000000  \n",
       "75%     40744.000000  \n",
       "max    101295.000000  "
      ]
     },
     "execution_count": 30,
     "metadata": {},
     "output_type": "execute_result"
    }
   ],
   "source": [
    "x_clinic_test.describe()"
   ]
  },
  {
   "cell_type": "code",
   "execution_count": 36,
   "metadata": {},
   "outputs": [],
   "source": [
    "data_config['train_index'] = train_inds.tolist()\n",
    "data_config['test_index'] = test_inds.tolist()"
   ]
  },
  {
   "cell_type": "code",
   "execution_count": 37,
   "metadata": {},
   "outputs": [],
   "source": [
    "import json\n",
    "with open(os.path.join('pipe', 'data_config.json'), 'w+', encoding=\"utf-8\") as f:\n",
    "        json.dump(data_config, f, ensure_ascii=False, indent=4)"
   ]
  }
 ],
 "metadata": {
  "kernelspec": {
   "display_name": "Python 3",
   "language": "python",
   "name": "python3"
  },
  "language_info": {
   "codemirror_mode": {
    "name": "ipython",
    "version": 3
   },
   "file_extension": ".py",
   "mimetype": "text/x-python",
   "name": "python",
   "nbconvert_exporter": "python",
   "pygments_lexer": "ipython3",
   "version": "3.10.9 (main, Jan 29 2023, 21:28:03) [GCC 11.3.0]"
  },
  "orig_nbformat": 4,
  "vscode": {
   "interpreter": {
    "hash": "59f93d4989ed3fa67bb121b8aa9e9a1594d6acd17d782b10707f82fdae21f86d"
   }
  }
 },
 "nbformat": 4,
 "nbformat_minor": 2
}
