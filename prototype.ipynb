{
 "cells": [
  {
   "cell_type": "code",
   "execution_count": 1,
   "metadata": {},
   "outputs": [],
   "source": [
    "import pandas as pd\n",
    "import numpy as np\n",
    "import os\n",
    "import os.path\n",
    "from sklearn.svm import SVC\n",
    "from xgboost.sklearn import XGBClassifier\n",
    "from sklearn.model_selection import GridSearchCV, train_test_split, StratifiedKFold\n",
    "from sklearn import metrics\n",
    "from scipy.stats import zscore, ttest_ind, chi2_contingency, normaltest, ranksums\n",
    "from src.utils.data import getDataPandas, getConfig\n",
    "from pipe.lut import Model_LUT, Feature_LUT\n",
    "from pipe.img_feature import load_imgs, preprocess_imgs, PCA_fit_transform, PCA_transform"
   ]
  },
  {
   "cell_type": "code",
   "execution_count": 2,
   "metadata": {},
   "outputs": [],
   "source": [
    "# None-image features\n",
    "data = getDataPandas()\n",
    "data = data.sample(frac=1, random_state=1)\n",
    "data = data.drop_duplicates(subset=['PATNO'], keep='first').reset_index(drop=True)\n",
    "data = data.drop(data[data['NUPDR3OF'] < 5].index).reset_index(drop=True)"
   ]
  },
  {
   "cell_type": "code",
   "execution_count": 3,
   "metadata": {},
   "outputs": [],
   "source": [
    "model_config = getConfig('model')\n",
    "data_config = getConfig('data')\n",
    "img_config = getConfig('image')\n",
    "group = data_config['data_group']"
   ]
  },
  {
   "cell_type": "code",
   "execution_count": 4,
   "metadata": {},
   "outputs": [],
   "source": [
    "# Tasks include models used\n",
    "TASKS = [\n",
    "    'classification/2'\n",
    "]\n",
    "# Features include image features used\n",
    "FEATURES = [\n",
    "    ['test_pca']\n",
    "]"
   ]
  },
  {
   "cell_type": "code",
   "execution_count": 5,
   "metadata": {},
   "outputs": [],
   "source": [
    "# Maybe write to a specific file later?\n",
    "log_func = print"
   ]
  },
  {
   "cell_type": "code",
   "execution_count": 6,
   "metadata": {},
   "outputs": [
    {
     "name": "stdout",
     "output_type": "stream",
     "text": [
      "Current Task: classification/2\n",
      "\n",
      "Image Features:\n",
      " ['test_pca']\n",
      "\n",
      "Demo + Clinic:\n",
      "\n",
      "Model: svc\n",
      "AUC train 0.7222843822843823, test 0.7767857142857143\n",
      "Params {'coef0': 0, 'degree': 3, 'gamma': 'scale', 'kernel': 'linear', 'probability': True, 'random_state': 1, 'shrinking': True, 'tol': 0.001}\n",
      "\n",
      "Model: xgboost\n",
      "AUC train 0.7698251748251749, test 0.7388392857142857\n",
      "Params {'colsample_bytree': 0.8, 'learning_rate': 0.2, 'max_depth': 1, 'min_child_weight': 1, 'missing': -999, 'n_estimators': 50, 'nthread': 4, 'objective': 'binary:logistic', 'random_state': 1, 'subsample': 0.9}\n",
      "\n",
      "\n",
      "Demo + Img:\n",
      "\n",
      "Model: svc\n",
      "AUC train 0.4702331002331002, test 0.38839285714285715\n",
      "Params {'coef0': 0, 'degree': 3, 'gamma': 'scale', 'kernel': 'rbf', 'probability': True, 'random_state': 1, 'shrinking': True, 'tol': 0.01}\n",
      "\n",
      "Model: xgboost\n",
      "AUC train 0.5822610722610723, test 0.5178571428571428\n",
      "Params {'colsample_bytree': 0.8, 'learning_rate': 0.3, 'max_depth': 3, 'min_child_weight': 1, 'missing': -999, 'n_estimators': 25, 'nthread': 4, 'objective': 'binary:logistic', 'random_state': 1, 'subsample': 0.8}\n",
      "\n",
      "\n",
      "Demo + Clinic + Img:\n",
      "\n",
      "Model: svc\n",
      "AUC train 0.7088344988344989, test 0.8370535714285714\n",
      "Params {'coef0': 0, 'degree': 3, 'gamma': 'scale', 'kernel': 'poly', 'probability': True, 'random_state': 1, 'shrinking': True, 'tol': 0.01}\n",
      "\n",
      "Model: xgboost\n",
      "AUC train 0.6417948717948718, test 0.7723214285714286\n",
      "Params {'colsample_bytree': 0.8, 'learning_rate': 0.3, 'max_depth': 5, 'min_child_weight': 1, 'missing': -999, 'n_estimators': 25, 'nthread': 4, 'objective': 'binary:logistic', 'random_state': 1, 'subsample': 0.85}\n",
      "\n",
      "\n"
     ]
    }
   ],
   "source": [
    "# Loop for tasks and feature collections\n",
    "for task_name in TASKS:\n",
    "    log_func('Current Task: {}'.format(task_name))\n",
    "    log_func()\n",
    "    for feature_names in FEATURES:\n",
    "        log_func('Image Features:\\n {}'.format(feature_names))\n",
    "        log_func()\n",
    "        # Get model list\n",
    "        task = model_config['task'][task_name]\n",
    "        models = task['models']\n",
    "        \n",
    "        # Filter data with demographic and clinical keys\n",
    "        x = data[group['demo'] + group['clinic']]\n",
    "        y = data[[task['output']]]\n",
    "        # Split the dataset (To be overwritten later)\n",
    "        # Potential solution for dataset split: https://github.com/sdpython/pandas_streaming/blob/a1fa7b9300838c8136edb49312ba2d6209b46cc9/pandas_streaming/df/connex_split.py#L386\n",
    "        x_clinic_train, x_clinic_test, y_train, y_test = train_test_split(x, y, test_size=0.2, random_state=12, stratify=y)\n",
    "        # Empty dataframes to fill with image features\n",
    "        x_img_train = pd.DataFrame(index=x_clinic_train.index).reset_index(drop=True)\n",
    "        x_img_test = pd.DataFrame(index=x_clinic_test.index).reset_index(drop=True)\n",
    "\n",
    "        # Loop to calculate each feature, multiple features are supported\n",
    "        for feature_name in feature_names:\n",
    "            # Get calculation function and params via LUT\n",
    "            func = Feature_LUT[feature_name]\n",
    "            params = img_config['task'][feature_name]['params']\n",
    "            # Calculate features and append to the dataframe\n",
    "            x_fe_train, x_fe_test = func(data, x_clinic_train.index, x_clinic_test.index, params)\n",
    "            x_img_train = x_img_train.join(x_fe_train)\n",
    "            x_img_test = x_img_test.join(x_fe_test)\n",
    "\n",
    "        # Rearrange data\n",
    "        # demo + clinic, demo + img, demo + clinic + img\n",
    "        x_clinic_train = x_clinic_train.reset_index(drop=True)\n",
    "        x_clinic_test = x_clinic_test.reset_index(drop=True)\n",
    "        x_demo_train = x_clinic_train[group['demo']]\n",
    "        x_demo_test = x_clinic_test[group['demo']]\n",
    "        x_clinic_img_train = x_clinic_train.join(x_img_train)\n",
    "        x_clinic_img_test = x_clinic_test.join(x_img_test)\n",
    "        x_img_train = x_demo_train.join(x_img_train)\n",
    "        x_img_test = x_demo_test.join(x_img_test)\n",
    "\n",
    "        x_train_list = [x_clinic_train, x_img_train, x_clinic_img_train]\n",
    "        x_test_list = [x_clinic_test, x_img_test, x_clinic_img_test]\n",
    "        info_list = ['Demo + Clinic:', 'Demo + Img:', 'Demo + Clinic + Img:']\n",
    "\n",
    "        # Loop\n",
    "        for i in range(3):\n",
    "            x_train = x_train_list[i]\n",
    "            x_test = x_test_list[i]\n",
    "            log_func(info_list[i])\n",
    "            log_func()\n",
    "            for model in models:\n",
    "                name = model['name']\n",
    "                parameters = model['params']\n",
    "                model = Model_LUT[name]()\n",
    "                clf = GridSearchCV(\n",
    "                    model,\n",
    "                    parameters,\n",
    "                    n_jobs=5,\n",
    "                    # StratifiedGroupKFold?\n",
    "                    cv=StratifiedKFold(n_splits=5, shuffle=True, random_state=1),\n",
    "                    scoring=task['gridsearch_params']['scoring']\n",
    "                )\n",
    "                clf.fit(x_train, y_train.values.ravel())\n",
    "                log_func('Model: {}'.format(name))\n",
    "                # Now classification specific, other metrics need to be considered according to task\n",
    "                y_prob = clf.best_estimator_.predict_proba(x_test)\n",
    "                log_func('AUC train {}, test {}'.format(clf.best_score_, metrics.roc_auc_score(list(y_test[task['output']]), y_prob[:, 1])))\n",
    "                log_func('Params {}'.format(clf.best_params_))\n",
    "                log_func()\n",
    "            log_func()"
   ]
  }
 ],
 "metadata": {
  "kernelspec": {
   "display_name": "Python 3",
   "language": "python",
   "name": "python3"
  },
  "language_info": {
   "codemirror_mode": {
    "name": "ipython",
    "version": 3
   },
   "file_extension": ".py",
   "mimetype": "text/x-python",
   "name": "python",
   "nbconvert_exporter": "python",
   "pygments_lexer": "ipython3",
   "version": "3.10.9"
  },
  "orig_nbformat": 4,
  "vscode": {
   "interpreter": {
    "hash": "59f93d4989ed3fa67bb121b8aa9e9a1594d6acd17d782b10707f82fdae21f86d"
   }
  }
 },
 "nbformat": 4,
 "nbformat_minor": 2
}
