{
 "cells": [
  {
   "cell_type": "code",
   "execution_count": 1,
   "metadata": {},
   "outputs": [],
   "source": [
    "from src.utils.data import getDataTagPandas"
   ]
  },
  {
   "cell_type": "code",
   "execution_count": 2,
   "metadata": {},
   "outputs": [],
   "source": [
    "train = getDataTagPandas('train')\n",
    "val = getDataTagPandas('validate')\n",
    "test = getDataTagPandas('test')"
   ]
  },
  {
   "cell_type": "code",
   "execution_count": 3,
   "metadata": {},
   "outputs": [],
   "source": [
    "from scipy.stats import ttest_ind"
   ]
  },
  {
   "cell_type": "code",
   "execution_count": 5,
   "metadata": {},
   "outputs": [
    {
     "name": "stdout",
     "output_type": "stream",
     "text": [
      "Ttest_indResult(statistic=0.2829136135885548, pvalue=0.7775165278359664)\n",
      "Ttest_indResult(statistic=0.4640161328268357, pvalue=0.6431078451464562)\n",
      "Ttest_indResult(statistic=-2.1922929917268235, pvalue=0.02943651064798692)\n",
      "Ttest_indResult(statistic=1.8244180341410845, pvalue=0.06948336070683195)\n"
     ]
    }
   ],
   "source": [
    "print(ttest_ind(train['AGE_AT_VISIT'], val['AGE_AT_VISIT']))\n",
    "print(ttest_ind(train['DURATION'], val['DURATION']))\n",
    "print(ttest_ind(train['TIV'], val['TIV']))\n",
    "print(ttest_ind(train['SCORE'], val['SCORE']))"
   ]
  }
 ],
 "metadata": {
  "kernelspec": {
   "display_name": "Python 3.8.10 64-bit ('3.8.10')",
   "language": "python",
   "name": "python3"
  },
  "language_info": {
   "codemirror_mode": {
    "name": "ipython",
    "version": 3
   },
   "file_extension": ".py",
   "mimetype": "text/x-python",
   "name": "python",
   "nbconvert_exporter": "python",
   "pygments_lexer": "ipython3",
   "version": "3.8.10"
  },
  "orig_nbformat": 4,
  "vscode": {
   "interpreter": {
    "hash": "420353a47962bc0cada1a6173771095a3d05bd8a3ecc61a5b633bf029926f1ac"
   }
  }
 },
 "nbformat": 4,
 "nbformat_minor": 2
}
