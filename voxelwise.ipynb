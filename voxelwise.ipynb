{
 "cells": [
  {
   "cell_type": "code",
   "execution_count": 148,
   "metadata": {},
   "outputs": [],
   "source": [
    "import nibabel as nib\n",
    "import nilearn as nil\n",
    "import numpy as np\n",
    "import pandas as pd\n",
    "import os\n",
    "import os.path\n",
    "from nilearn import plotting, image\n",
    "from nipype.interfaces.spm import TwoSampleTTestDesign, EstimateModel, EstimateContrast, Threshold\n",
    "from nipype.pipeline.engine import Workflow, Node, MapNode\n",
    "from src.utils.data import getDataPandas, getPandas, getConfig"
   ]
  },
  {
   "cell_type": "code",
   "execution_count": 149,
   "metadata": {},
   "outputs": [],
   "source": [
    "data = getDataPandas()\n",
    "model_config = getConfig('model')\n",
    "data_config = getConfig('data')\n",
    "train_inds = data_config['train_index']\n",
    "test_inds = data_config['test_index']\n",
    "data_train = data.iloc[train_inds].reset_index(drop=True)\n",
    "data_test = data.iloc[test_inds].reset_index(drop=True)\n",
    "data_full = data.iloc[train_inds + test_inds].reset_index(drop=True)"
   ]
  },
  {
   "cell_type": "code",
   "execution_count": 150,
   "metadata": {},
   "outputs": [],
   "source": [
    "train_good = data_train[data_train['CAT']==1]\n",
    "train_bad = data_train[data_train['CAT']==0]\n",
    "#train_good = data_full[data_full['CAT']==1]\n",
    "#train_bad = data_full[data_full['CAT']==0]\n",
    "img_good = train_good['T1_SGM_PATH']\n",
    "img_bad = train_bad['T1_SGM_PATH']\n",
    "img_good = img_good.apply(os.path.abspath)\n",
    "img_bad = img_bad.apply(os.path.abspath)"
   ]
  },
  {
   "cell_type": "code",
   "execution_count": 151,
   "metadata": {},
   "outputs": [],
   "source": [
    "age_good = train_good['AGE_AT_VISIT']\n",
    "age_bad = train_bad['AGE_AT_VISIT']\n",
    "sex_good = train_good['SEX']\n",
    "sex_bad = train_bad['SEX']\n",
    "tiv_good = train_good['TIV']\n",
    "tiv_bad = train_bad['TIV']\n",
    "agelist = age_good.tolist() + age_bad.tolist()\n",
    "sexlist = sex_good.tolist() + sex_bad.tolist()\n",
    "tivlist = tiv_good.tolist() + tiv_bad.tolist()"
   ]
  },
  {
   "cell_type": "code",
   "execution_count": 157,
   "metadata": {},
   "outputs": [
    {
     "name": "stdout",
     "output_type": "stream",
     "text": [
      "230324-17:15:22,586 nipype.workflow INFO:\n",
      "\t Workflow voxelwise settings: ['check', 'execution', 'logging', 'monitoring']\n",
      "230324-17:15:22,593 nipype.workflow INFO:\n",
      "\t Running serially.\n",
      "230324-17:15:22,594 nipype.workflow INFO:\n",
      "\t [Node] Setting-up \"voxelwise.ttest\" in \"/home/biobot/levodopa/levodopa/tmp/voxelwise/ttest\".\n",
      "230324-17:15:22,598 nipype.workflow INFO:\n",
      "\t [Node] Cached \"voxelwise.ttest\" - collecting precomputed outputs\n",
      "230324-17:15:22,599 nipype.workflow INFO:\n",
      "\t [Node] \"voxelwise.ttest\" found cached.\n",
      "230324-17:15:22,599 nipype.workflow INFO:\n",
      "\t [Node] Setting-up \"voxelwise.model\" in \"/home/biobot/levodopa/levodopa/tmp/voxelwise/model\".\n",
      "230324-17:15:22,603 nipype.workflow INFO:\n",
      "\t [Node] Cached \"voxelwise.model\" - collecting precomputed outputs\n",
      "230324-17:15:22,603 nipype.workflow INFO:\n",
      "\t [Node] \"voxelwise.model\" found cached.\n",
      "230324-17:15:22,604 nipype.workflow INFO:\n",
      "\t [Node] Setting-up \"voxelwise.contrast\" in \"/home/biobot/levodopa/levodopa/tmp/voxelwise/contrast\".\n",
      "230324-17:15:22,606 nipype.workflow INFO:\n",
      "\t [Node] Cached \"voxelwise.contrast\" - collecting precomputed outputs\n",
      "230324-17:15:22,607 nipype.workflow INFO:\n",
      "\t [Node] \"voxelwise.contrast\" found cached.\n",
      "230324-17:15:22,609 nipype.workflow INFO:\n",
      "\t [Node] \"voxelwise.thres\" found cached.\n"
     ]
    },
    {
     "data": {
      "text/plain": [
       "<networkx.classes.digraph.DiGraph at 0x7f9dfdbbf790>"
      ]
     },
     "execution_count": 157,
     "metadata": {},
     "output_type": "execute_result"
    }
   ],
   "source": [
    "wf = Workflow(name='voxelwise', base_dir='tmp')\n",
    "\n",
    "ttest = Node(TwoSampleTTestDesign(), name='ttest')\n",
    "ttest.inputs.group1_files = img_good.tolist()\n",
    "ttest.inputs.group2_files = img_bad.tolist()\n",
    "ttest.inputs.covariates = [\n",
    "    {'name': 'age', 'vector': agelist},\n",
    "    {'name': 'sex', 'vector': sexlist},\n",
    "    {'name': 'tiv', 'vector': tivlist}\n",
    "]\n",
    "\n",
    "model = Node(EstimateModel(), name='model')\n",
    "model.inputs.estimation_method = {'Classical': 1}\n",
    "\n",
    "contrast = Node(EstimateContrast(), name='contrast')\n",
    "con1 = ('good>bad','T', ['Group_{1}','Group_{2}'],[1,-1])\n",
    "con2 = ('bad>good','T', ['Group_{1}','Group_{2}'],[-1,1])\n",
    "con_list = [con1, con2]\n",
    "contrast.inputs.contrasts = con_list\n",
    "contrast.inputs.group_contrast = True\n",
    "\n",
    "threshold = MapNode(Threshold(\n",
    "    contrast_index=1,\n",
    "    use_topo_fdr=True,\n",
    "    use_fwe_correction=False,\n",
    "    extent_threshold=0,\n",
    "    height_threshold=0.05,\n",
    "    height_threshold_type='p-value',\n",
    "    extent_fdr_p_threshold=0.05), name='thres', iterfield=['stat_image'])\n",
    "\n",
    "wf.connect([\n",
    "    (ttest, model, [('spm_mat_file', 'spm_mat_file')]),\n",
    "    (model, contrast, [('spm_mat_file', 'spm_mat_file'), ('beta_images', 'beta_images'), ('residual_image', 'residual_image')]),\n",
    "    (contrast, threshold, [('spm_mat_file', 'spm_mat_file'), ('spmT_images', 'stat_image')])\n",
    "])\n",
    "\n",
    "wf.run()"
   ]
  }
 ],
 "metadata": {
  "kernelspec": {
   "display_name": "Python 3",
   "language": "python",
   "name": "python3"
  },
  "language_info": {
   "codemirror_mode": {
    "name": "ipython",
    "version": 3
   },
   "file_extension": ".py",
   "mimetype": "text/x-python",
   "name": "python",
   "nbconvert_exporter": "python",
   "pygments_lexer": "ipython3",
   "version": "3.10.9"
  },
  "orig_nbformat": 4
 },
 "nbformat": 4,
 "nbformat_minor": 2
}
