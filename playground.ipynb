{
 "cells": [
  {
   "cell_type": "code",
   "execution_count": 1,
   "metadata": {},
   "outputs": [],
   "source": [
    "from src.utils.data import getDataPandas, getConfigs\n",
    "from src.dl.loader import PatchDataset\n",
    "import numpy as np\n",
    "from PIL import Image\n",
    "from torchvision.transforms import transforms"
   ]
  },
  {
   "cell_type": "code",
   "execution_count": 2,
   "metadata": {},
   "outputs": [],
   "source": [
    "dataset = PatchDataset()"
   ]
  },
  {
   "cell_type": "code",
   "execution_count": 3,
   "metadata": {},
   "outputs": [],
   "source": [
    "from src.dl.resnet import ModifiedResNet18"
   ]
  },
  {
   "cell_type": "code",
   "execution_count": 4,
   "metadata": {},
   "outputs": [],
   "source": [
    "net = ModifiedResNet18()"
   ]
  },
  {
   "cell_type": "code",
   "execution_count": 5,
   "metadata": {},
   "outputs": [],
   "source": [
    "from torch import nn\n",
    "from torch.utils.data import DataLoader\n",
    "import torch"
   ]
  },
  {
   "cell_type": "code",
   "execution_count": 6,
   "metadata": {},
   "outputs": [],
   "source": [
    "loss_fn = nn.MSELoss()\n",
    "lr = 1e-3\n",
    "optim = torch.optim.SGD(net.parameters(), lr=lr)\n",
    "epoch = 10\n",
    "dataloader = DataLoader(dataset, 64)"
   ]
  },
  {
   "cell_type": "code",
   "execution_count": 15,
   "metadata": {},
   "outputs": [
    {
     "name": "stdout",
     "output_type": "stream",
     "text": [
      "train time 100, loss 0.11868263781070709\n",
      "train time 200, loss 0.08522452414035797\n",
      "train time 300, loss 0.23171934485435486\n",
      "train time 400, loss 0.17499026656150818\n",
      "train time 500, loss 0.27915510535240173\n",
      "train time 600, loss 0.5751475095748901\n",
      "train time 700, loss 0.04759899899363518\n",
      "train time 800, loss 0.1530655026435852\n",
      "train time 900, loss 0.14985662698745728\n",
      "train time 1000, loss 0.08534294366836548\n",
      "train time 1100, loss 0.2730432450771332\n",
      "train time 1200, loss 0.02810480073094368\n",
      "train time 1300, loss 0.05090307071805\n",
      "train time 1400, loss 0.0378614217042923\n",
      "train time 1500, loss 0.028026876971125603\n",
      "train time 1600, loss 0.05298358574509621\n",
      "train time 1700, loss 0.04872584342956543\n",
      "train time 1800, loss 0.023264193907380104\n",
      "train time 1900, loss 0.017959723249077797\n",
      "train time 2000, loss 0.022855177521705627\n",
      "train time 2100, loss 0.13389170169830322\n",
      "train time 2200, loss 0.021230168640613556\n",
      "train time 2300, loss 0.038739416748285294\n",
      "train time 2400, loss 0.01135700661689043\n",
      "train time 2500, loss 0.01828152872622013\n",
      "train time 2600, loss 0.12111330032348633\n",
      "train time 2700, loss 0.03353522717952728\n",
      "train time 2800, loss 0.4611569046974182\n",
      "train time 2900, loss 0.007340922020375729\n",
      "train time 3000, loss 0.03180321305990219\n"
     ]
    },
    {
     "ename": "KeyboardInterrupt",
     "evalue": "",
     "output_type": "error",
     "traceback": [
      "\u001b[1;31m---------------------------------------------------------------------------\u001b[0m",
      "\u001b[1;31mKeyboardInterrupt\u001b[0m                         Traceback (most recent call last)",
      "Cell \u001b[1;32mIn [15], line 8\u001b[0m\n\u001b[0;32m      5\u001b[0m loss \u001b[39m=\u001b[39m loss_fn(output\u001b[39m.\u001b[39mfloat(), score\u001b[39m.\u001b[39mfloat())\n\u001b[0;32m      7\u001b[0m optim\u001b[39m.\u001b[39mzero_grad()\n\u001b[1;32m----> 8\u001b[0m loss\u001b[39m.\u001b[39;49mbackward()\n\u001b[0;32m      9\u001b[0m optim\u001b[39m.\u001b[39mstep()\n\u001b[0;32m     11\u001b[0m train_step \u001b[39m=\u001b[39m \u001b[39mlen\u001b[39m(dataloader) \u001b[39m*\u001b[39m i \u001b[39m+\u001b[39m step \u001b[39m+\u001b[39m \u001b[39m1\u001b[39m\n",
      "File \u001b[1;32md:\\scoop\\apps\\pyenv\\current\\pyenv-win\\versions\\3.8.10\\lib\\site-packages\\torch\\_tensor.py:487\u001b[0m, in \u001b[0;36mTensor.backward\u001b[1;34m(self, gradient, retain_graph, create_graph, inputs)\u001b[0m\n\u001b[0;32m    477\u001b[0m \u001b[39mif\u001b[39;00m has_torch_function_unary(\u001b[39mself\u001b[39m):\n\u001b[0;32m    478\u001b[0m     \u001b[39mreturn\u001b[39;00m handle_torch_function(\n\u001b[0;32m    479\u001b[0m         Tensor\u001b[39m.\u001b[39mbackward,\n\u001b[0;32m    480\u001b[0m         (\u001b[39mself\u001b[39m,),\n\u001b[1;32m   (...)\u001b[0m\n\u001b[0;32m    485\u001b[0m         inputs\u001b[39m=\u001b[39minputs,\n\u001b[0;32m    486\u001b[0m     )\n\u001b[1;32m--> 487\u001b[0m torch\u001b[39m.\u001b[39;49mautograd\u001b[39m.\u001b[39;49mbackward(\n\u001b[0;32m    488\u001b[0m     \u001b[39mself\u001b[39;49m, gradient, retain_graph, create_graph, inputs\u001b[39m=\u001b[39;49minputs\n\u001b[0;32m    489\u001b[0m )\n",
      "File \u001b[1;32md:\\scoop\\apps\\pyenv\\current\\pyenv-win\\versions\\3.8.10\\lib\\site-packages\\torch\\autograd\\__init__.py:197\u001b[0m, in \u001b[0;36mbackward\u001b[1;34m(tensors, grad_tensors, retain_graph, create_graph, grad_variables, inputs)\u001b[0m\n\u001b[0;32m    192\u001b[0m     retain_graph \u001b[39m=\u001b[39m create_graph\n\u001b[0;32m    194\u001b[0m \u001b[39m# The reason we repeat same the comment below is that\u001b[39;00m\n\u001b[0;32m    195\u001b[0m \u001b[39m# some Python versions print out the first line of a multi-line function\u001b[39;00m\n\u001b[0;32m    196\u001b[0m \u001b[39m# calls in the traceback and some print out the last line\u001b[39;00m\n\u001b[1;32m--> 197\u001b[0m Variable\u001b[39m.\u001b[39;49m_execution_engine\u001b[39m.\u001b[39;49mrun_backward(  \u001b[39m# Calls into the C++ engine to run the backward pass\u001b[39;49;00m\n\u001b[0;32m    198\u001b[0m     tensors, grad_tensors_, retain_graph, create_graph, inputs,\n\u001b[0;32m    199\u001b[0m     allow_unreachable\u001b[39m=\u001b[39;49m\u001b[39mTrue\u001b[39;49;00m, accumulate_grad\u001b[39m=\u001b[39;49m\u001b[39mTrue\u001b[39;49;00m)\n",
      "\u001b[1;31mKeyboardInterrupt\u001b[0m: "
     ]
    }
   ],
   "source": [
    "for i in range(epoch):\n",
    "    net.train()\n",
    "    for step, [img, labels, score] in enumerate(dataloader):\n",
    "        output = net(img, labels).squeeze(-1)\n",
    "        loss = loss_fn(output.float(), score.float())\n",
    "        \n",
    "        optim.zero_grad()\n",
    "        loss.backward()\n",
    "        optim.step()\n",
    "        \n",
    "        train_step = len(dataloader) * i + step + 1\n",
    "        if train_step % 100 == 0:\n",
    "            print(\"train time {}, loss {}\".format(train_step, loss.item()))"
   ]
  }
 ],
 "metadata": {
  "kernelspec": {
   "display_name": "Python 3.8.10 64-bit ('3.8.10')",
   "language": "python",
   "name": "python3"
  },
  "language_info": {
   "codemirror_mode": {
    "name": "ipython",
    "version": 3
   },
   "file_extension": ".py",
   "mimetype": "text/x-python",
   "name": "python",
   "nbconvert_exporter": "python",
   "pygments_lexer": "ipython3",
   "version": "3.8.10"
  },
  "orig_nbformat": 4,
  "vscode": {
   "interpreter": {
    "hash": "420353a47962bc0cada1a6173771095a3d05bd8a3ecc61a5b633bf029926f1ac"
   }
  }
 },
 "nbformat": 4,
 "nbformat_minor": 2
}
